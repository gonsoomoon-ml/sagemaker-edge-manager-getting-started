{
 "cells": [
  {
   "cell_type": "markdown",
   "metadata": {},
   "source": [
    "We need an AWS account role with SageMaker access. This role is used to give SageMaker access to S3, launch an EC2 instance and send command with Systems Manager."
   ]
  },
  {
   "cell_type": "code",
   "execution_count": 29,
   "metadata": {},
   "outputs": [],
   "source": [
    "import sagemaker\n",
    "from sagemaker import get_execution_role\n",
    "import boto3\n",
    "import botocore\n",
    "import json\n",
    "\n",
    "role = get_execution_role()\n",
    "sess = sagemaker.Session()\n",
    "region = boto3.Session().region_name"
   ]
  },
  {
   "cell_type": "code",
   "execution_count": 30,
   "metadata": {},
   "outputs": [
    {
     "name": "stdout",
     "output_type": "stream",
     "text": [
      "instance_id:  i-0aabb20c139dde1af\n"
     ]
    }
   ],
   "source": [
    "%store -r\n",
    "print(\"instance_id: \", instance_id)"
   ]
  },
  {
   "cell_type": "code",
   "execution_count": 4,
   "metadata": {},
   "outputs": [],
   "source": [
    "# S3 bucket and folders for saving model artifacts.\n",
    "# Feel free to specify different bucket/folders here if you wish.\n",
    "folder = 'DEMO-Sandbox-Sagemaker-Edge'\n",
    "compilation_output_sub_folder = folder + '/compilation-output'\n",
    "iot_folder = folder + '/iot'\n",
    "\n",
    "# S3 Location to save the model artifact after compilation\n",
    "s3_compilation_output_location = 's3://{}/{}'.format(bucket, compilation_output_sub_folder)"
   ]
  },
  {
   "cell_type": "markdown",
   "metadata": {},
   "source": [
    "Finally we upload the test image to S3 bucket. This image will be used in inference later."
   ]
  },
  {
   "cell_type": "markdown",
   "metadata": {},
   "source": [
    "## Inference on Edge"
   ]
  },
  {
   "cell_type": "markdown",
   "metadata": {},
   "source": [
    "In our example, we will use [AWS Systems Manager](https://docs.aws.amazon.com/systems-manager/latest/userguide/ssm-agent.html) to remotely perform actions on the EC2 instance. To see the SSM logs from CloudWatch, refer to [Install CouldWatch Agent](#(Optional)Install-CloudWatch-Agent). \n",
    "\n",
    "Executive status of send command is available in [AWS Systems Manager console](https://console.aws.amazon.com/systems-manager/run-command/complete-commands) command history."
   ]
  },
  {
   "cell_type": "code",
   "execution_count": 5,
   "metadata": {},
   "outputs": [],
   "source": [
    "ssm_client = boto3.client('ssm', region_name=region)"
   ]
  },
  {
   "cell_type": "markdown",
   "metadata": {},
   "source": [
    "### Setup Sagemaker Edge Manager Agent"
   ]
  },
  {
   "cell_type": "markdown",
   "metadata": {},
   "source": [
    "Download sagemaker edge manager agent binary exaples to EC2 instance.\n",
    "\n",
    "Please fetch the latest version of binaries from sagemaker edge release bucket. For more information about [Inference engine (Edge Manager agent)](https://docs.aws.amazon.com/sagemaker/latest/dg/edge-device-fleet-about.html)."
   ]
  },
  {
   "cell_type": "code",
   "execution_count": 6,
   "metadata": {},
   "outputs": [],
   "source": [
    "release_bucket_map = {\n",
    "    'armv8' : 'sagemaker-edge-release-store-us-west-2-linux-armv8',\n",
    "    'linux' : 'sagemaker-edge-release-store-us-west-2-linux-x64',\n",
    "    'win64' : 'sagemaker-edge-release-store-us-west-2-windows-x64',\n",
    "    'win32' : 'sagemaker-edge-release-store-us-west-2-windows-x86',\n",
    "}"
   ]
  },
  {
   "cell_type": "code",
   "execution_count": 7,
   "metadata": {},
   "outputs": [],
   "source": [
    "# In this example, we will run inference on linux platform\n",
    "release_bucket = release_bucket_map['linux']"
   ]
  },
  {
   "cell_type": "markdown",
   "metadata": {},
   "source": [
    "To download the artifacts, specify the `VERSION`. The `VERSION` is broken into three components: `<MAJOR_VERSION>.<YYYY-MM-DD>-<SHA-7>`, where:\n",
    "\n",
    "- MAJOR_VERSION: The release version. The release version is currently set to 1.\n",
    "\n",
    "- `<YYYY-MM-DD>`: Time stamp of the artifacts release.\n",
    "\n",
    "- SHA-7: repository commit ID the release is built from.\n",
    "\n",
    "We suggest you use the latest artifact release time stamp. Use the following to get the latest time stamp."
   ]
  },
  {
   "cell_type": "code",
   "execution_count": 8,
   "metadata": {},
   "outputs": [
    {
     "name": "stdout",
     "output_type": "stream",
     "text": [
      "                           PRE 1.20210305.a4bc999/\n",
      "                           PRE 1.20201218.81f481f/\n",
      "                           PRE 1.20201207.02d0e97/\n",
      "2020-12-02 07:31:22          0 \n"
     ]
    }
   ],
   "source": [
    "!aws s3 ls s3://$release_bucket/Releases/ | sort -r"
   ]
  },
  {
   "cell_type": "code",
   "execution_count": 9,
   "metadata": {},
   "outputs": [],
   "source": [
    "version = \"1.20210305.a4bc999\""
   ]
  },
  {
   "cell_type": "code",
   "execution_count": 12,
   "metadata": {},
   "outputs": [],
   "source": [
    "response = ssm_client.send_command(\n",
    "    InstanceIds=[instance_id],\n",
    "    DocumentName=\"AWS-RunShellScript\",\n",
    "    OutputS3BucketName=bucket,\n",
    "    OutputS3KeyPrefix=folder,\n",
    "    Parameters={\n",
    "        'commands':[\n",
    "            \"#!/bin/bash\",\n",
    "            \"mkdir /demo\",\n",
    "            \"aws s3 cp s3://{}/Releases/{}/{}.tgz demo.tgz\".format(release_bucket, version, version),\n",
    "            \"tar -xf demo.tgz -C /demo\",\n",
    "            \"cd /demo/bin\",\n",
    "            \"chmod +x sagemaker_edge_agent_binary\",\n",
    "            \"chmod +x sagemaker_edge_agent_client_example\"\n",
    "        ]\n",
    "    }\n",
    ")"
   ]
  },
  {
   "cell_type": "code",
   "execution_count": 14,
   "metadata": {},
   "outputs": [
    {
     "data": {
      "text/plain": [
       "{'CommandId': '7ff3e274-b16f-4a03-8d28-9730cfc4895b',\n",
       " 'InstanceId': 'i-0aabb20c139dde1af',\n",
       " 'Comment': '',\n",
       " 'DocumentName': 'AWS-RunShellScript',\n",
       " 'DocumentVersion': '',\n",
       " 'PluginName': 'aws:runShellScript',\n",
       " 'ResponseCode': 0,\n",
       " 'ExecutionStartDateTime': '2021-03-21T07:56:00.803Z',\n",
       " 'ExecutionElapsedTime': 'PT6.286S',\n",
       " 'ExecutionEndDateTime': '2021-03-21T07:56:06.803Z',\n",
       " 'Status': 'Success',\n",
       " 'StatusDetails': 'Success',\n",
       " 'StandardOutputContent': 'Completed 256.0 KiB/9.1 MiB (375.4 KiB/s) with 1 file(s) remaining\\rCompleted 512.0 KiB/9.1 MiB (717.0 KiB/s) with 1 file(s) remaining\\rCompleted 768.0 KiB/9.1 MiB (1.0 MiB/s) with 1 file(s) remaining  \\rCompleted 1.0 MiB/9.1 MiB (1.4 MiB/s) with 1 file(s) remaining    \\rCompleted 1.2 MiB/9.1 MiB (1.6 MiB/s) with 1 file(s) remaining    \\rCompleted 1.5 MiB/9.1 MiB (1.9 MiB/s) with 1 file(s) remaining    \\rCompleted 1.6 MiB/9.1 MiB (2.1 MiB/s) with 1 file(s) remaining    \\rCompleted 1.9 MiB/9.1 MiB (2.3 MiB/s) with 1 file(s) remaining    \\rCompleted 2.1 MiB/9.1 MiB (2.7 MiB/s) with 1 file(s) remaining    \\rCompleted 2.4 MiB/9.1 MiB (3.0 MiB/s) with 1 file(s) remaining    \\rCompleted 2.6 MiB/9.1 MiB (3.1 MiB/s) with 1 file(s) remaining    \\rCompleted 2.9 MiB/9.1 MiB (3.4 MiB/s) with 1 file(s) remaining    \\rCompleted 3.1 MiB/9.1 MiB (3.7 MiB/s) with 1 file(s) remaining    \\rCompleted 3.4 MiB/9.1 MiB (3.9 MiB/s) with 1 file(s) remaining    \\rCompleted 3.6 MiB/9.1 MiB (4.2 MiB/s) with 1 file(s) remaining    \\rCompleted 3.9 MiB/9.1 MiB (4.3 MiB/s) with 1 file(s) remaining    \\rCompleted 4.1 MiB/9.1 MiB (4.6 MiB/s) with 1 file(s) remaining    \\rCompleted 4.4 MiB/9.1 MiB (4.9 MiB/s) with 1 file(s) remaining    \\rCompleted 4.6 MiB/9.1 MiB (5.1 MiB/s) with 1 file(s) remaining    \\rCompleted 4.9 MiB/9.1 MiB (5.4 MiB/s) with 1 file(s) remaining    \\rCompleted 5.1 MiB/9.1 MiB (5.7 MiB/s) with 1 file(s) remaining    \\rCompleted 5.4 MiB/9.1 MiB (5.7 MiB/s) with 1 file(s) remaining    \\rCompleted 5.6 MiB/9.1 MiB (5.9 MiB/s) with 1 file(s) remaining    \\rCompleted 5.9 MiB/9.1 MiB (6.2 MiB/s) with 1 file(s) remaining    \\rCompleted 6.1 MiB/9.1 MiB (6.4 MiB/s) with 1 file(s) remaining    \\rCompleted 6.4 MiB/9.1 MiB (6.7 MiB/s) with 1 file(s) remaining    \\rCompleted 6.6 MiB/9.1 MiB (7.0 MiB/s) with 1 file(s) remaining    \\rCompleted 6.9 MiB/9.1 MiB (6.9 MiB/s) with 1 file(s) remaining    \\rCompleted 7.1 MiB/9.1 MiB (7.2 MiB/s) with 1 file(s) remaining    \\rCompleted 7.4 MiB/9.1 MiB (7.4 MiB/s) with 1 file(s) remaining    \\rCompleted 7.6 MiB/9.1 MiB (7.6 MiB/s) with 1 file(s) remaining    \\rCompleted 7.9 MiB/9.1 MiB (7.9 MiB/s) with 1 file(s) remaining    \\rCompleted 8.1 MiB/9.1 MiB (8.1 MiB/s) with 1 file(s) remaining    \\rCompleted 8.4 MiB/9.1 MiB (8.1 MiB/s) with 1 file(s) remaining    \\rCompleted 8.6 MiB/9.1 MiB (8.3 MiB/s) with 1 file(s) remaining    \\rCompleted 8.9 MiB/9.1 MiB (8.5 MiB/s) with 1 file(s) remaining    \\rCompleted 9.1 MiB/9.1 MiB (8.7 MiB/s) with 1 file(s) remaining    \\rdownload: s3://sagemaker-edge-release-store-us-west-2-linux-x64/Releases/1.20210305.a4bc999/1.20210305.a4bc999.tgz to ./demo.tgz\\n',\n",
       " 'StandardOutputUrl': 'https://s3.us-east-2.amazonaws.com/sagemaker-us-east-2-057716757052/DEMO-Sandbox-Sagemaker-Edge/7ff3e274-b16f-4a03-8d28-9730cfc4895b/i-0aabb20c139dde1af/awsrunShellScript/0.awsrunShellScript/stdout',\n",
       " 'StandardErrorContent': '',\n",
       " 'StandardErrorUrl': 'https://s3.us-east-2.amazonaws.com/sagemaker-us-east-2-057716757052/DEMO-Sandbox-Sagemaker-Edge/7ff3e274-b16f-4a03-8d28-9730cfc4895b/i-0aabb20c139dde1af/awsrunShellScript/0.awsrunShellScript/stderr',\n",
       " 'CloudWatchOutputConfig': {'CloudWatchLogGroupName': '',\n",
       "  'CloudWatchOutputEnabled': False},\n",
       " 'ResponseMetadata': {'RequestId': '1327cb0e-6e9d-4985-bc06-f1f7b8c33dd3',\n",
       "  'HTTPStatusCode': 200,\n",
       "  'HTTPHeaders': {'server': 'Server',\n",
       "   'date': 'Sun, 21 Mar 2021 07:57:53 GMT',\n",
       "   'content-type': 'application/x-amz-json-1.1',\n",
       "   'content-length': '3614',\n",
       "   'connection': 'keep-alive',\n",
       "   'x-amzn-requestid': '1327cb0e-6e9d-4985-bc06-f1f7b8c33dd3'},\n",
       "  'RetryAttempts': 0}}"
      ]
     },
     "execution_count": 14,
     "metadata": {},
     "output_type": "execute_result"
    }
   ],
   "source": [
    "ssm_client.get_command_invocation(\n",
    "    CommandId=response['Command']['CommandId'],\n",
    "    InstanceId=instance_id,\n",
    ")"
   ]
  },
  {
   "cell_type": "markdown",
   "metadata": {},
   "source": [
    "## EC2를 SSH 로 접근\n",
    "![EC2SSHAccess.png](img/EC2SSHAccess.png)\n"
   ]
  },
  {
   "cell_type": "code",
   "execution_count": null,
   "metadata": {},
   "outputs": [],
   "source": []
  },
  {
   "cell_type": "markdown",
   "metadata": {},
   "source": [
    "Get model signing root certificates from release bucket."
   ]
  },
  {
   "cell_type": "code",
   "execution_count": 15,
   "metadata": {},
   "outputs": [],
   "source": [
    "response = ssm_client.send_command(\n",
    "    InstanceIds=[instance_id],\n",
    "    DocumentName=\"AWS-RunShellScript\",\n",
    "    OutputS3BucketName=bucket,\n",
    "    OutputS3KeyPrefix=folder,\n",
    "    Parameters={\n",
    "        'commands':[\n",
    "            \"#!/bin/bash\",\n",
    "            \"cd /demo\",\n",
    "            \"mkdir certificates\",\n",
    "            \"aws s3 cp s3://{}/Certificates/{}/{}.pem certificates\".format(release_bucket, region, region)\n",
    "        ]\n",
    "    }\n",
    ")"
   ]
  },
  {
   "cell_type": "code",
   "execution_count": 17,
   "metadata": {},
   "outputs": [
    {
     "data": {
      "text/plain": [
       "{'CommandId': '14089667-1da2-4c31-b307-e3a36c534d77',\n",
       " 'InstanceId': 'i-0aabb20c139dde1af',\n",
       " 'Comment': '',\n",
       " 'DocumentName': 'AWS-RunShellScript',\n",
       " 'DocumentVersion': '',\n",
       " 'PluginName': 'aws:runShellScript',\n",
       " 'ResponseCode': 0,\n",
       " 'ExecutionStartDateTime': '2021-03-21T08:16:18.679Z',\n",
       " 'ExecutionElapsedTime': 'PT1.747S',\n",
       " 'ExecutionEndDateTime': '2021-03-21T08:16:19.679Z',\n",
       " 'Status': 'Success',\n",
       " 'StatusDetails': 'Success',\n",
       " 'StandardOutputContent': 'Completed 1.3 KiB/1.3 KiB (2.9 KiB/s) with 1 file(s) remaining\\rdownload: s3://sagemaker-edge-release-store-us-west-2-linux-x64/Certificates/us-east-2/us-east-2.pem to certificates/us-east-2.pem\\n',\n",
       " 'StandardOutputUrl': 'https://s3.us-east-2.amazonaws.com/sagemaker-us-east-2-057716757052/DEMO-Sandbox-Sagemaker-Edge/14089667-1da2-4c31-b307-e3a36c534d77/i-0aabb20c139dde1af/awsrunShellScript/0.awsrunShellScript/stdout',\n",
       " 'StandardErrorContent': '',\n",
       " 'StandardErrorUrl': 'https://s3.us-east-2.amazonaws.com/sagemaker-us-east-2-057716757052/DEMO-Sandbox-Sagemaker-Edge/14089667-1da2-4c31-b307-e3a36c534d77/i-0aabb20c139dde1af/awsrunShellScript/0.awsrunShellScript/stderr',\n",
       " 'CloudWatchOutputConfig': {'CloudWatchLogGroupName': '',\n",
       "  'CloudWatchOutputEnabled': False},\n",
       " 'ResponseMetadata': {'RequestId': 'd8557fcf-b73a-443c-9b2a-5f36c58c1ef1',\n",
       "  'HTTPStatusCode': 200,\n",
       "  'HTTPHeaders': {'server': 'Server',\n",
       "   'date': 'Sun, 21 Mar 2021 08:16:49 GMT',\n",
       "   'content-type': 'application/x-amz-json-1.1',\n",
       "   'content-length': '1164',\n",
       "   'connection': 'keep-alive',\n",
       "   'x-amzn-requestid': 'd8557fcf-b73a-443c-9b2a-5f36c58c1ef1'},\n",
       "  'RetryAttempts': 0}}"
      ]
     },
     "execution_count": 17,
     "metadata": {},
     "output_type": "execute_result"
    }
   ],
   "source": [
    "ssm_client.get_command_invocation(\n",
    "    CommandId=response['Command']['CommandId'],\n",
    "    InstanceId=instance_id,\n",
    ")"
   ]
  },
  {
   "cell_type": "markdown",
   "metadata": {},
   "source": [
    "Download IoT certificates and private key to EC2 instance. Download models and test images to EC2 instance."
   ]
  },
  {
   "cell_type": "code",
   "execution_count": 20,
   "metadata": {},
   "outputs": [
    {
     "name": "stdout",
     "output_type": "stream",
     "text": [
      "s3://sagemaker-us-east-2-057716757052/DEMO-Sandbox-Sagemaker-Edge/iot/AmazonRootCA1.pem\n",
      "s3://sagemaker-us-east-2-057716757052/DEMO-Sandbox-Sagemaker-Edge/iot/iot.pem.crt\n",
      "s3://sagemaker-us-east-2-057716757052/DEMO-Sandbox-Sagemaker-Edge/iot/iot_key.pem.key\n",
      "s3://sagemaker-us-east-2-057716757052/DEMO-Sandbox-Sagemaker-Edge/iot/keras.bmp\n",
      "s3://sagemaker-us-east-2-057716757052/DEMO-Sandbox-Sagemaker-Edge/compilation-output/keras-model-1.0.tar.gz\n",
      "keras-model-1.0.tar.gz\n"
     ]
    }
   ],
   "source": [
    "print(root_ca_path)\n",
    "print(device_cert_path)\n",
    "print(device_key_path)\n",
    "print(keras_img_path)\n",
    "print(keras_model_data)\n",
    "print(keras_model_package)"
   ]
  },
  {
   "cell_type": "code",
   "execution_count": 21,
   "metadata": {},
   "outputs": [],
   "source": [
    "response = ssm_client.send_command(\n",
    "    InstanceIds=[instance_id],\n",
    "    DocumentName=\"AWS-RunShellScript\",\n",
    "    OutputS3BucketName=bucket,\n",
    "    OutputS3KeyPrefix=folder,\n",
    "    Parameters={\n",
    "        'commands':[\n",
    "            \"#!/bin/bash\",\n",
    "            \"cd /demo\",\n",
    "            \"mkdir iot-credentials\",\n",
    "            \"cd iot-credentials\",\n",
    "            \"aws s3 cp \" + root_ca_path + \" .\",  \n",
    "            \"aws s3 cp \" + device_cert_path + \" .\",\n",
    "            \"aws s3 cp \" + device_key_path + \" .\",\n",
    "            \"cd /demo\",\n",
    "            \"aws s3 cp \" + keras_img_path + \" .\",\n",
    "            \"aws s3 cp \" + keras_model_data + \" .\",\n",
    "            \"mkdir keras_model\",\n",
    "            \"tar -xf \" + keras_model_package + \" -C keras_model\"\n",
    "        ]\n",
    "    }\n",
    ")"
   ]
  },
  {
   "cell_type": "code",
   "execution_count": 22,
   "metadata": {
    "collapsed": true,
    "jupyter": {
     "outputs_hidden": true
    }
   },
   "outputs": [
    {
     "data": {
      "text/plain": [
       "{'CommandId': 'd7bd58fb-1a22-45c2-be86-0a17de240442',\n",
       " 'InstanceId': 'i-0aabb20c139dde1af',\n",
       " 'Comment': '',\n",
       " 'DocumentName': 'AWS-RunShellScript',\n",
       " 'DocumentVersion': '',\n",
       " 'PluginName': 'aws:runShellScript',\n",
       " 'ResponseCode': 0,\n",
       " 'ExecutionStartDateTime': '2021-03-21T08:21:15.578Z',\n",
       " 'ExecutionElapsedTime': 'PT3.273S',\n",
       " 'ExecutionEndDateTime': '2021-03-21T08:21:18.578Z',\n",
       " 'Status': 'Success',\n",
       " 'StatusDetails': 'Success',\n",
       " 'StandardOutputContent': 'Completed 1.2 KiB/1.2 KiB (14.7 KiB/s) with 1 file(s) remaining\\rdownload: s3://sagemaker-us-east-2-057716757052/DEMO-Sandbox-Sagemaker-Edge/iot/AmazonRootCA1.pem to ./AmazonRootCA1.pem\\nCompleted 1.2 KiB/1.2 KiB (21.5 KiB/s) with 1 file(s) remaining\\rdownload: s3://sagemaker-us-east-2-057716757052/DEMO-Sandbox-Sagemaker-Edge/iot/iot.pem.crt to ./iot.pem.crt\\nCompleted 1.6 KiB/1.6 KiB (21.3 KiB/s) with 1 file(s) remaining\\rdownload: s3://sagemaker-us-east-2-057716757052/DEMO-Sandbox-Sagemaker-Edge/iot/iot_key.pem.key to ./iot_key.pem.key\\nCompleted 147.1 KiB/147.1 KiB (1.9 MiB/s) with 1 file(s) remaining\\rdownload: s3://sagemaker-us-east-2-057716757052/DEMO-Sandbox-Sagemaker-Edge/iot/keras.bmp to ./keras.bmp\\nCompleted 256.0 KiB/13.3 MiB (2.1 MiB/s) with 1 file(s) remaining\\rCompleted 512.0 KiB/13.3 MiB (4.1 MiB/s) with 1 file(s) remaining\\rCompleted 768.0 KiB/13.3 MiB (6.0 MiB/s) with 1 file(s) remaining\\rCompleted 1.0 MiB/13.3 MiB (7.9 MiB/s) with 1 file(s) remaining  \\rCompleted 1.2 MiB/13.3 MiB (9.7 MiB/s) with 1 file(s) remaining  \\rCompleted 1.5 MiB/13.3 MiB (11.6 MiB/s) with 1 file(s) remaining \\rCompleted 1.8 MiB/13.3 MiB (13.3 MiB/s) with 1 file(s) remaining \\rCompleted 2.0 MiB/13.3 MiB (15.1 MiB/s) with 1 file(s) remaining \\rCompleted 2.2 MiB/13.3 MiB (16.7 MiB/s) with 1 file(s) remaining \\rCompleted 2.5 MiB/13.3 MiB (18.4 MiB/s) with 1 file(s) remaining \\rCompleted 2.8 MiB/13.3 MiB (20.0 MiB/s) with 1 file(s) remaining \\rCompleted 3.0 MiB/13.3 MiB (21.6 MiB/s) with 1 file(s) remaining \\rCompleted 3.2 MiB/13.3 MiB (23.2 MiB/s) with 1 file(s) remaining \\rCompleted 3.5 MiB/13.3 MiB (24.8 MiB/s) with 1 file(s) remaining \\rCompleted 3.8 MiB/13.3 MiB (26.1 MiB/s) with 1 file(s) remaining \\rCompleted 4.0 MiB/13.3 MiB (27.6 MiB/s) with 1 file(s) remaining \\rCompleted 4.2 MiB/13.3 MiB (29.1 MiB/s) with 1 file(s) remaining \\rCompleted 4.5 MiB/13.3 MiB (30.5 MiB/s) with 1 file(s) remaining \\rCompleted 4.8 MiB/13.3 MiB (31.8 MiB/s) with 1 file(s) remaining \\rCompleted 5.0 MiB/13.3 MiB (33.1 MiB/s) with 1 file(s) remaining \\rCompleted 5.2 MiB/13.3 MiB (34.4 MiB/s) with 1 file(s) remaining \\rCompleted 5.5 MiB/13.3 MiB (35.9 MiB/s) with 1 file(s) remaining \\rCompleted 5.8 MiB/13.3 MiB (37.1 MiB/s) with 1 file(s) remaining \\rCompleted 6.0 MiB/13.3 MiB (38.4 MiB/s) with 1 file(s) remaining \\rCompleted 6.2 MiB/13.3 MiB (39.6 MiB/s) with 1 file(s) remaining \\rCompleted 6.5 MiB/13.3 MiB (40.8 MiB/s) with 1 file(s) remaining \\rCompleted 6.8 MiB/13.3 MiB (42.1 MiB/s) with 1 file(s) remaining \\rCompleted 7.0 MiB/13.3 MiB (43.4 MiB/s) with 1 file(s) remaining \\rCompleted 7.2 MiB/13.3 MiB (44.6 MiB/s) with 1 file(s) remaining \\rCompleted 7.5 MiB/13.3 MiB (45.6 MiB/s) with 1 file(s) remaining \\rCompleted 7.8 MiB/13.3 MiB (46.7 MiB/s) with 1 file(s) remaining \\rCompleted 8.0 MiB/13.3 MiB (47.8 MiB/s) with 1 file(s) remaining \\rCompleted 8.2 MiB/13.3 MiB (48.9 MiB/s) with 1 file(s) remaining \\rCompleted 8.5 MiB/13.3 MiB (49.9 MiB/s) with 1 file(s) remaining \\rCompleted 8.8 MiB/13.3 MiB (51.1 MiB/s) with 1 file(s) remaining \\rCompleted 9.0 MiB/13.3 MiB (52.2 MiB/s) with 1 file(s) remaining \\rCompleted 9.2 MiB/13.3 MiB (53.3 MiB/s) with 1 file(s) remaining \\rCompleted 9.5 MiB/13.3 MiB (54.3 MiB/s) with 1 file(s) remaining \\rCompleted 9.8 MiB/13.3 MiB (55.4 MiB/s) with 1 file(s) remaining \\rCompleted 10.0 MiB/13.3 MiB (56.3 MiB/s) with 1 file(s) remaining\\rCompleted 10.2 MiB/13.3 MiB (57.3 MiB/s) with 1 file(s) remaining\\rCompleted 10.5 MiB/13.3 MiB (58.5 MiB/s) with 1 file(s) remaining\\rCompleted 10.8 MiB/13.3 MiB (59.4 MiB/s) with 1 file(s) remaining\\rCompleted 11.0 MiB/13.3 MiB (60.5 MiB/s) with 1 file(s) remaining\\rCompleted 11.2 MiB/13.3 MiB (61.5 MiB/s) with 1 file(s) remaining\\rCompleted 11.5 MiB/13.3 MiB (62.5 MiB/s) with 1 file(s) remaining\\rCompleted 11.8 MiB/13.3 MiB (63.5 MiB/s) with 1 file(s) remaining\\rCompleted 12.0 MiB/13.3 MiB (64.5 MiB/s) with 1 file(s) remaining\\rCompleted 12.2 MiB/13.3 MiB (65.5 MiB/s) with 1 file(s) remaining\\rCompleted 12.5 MiB/13.3 MiB (66.6 MiB/s) with 1 file(s) remaining\\rCompleted 12.8 MiB/13.3 MiB (61.3 MiB/s) with 1 file(s) remaining\\rCompleted 13.0 MiB/13.3 MiB (62.0 MiB/s) with 1 file(s) remaining\\rCompleted 13.2 MiB/13.3 MiB (62.9 MiB/s) with 1 file(s) remaining\\rCompleted 13.3 MiB/13.3 MiB (62.8 MiB/s) with 1 file(s) remaining\\rdownload: s3://sagemaker-us-east-2-057716757052/DEMO-Sandbox-Sagemaker-Edge/compilation-output/keras-model-1.0.tar.gz to ./keras-model-1.0.tar.gz\\n',\n",
       " 'StandardOutputUrl': 'https://s3.us-east-2.amazonaws.com/sagemaker-us-east-2-057716757052/DEMO-Sandbox-Sagemaker-Edge/d7bd58fb-1a22-45c2-be86-0a17de240442/i-0aabb20c139dde1af/awsrunShellScript/0.awsrunShellScript/stdout',\n",
       " 'StandardErrorContent': '',\n",
       " 'StandardErrorUrl': 'https://s3.us-east-2.amazonaws.com/sagemaker-us-east-2-057716757052/DEMO-Sandbox-Sagemaker-Edge/d7bd58fb-1a22-45c2-be86-0a17de240442/i-0aabb20c139dde1af/awsrunShellScript/0.awsrunShellScript/stderr',\n",
       " 'CloudWatchOutputConfig': {'CloudWatchLogGroupName': '',\n",
       "  'CloudWatchOutputEnabled': False},\n",
       " 'ResponseMetadata': {'RequestId': '558bcf69-767d-4787-b684-04c78b11bf34',\n",
       "  'HTTPStatusCode': 200,\n",
       "  'HTTPHeaders': {'server': 'Server',\n",
       "   'date': 'Sun, 21 Mar 2021 08:21:20 GMT',\n",
       "   'content-type': 'application/x-amz-json-1.1',\n",
       "   'content-length': '5452',\n",
       "   'connection': 'keep-alive',\n",
       "   'x-amzn-requestid': '558bcf69-767d-4787-b684-04c78b11bf34'},\n",
       "  'RetryAttempts': 0}}"
      ]
     },
     "execution_count": 22,
     "metadata": {},
     "output_type": "execute_result"
    }
   ],
   "source": [
    "ssm_client.get_command_invocation(\n",
    "    CommandId=response['Command']['CommandId'],\n",
    "    InstanceId=instance_id,\n",
    ")"
   ]
  },
  {
   "cell_type": "markdown",
   "metadata": {},
   "source": [
    "#### Configure sagemaker edge manager agent\n",
    "\n",
    "Generate sagemaker edge agent configuration file. "
   ]
  },
  {
   "cell_type": "code",
   "execution_count": 31,
   "metadata": {},
   "outputs": [
    {
     "name": "stdout",
     "output_type": "stream",
     "text": [
      "device_name:  sagemaker-edge-demo-device1616312380\n",
      "device_fleet_name:  demo2device2fleet1616312351\n",
      "region:  us-east-2\n",
      "endpoint:  https://c1oc04uiwvbz1s.credentials.iot.us-east-2.amazonaws.com/role-aliases/SageMakerEdge-demo2device2fleet1616312351/credentials\n",
      "bucket:  sagemaker-us-east-2-057716757052\n"
     ]
    }
   ],
   "source": [
    "print(\"device_name: \", device_name)\n",
    "print(\"device_fleet_name: \", device_fleet_name)\n",
    "print(\"region: \", region)\n",
    "print(\"endpoint: \", endpoint)\n",
    "print(\"bucket: \", bucket)"
   ]
  },
  {
   "cell_type": "code",
   "execution_count": 32,
   "metadata": {},
   "outputs": [],
   "source": [
    "sagemaker_edge_config = {\n",
    "    \"sagemaker_edge_core_device_uuid\": device_name,\n",
    "    \"sagemaker_edge_core_device_fleet_name\": device_fleet_name,\n",
    "    \"sagemaker_edge_core_capture_data_buffer_size\": 30,\n",
    "    \"sagemaker_edge_core_capture_data_batch_size\": 10,\n",
    "    \"sagemaker_edge_core_capture_data_push_period_seconds\": 4,\n",
    "    \"sagemaker_edge_core_folder_prefix\": \"demo_capture\",\n",
    "    \"sagemaker_edge_core_region\": region,\n",
    "    \"sagemaker_edge_core_root_certs_path\": \"/demo/certificates\",\n",
    "    \"sagemaker_edge_provider_aws_ca_cert_file\": \"/demo/iot-credentials/AmazonRootCA1.pem\",\n",
    "    \"sagemaker_edge_provider_aws_cert_file\": \"/demo/iot-credentials/iot.pem.crt\",\n",
    "    \"sagemaker_edge_provider_aws_cert_pk_file\": \"/demo/iot-credentials/iot_key.pem.key\",\n",
    "    \"sagemaker_edge_provider_aws_iot_cred_endpoint\": endpoint,\n",
    "    \"sagemaker_edge_provider_provider\": \"Aws\",\n",
    "    \"sagemaker_edge_provider_s3_bucket_name\": bucket,\n",
    "    \"sagemaker_edge_core_capture_data_destination\": \"Cloud\"\n",
    "}"
   ]
  },
  {
   "cell_type": "code",
   "execution_count": 33,
   "metadata": {},
   "outputs": [],
   "source": [
    "edge_config_file = open(\"sagemaker_edge_config.json\", \"w\")\n",
    "json.dump(sagemaker_edge_config, edge_config_file, indent = 6)\n",
    "edge_config_file.close()"
   ]
  },
  {
   "cell_type": "code",
   "execution_count": 34,
   "metadata": {},
   "outputs": [
    {
     "name": "stdout",
     "output_type": "stream",
     "text": [
      "{\n",
      "      \"sagemaker_edge_core_device_uuid\": \"sagemaker-edge-demo-device1616312380\",\n",
      "      \"sagemaker_edge_core_device_fleet_name\": \"demo2device2fleet1616312351\",\n",
      "      \"sagemaker_edge_core_capture_data_buffer_size\": 30,\n",
      "      \"sagemaker_edge_core_capture_data_batch_size\": 10,\n",
      "      \"sagemaker_edge_core_capture_data_push_period_seconds\": 4,\n",
      "      \"sagemaker_edge_core_folder_prefix\": \"demo_capture\",\n",
      "      \"sagemaker_edge_core_region\": \"us-east-2\",\n",
      "      \"sagemaker_edge_core_root_certs_path\": \"/demo/certificates\",\n",
      "      \"sagemaker_edge_provider_aws_ca_cert_file\": \"/demo/iot-credentials/AmazonRootCA1.pem\",\n",
      "      \"sagemaker_edge_provider_aws_cert_file\": \"/demo/iot-credentials/iot.pem.crt\",\n",
      "      \"sagemaker_edge_provider_aws_cert_pk_file\": \"/demo/iot-credentials/iot_key.pem.key\",\n",
      "      \"sagemaker_edge_provider_aws_iot_cred_endpoint\": \"https://c1oc04uiwvbz1s.credentials.iot.us-east-2.amazonaws.com/role-aliases/SageMakerEdge-demo2device2fleet1616312351/credentials\",\n",
      "      \"sagemaker_edge_provider_provider\": \"Aws\",\n",
      "      \"sagemaker_edge_provider_s3_bucket_name\": \"sagemaker-us-east-2-057716757052\",\n",
      "      \"sagemaker_edge_core_capture_data_destination\": \"Cloud\"\n",
      "}"
     ]
    }
   ],
   "source": [
    "! head -n100 sagemaker_edge_config.json"
   ]
  },
  {
   "cell_type": "markdown",
   "metadata": {},
   "source": [
    "Upload sagemaker edge agent configure to S3 bucket."
   ]
  },
  {
   "cell_type": "code",
   "execution_count": 35,
   "metadata": {},
   "outputs": [
    {
     "name": "stdout",
     "output_type": "stream",
     "text": [
      "s3://sagemaker-us-east-2-057716757052/DEMO-Sandbox-Sagemaker-Edge/iot/sagemaker_edge_config.json\n"
     ]
    }
   ],
   "source": [
    "config_path = sess.upload_data('sagemaker_edge_config.json', bucket, iot_folder)\n",
    "print(config_path)"
   ]
  },
  {
   "cell_type": "markdown",
   "metadata": {},
   "source": [
    "Download sagemaker edge agent configure file to EC2 instance."
   ]
  },
  {
   "cell_type": "code",
   "execution_count": 36,
   "metadata": {},
   "outputs": [],
   "source": [
    "response = ssm_client.send_command(\n",
    "    InstanceIds=[instance_id],\n",
    "    DocumentName=\"AWS-RunShellScript\",\n",
    "    OutputS3BucketName=bucket,\n",
    "    OutputS3KeyPrefix=folder,\n",
    "    Parameters={\n",
    "        'commands':[\n",
    "            \"#!/bin/bash\",\n",
    "            \"aws s3 cp \" + config_path + ' /demo'\n",
    "        ]\n",
    "    }\n",
    ")"
   ]
  },
  {
   "cell_type": "code",
   "execution_count": 37,
   "metadata": {},
   "outputs": [
    {
     "data": {
      "text/plain": [
       "{'CommandId': 'fb296cf4-7ed7-4db4-8c4e-ce396c2c125c',\n",
       " 'InstanceId': 'i-0aabb20c139dde1af',\n",
       " 'Comment': '',\n",
       " 'DocumentName': 'AWS-RunShellScript',\n",
       " 'DocumentVersion': '',\n",
       " 'PluginName': 'aws:runShellScript',\n",
       " 'ResponseCode': 0,\n",
       " 'ExecutionStartDateTime': '2021-03-21T08:32:33.774Z',\n",
       " 'ExecutionElapsedTime': 'PT0.734S',\n",
       " 'ExecutionEndDateTime': '2021-03-21T08:32:33.774Z',\n",
       " 'Status': 'Success',\n",
       " 'StatusDetails': 'Success',\n",
       " 'StandardOutputContent': 'Completed 1.1 KiB/1.1 KiB (11.6 KiB/s) with 1 file(s) remaining\\rdownload: s3://sagemaker-us-east-2-057716757052/DEMO-Sandbox-Sagemaker-Edge/iot/sagemaker_edge_config.json to ../../../../demo/sagemaker_edge_config.json\\n',\n",
       " 'StandardOutputUrl': 'https://s3.us-east-2.amazonaws.com/sagemaker-us-east-2-057716757052/DEMO-Sandbox-Sagemaker-Edge/fb296cf4-7ed7-4db4-8c4e-ce396c2c125c/i-0aabb20c139dde1af/awsrunShellScript/0.awsrunShellScript/stdout',\n",
       " 'StandardErrorContent': '',\n",
       " 'StandardErrorUrl': 'https://s3.us-east-2.amazonaws.com/sagemaker-us-east-2-057716757052/DEMO-Sandbox-Sagemaker-Edge/fb296cf4-7ed7-4db4-8c4e-ce396c2c125c/i-0aabb20c139dde1af/awsrunShellScript/0.awsrunShellScript/stderr',\n",
       " 'CloudWatchOutputConfig': {'CloudWatchLogGroupName': '',\n",
       "  'CloudWatchOutputEnabled': False},\n",
       " 'ResponseMetadata': {'RequestId': '48119487-fdca-4690-81eb-901e634453e8',\n",
       "  'HTTPStatusCode': 200,\n",
       "  'HTTPHeaders': {'server': 'Server',\n",
       "   'date': 'Sun, 21 Mar 2021 08:32:35 GMT',\n",
       "   'content-type': 'application/x-amz-json-1.1',\n",
       "   'content-length': '1188',\n",
       "   'connection': 'keep-alive',\n",
       "   'x-amzn-requestid': '48119487-fdca-4690-81eb-901e634453e8'},\n",
       "  'RetryAttempts': 0}}"
      ]
     },
     "execution_count": 37,
     "metadata": {},
     "output_type": "execute_result"
    }
   ],
   "source": [
    "ssm_client.get_command_invocation(\n",
    "    CommandId=response['Command']['CommandId'],\n",
    "    InstanceId=instance_id,\n",
    ")"
   ]
  },
  {
   "cell_type": "markdown",
   "metadata": {},
   "source": [
    "### /demo/certificates/us-east-2.pem 변경"
   ]
  },
  {
   "cell_type": "code",
   "execution_count": 39,
   "metadata": {},
   "outputs": [],
   "source": [
    "cert_permission_out = ssm_client.send_command(\n",
    "    InstanceIds=[instance_id],\n",
    "    DocumentName=\"AWS-RunShellScript\",\n",
    "    TimeoutSeconds=24*60*60,\n",
    "    OutputS3BucketName=bucket,\n",
    "    OutputS3KeyPrefix=folder,\n",
    "    Parameters={\n",
    "        'commands':[\n",
    "            \"cd /demo/certificates\",\n",
    "            \"sudo chmod 444 us-east-2.pem\",\n",
    "        ]\n",
    "    }\n",
    ")"
   ]
  },
  {
   "cell_type": "code",
   "execution_count": 40,
   "metadata": {},
   "outputs": [
    {
     "data": {
      "text/plain": [
       "{'CommandId': '338e22c3-9151-4e6b-adcb-b39ac989aae1',\n",
       " 'InstanceId': 'i-0aabb20c139dde1af',\n",
       " 'Comment': '',\n",
       " 'DocumentName': 'AWS-RunShellScript',\n",
       " 'DocumentVersion': '',\n",
       " 'PluginName': 'aws:runShellScript',\n",
       " 'ResponseCode': 0,\n",
       " 'ExecutionStartDateTime': '2021-03-21T08:37:33.555Z',\n",
       " 'ExecutionElapsedTime': 'PT0.044S',\n",
       " 'ExecutionEndDateTime': '2021-03-21T08:37:33.555Z',\n",
       " 'Status': 'Success',\n",
       " 'StatusDetails': 'Success',\n",
       " 'StandardOutputContent': '',\n",
       " 'StandardOutputUrl': 'https://s3.us-east-2.amazonaws.com/sagemaker-us-east-2-057716757052/DEMO-Sandbox-Sagemaker-Edge/338e22c3-9151-4e6b-adcb-b39ac989aae1/i-0aabb20c139dde1af/awsrunShellScript/0.awsrunShellScript/stdout',\n",
       " 'StandardErrorContent': '',\n",
       " 'StandardErrorUrl': 'https://s3.us-east-2.amazonaws.com/sagemaker-us-east-2-057716757052/DEMO-Sandbox-Sagemaker-Edge/338e22c3-9151-4e6b-adcb-b39ac989aae1/i-0aabb20c139dde1af/awsrunShellScript/0.awsrunShellScript/stderr',\n",
       " 'CloudWatchOutputConfig': {'CloudWatchLogGroupName': '',\n",
       "  'CloudWatchOutputEnabled': False},\n",
       " 'ResponseMetadata': {'RequestId': 'e45f13b1-3b3c-444f-a915-fdf390b12f20',\n",
       "  'HTTPStatusCode': 200,\n",
       "  'HTTPHeaders': {'server': 'Server',\n",
       "   'date': 'Sun, 21 Mar 2021 08:37:34 GMT',\n",
       "   'content-type': 'application/x-amz-json-1.1',\n",
       "   'content-length': '968',\n",
       "   'connection': 'keep-alive',\n",
       "   'x-amzn-requestid': 'e45f13b1-3b3c-444f-a915-fdf390b12f20'},\n",
       "  'RetryAttempts': 0}}"
      ]
     },
     "execution_count": 40,
     "metadata": {},
     "output_type": "execute_result"
    }
   ],
   "source": [
    "ssm_client.get_command_invocation(\n",
    "    CommandId=cert_permission_out['Command']['CommandId'],\n",
    "    InstanceId=instance_id,\n",
    ")"
   ]
  },
  {
   "cell_type": "markdown",
   "metadata": {},
   "source": [
    "![Permission2us-ease-2-pem.png](img/Permission2us-ease-2-pem.png)"
   ]
  },
  {
   "cell_type": "markdown",
   "metadata": {},
   "source": [
    "#### Launch Sagemaker Edge Agent"
   ]
  },
  {
   "cell_type": "markdown",
   "metadata": {},
   "source": [
    "```\n",
    "cd /demo\n",
    "rm -f /tmp/sagemaker_edge_agent_example.sock\n",
    "./bin/sagemaker_edge_agent_binary -a /tmp/sagemaker_edge_agent_example.sock -c sagemaker_edge_config.json\n",
    "```\n",
    "![LaunchEdgeAgent.png](img/LaunchEdgeAgent.png)\n"
   ]
  },
  {
   "cell_type": "markdown",
   "metadata": {},
   "source": [
    "## 옵션 (SSM 으로 실행하는 방법)"
   ]
  },
  {
   "cell_type": "code",
   "execution_count": 69,
   "metadata": {},
   "outputs": [],
   "source": [
    "# agent_out = ssm_client.send_command(\n",
    "#     InstanceIds=[instance_id],\n",
    "#     DocumentName=\"AWS-RunShellScript\",\n",
    "#     TimeoutSeconds=24*60*60,\n",
    "#     OutputS3BucketName=bucket,\n",
    "#     OutputS3KeyPrefix=folder,\n",
    "#     Parameters={\n",
    "#         'commands':[\n",
    "#             \"cd /demo\",\n",
    "#             \"rm -f /tmp/sagemaker_edge_agent_example.sock\",\n",
    "#             \"./bin/sagemaker_edge_agent_binary -a /tmp/sagemaker_edge_agent_example.sock -c sagemaker_edge_config.json\" \n",
    "#         ]\n",
    "#     }\n",
    "# )"
   ]
  },
  {
   "cell_type": "code",
   "execution_count": 41,
   "metadata": {},
   "outputs": [],
   "source": [
    "# ssm_client.get_command_invocation(\n",
    "#     CommandId=agent_out['Command']['CommandId'],\n",
    "#     InstanceId=instance_id,\n",
    "# )"
   ]
  },
  {
   "cell_type": "markdown",
   "metadata": {},
   "source": [
    "### Load Model\n",
    "\n",
    "In this section, we show the model management capabilities offered by SageMaker Edge Manager. We will load the two compiled and packaged models with the SageMaker Edge Agent. This keeps both models ready to run inference with. As you will see, once the models are loaded you can run multiple inferences as many times as necessary until the models are unloaded. This relieves the client applications from the logic and operational burden of managing them separately. These models are now simply an API away from running inference with.\n",
    "\n",
    "When loading the model with SageMaker Edge Agent, the argument to the API points the Agent to a directory containing the packaged model (without any extraneous files within the directory). "
   ]
  },
  {
   "cell_type": "markdown",
   "metadata": {},
   "source": [
    "#### Load keras model\n",
    "\n",
    "`keras_model` is the path containing the packaged model in this notebook. `demo-keras` is the name given to this model. This name will be used later to refer to this model for, making predictions, capturing data, unload."
   ]
  },
  {
   "cell_type": "code",
   "execution_count": 42,
   "metadata": {},
   "outputs": [],
   "source": [
    "load_keras_model_out = ssm_client.send_command(\n",
    "    InstanceIds=[instance_id],\n",
    "    DocumentName=\"AWS-RunShellScript\",\n",
    "    OutputS3BucketName=bucket,\n",
    "    OutputS3KeyPrefix=folder,\n",
    "    Parameters={\n",
    "        'commands':[\n",
    "            \"cd /demo\",\n",
    "            \"./bin/sagemaker_edge_agent_client_example LoadModel keras_model demo-keras\"\n",
    "        ]\n",
    "    }\n",
    ")"
   ]
  },
  {
   "cell_type": "code",
   "execution_count": 43,
   "metadata": {},
   "outputs": [
    {
     "data": {
      "text/plain": [
       "{'CommandId': '82308b43-b4a2-4639-a6f9-21db61d09d32',\n",
       " 'InstanceId': 'i-0aabb20c139dde1af',\n",
       " 'Comment': '',\n",
       " 'DocumentName': 'AWS-RunShellScript',\n",
       " 'DocumentVersion': '',\n",
       " 'PluginName': 'aws:runShellScript',\n",
       " 'ResponseCode': 0,\n",
       " 'ExecutionStartDateTime': '2021-03-21T08:44:18.820Z',\n",
       " 'ExecutionElapsedTime': 'PT0.455S',\n",
       " 'ExecutionEndDateTime': '2021-03-21T08:44:18.820Z',\n",
       " 'Status': 'Success',\n",
       " 'StatusDetails': 'Success',\n",
       " 'StandardOutputContent': 'Model demo-keras located at /demo/keras_model loaded\\nLoadModel succeeded\\n',\n",
       " 'StandardOutputUrl': 'https://s3.us-east-2.amazonaws.com/sagemaker-us-east-2-057716757052/DEMO-Sandbox-Sagemaker-Edge/82308b43-b4a2-4639-a6f9-21db61d09d32/i-0aabb20c139dde1af/awsrunShellScript/0.awsrunShellScript/stdout',\n",
       " 'StandardErrorContent': '',\n",
       " 'StandardErrorUrl': 'https://s3.us-east-2.amazonaws.com/sagemaker-us-east-2-057716757052/DEMO-Sandbox-Sagemaker-Edge/82308b43-b4a2-4639-a6f9-21db61d09d32/i-0aabb20c139dde1af/awsrunShellScript/0.awsrunShellScript/stderr',\n",
       " 'CloudWatchOutputConfig': {'CloudWatchLogGroupName': '',\n",
       "  'CloudWatchOutputEnabled': False},\n",
       " 'ResponseMetadata': {'RequestId': 'c31b1faa-623f-42a1-99ee-fa962e57526d',\n",
       "  'HTTPStatusCode': 200,\n",
       "  'HTTPHeaders': {'server': 'Server',\n",
       "   'date': 'Sun, 21 Mar 2021 08:44:22 GMT',\n",
       "   'content-type': 'application/x-amz-json-1.1',\n",
       "   'content-length': '1043',\n",
       "   'connection': 'keep-alive',\n",
       "   'x-amzn-requestid': 'c31b1faa-623f-42a1-99ee-fa962e57526d'},\n",
       "  'RetryAttempts': 0}}"
      ]
     },
     "execution_count": 43,
     "metadata": {},
     "output_type": "execute_result"
    }
   ],
   "source": [
    "ssm_client.get_command_invocation(\n",
    "    CommandId=load_keras_model_out['Command']['CommandId'],\n",
    "    InstanceId=instance_id,\n",
    ")"
   ]
  },
  {
   "cell_type": "markdown",
   "metadata": {},
   "source": [
    "### List Models\n",
    "\n",
    "This API simply lists all the models and their names that are loaded with SageMaker Edge Agent. Note that the names shown here are same as the ones provided during the LoadModel in the previous sections."
   ]
  },
  {
   "cell_type": "code",
   "execution_count": 44,
   "metadata": {},
   "outputs": [],
   "source": [
    "list_model_out = ssm_client.send_command(\n",
    "    InstanceIds=[instance_id],\n",
    "    DocumentName=\"AWS-RunShellScript\",\n",
    "    OutputS3BucketName=bucket,\n",
    "    OutputS3KeyPrefix=folder,\n",
    "    Parameters={\n",
    "        'commands':[\n",
    "            \"cd /demo\",\n",
    "            \"./bin/sagemaker_edge_agent_client_example ListModels\"\n",
    "        ]\n",
    "    }\n",
    ")"
   ]
  },
  {
   "cell_type": "code",
   "execution_count": 45,
   "metadata": {},
   "outputs": [
    {
     "data": {
      "text/plain": [
       "{'CommandId': '165f515e-c271-44e1-ba78-19d4f3d4c91b',\n",
       " 'InstanceId': 'i-0aabb20c139dde1af',\n",
       " 'Comment': '',\n",
       " 'DocumentName': 'AWS-RunShellScript',\n",
       " 'DocumentVersion': '',\n",
       " 'PluginName': 'aws:runShellScript',\n",
       " 'ResponseCode': 0,\n",
       " 'ExecutionStartDateTime': '2021-03-21T08:44:44.880Z',\n",
       " 'ExecutionElapsedTime': 'PT0.101S',\n",
       " 'ExecutionEndDateTime': '2021-03-21T08:44:44.880Z',\n",
       " 'Status': 'Success',\n",
       " 'StatusDetails': 'Success',\n",
       " 'StandardOutputContent': 'There are 1 models\\nModel 0  demo-keras\\nListModels succeeded\\n',\n",
       " 'StandardOutputUrl': 'https://s3.us-east-2.amazonaws.com/sagemaker-us-east-2-057716757052/DEMO-Sandbox-Sagemaker-Edge/165f515e-c271-44e1-ba78-19d4f3d4c91b/i-0aabb20c139dde1af/awsrunShellScript/0.awsrunShellScript/stdout',\n",
       " 'StandardErrorContent': '',\n",
       " 'StandardErrorUrl': 'https://s3.us-east-2.amazonaws.com/sagemaker-us-east-2-057716757052/DEMO-Sandbox-Sagemaker-Edge/165f515e-c271-44e1-ba78-19d4f3d4c91b/i-0aabb20c139dde1af/awsrunShellScript/0.awsrunShellScript/stderr',\n",
       " 'CloudWatchOutputConfig': {'CloudWatchLogGroupName': '',\n",
       "  'CloudWatchOutputEnabled': False},\n",
       " 'ResponseMetadata': {'RequestId': 'eccf6c9b-2b90-4bb2-856d-d35b5b74bcff',\n",
       "  'HTTPStatusCode': 200,\n",
       "  'HTTPHeaders': {'server': 'Server',\n",
       "   'date': 'Sun, 21 Mar 2021 08:44:48 GMT',\n",
       "   'content-type': 'application/x-amz-json-1.1',\n",
       "   'content-length': '1031',\n",
       "   'connection': 'keep-alive',\n",
       "   'x-amzn-requestid': 'eccf6c9b-2b90-4bb2-856d-d35b5b74bcff'},\n",
       "  'RetryAttempts': 0}}"
      ]
     },
     "execution_count": 45,
     "metadata": {},
     "output_type": "execute_result"
    }
   ],
   "source": [
    "ssm_client.get_command_invocation(\n",
    "    CommandId=list_model_out['Command']['CommandId'],\n",
    "    InstanceId=instance_id,\n",
    ")"
   ]
  },
  {
   "cell_type": "markdown",
   "metadata": {},
   "source": [
    "### Run Predict\n",
    "\n",
    "In this API, we pass the model name, input data file that will be directly fed into the neural network, input tensor name that was passed earlier during the compilation phase, along with it's size and shape."
   ]
  },
  {
   "cell_type": "markdown",
   "metadata": {},
   "source": [
    "#### Run prediction on keras model"
   ]
  },
  {
   "cell_type": "code",
   "execution_count": 46,
   "metadata": {},
   "outputs": [],
   "source": [
    "keras_predict_out = ssm_client.send_command(\n",
    "    InstanceIds=[instance_id],\n",
    "    DocumentName=\"AWS-RunShellScript\",\n",
    "    OutputS3BucketName=bucket,\n",
    "    OutputS3KeyPrefix=folder,\n",
    "    Parameters={\n",
    "        'commands':[\n",
    "            \"cd /demo\",\n",
    "            \"./bin/sagemaker_edge_agent_client_example Predict demo-keras keras.bmp input_1 224 224 3\"\n",
    "        ]\n",
    "    }\n",
    ")"
   ]
  },
  {
   "cell_type": "code",
   "execution_count": 47,
   "metadata": {
    "collapsed": true,
    "jupyter": {
     "outputs_hidden": true
    }
   },
   "outputs": [
    {
     "data": {
      "text/plain": [
       "{'CommandId': '38cfcbfe-5697-4598-9aa8-98738af2c5e7',\n",
       " 'InstanceId': 'i-0aabb20c139dde1af',\n",
       " 'Comment': '',\n",
       " 'DocumentName': 'AWS-RunShellScript',\n",
       " 'DocumentVersion': '',\n",
       " 'PluginName': 'aws:runShellScript',\n",
       " 'ResponseCode': 0,\n",
       " 'ExecutionStartDateTime': '2021-03-21T08:45:06.804Z',\n",
       " 'ExecutionElapsedTime': 'PT0.166S',\n",
       " 'ExecutionEndDateTime': '2021-03-21T08:45:06.804Z',\n",
       " 'Status': 'Success',\n",
       " 'StatusDetails': 'Success',\n",
       " 'StandardOutputContent': 'Done reading the image\\nPredict succeeded\\nFlattened RAW Output Tensor:1\\n9.15062e-05 0.000100904 5.23973e-05 7.0895e-05 0.000303288 6.65647e-06 5.73232e-05 0.000241128 7.62334e-05 7.42452e-05 0.000110309 4.28148e-05 7.65651e-05 0.000134373 0.000126301 0.000141554 0.000173317 3.4594e-05 6.91597e-05 3.83557e-05 0.000239026 4.7591e-05 7.32565e-05 0.000167224 8.44282e-05 8.91072e-05 0.000395355 0.000366951 0.000141887 1.91341e-05 0.000868919 0.000156764 5.34357e-05 3.37808e-05 6.51875e-05 0.00017874 0.000960836 0.000114277 0.000148988 0.000183138 2.40969e-05 6.1486e-05 8.55311e-05 6.87333e-05 0.000419924 4.43623e-05 0.000818348 1.80066e-05 0.000135477 0.000234557 0.000637312 5.15255e-05 0.000614531 0.000226428 0.00026891 0.000204451 3.92872e-05 0.000911124 0.000211633 0.000232082 1.94421e-05 0.00021197 0.0001015 3.57752e-05 2.28566e-05 3.00774e-05 0.000170917 8.13421e-05 0.000121659 9.28217e-05 6.89592e-05 0.000586144 3.17547e-05 3.96703e-05 8.83662e-05 7.09474e-05 5.17533e-05 0.000108594 0.000532912 0.00096492 5.25332e-05 0.000337741 7.59342e-05 0.000112371 0.000381361 6.01501e-05 0.000126272 6.1823e-06 0.00010039 0.000338563 0.00112327 0.000126739 0.00033278 1.50094e-05 0.000186133 6.8603e-05 3.96905e-05 0.000198844 0.000492331 0.000197829 0.000257524 1.61624e-05 9.07867e-05 8.40365e-05 4.54462e-05 3.20762e-05 4.20597e-05 6.02338e-05 0.00221663 0.000643337 3.51501e-05 7.78481e-05 0.000260956 0.000722278 2.24778e-05 3.10974e-05 8.91345e-05 0.000309194 0.000127229 8.649e-05 3.58737e-05 0.000314205 8.06085e-05 1.55447e-05 0.000149729 0.000139049 7.40067e-05 0.000373407 0.000102807 0.00146438 0.000165786 3.01548e-05 5.38661e-05 3.16971e-05 0.000250498 0.000574561 0.000163332 8.42787e-05 1.99951e-05 0.000844072 0.000317336 0.000400925 7.61143e-05 0.000404159 0.000692955 5.20597e-05 5.41432e-05 8.4466e-05 0.000150862 0.000169627 0.000194924 0.000183027 5.52311e-05 0.000518809 3.2144e-05 0.000334902 0.000121204 6.89992e-05 0.000138918 3.36096e-05 8.15251e-05 0.000605934 0.000167917 8.72203e-05 0.000235941 8.51087e-05 0.000127863 8.58576e-05 6.48992e-05 0.00020056 7.6293e-05 4.65399e-05 0.000327454 2.4461e-05 0.000114652 0.000252538 8.00111e-06 0.000178289 0.000938321 0.000140493 0.000106695 9.29611e-05 0.00010762 8.57183e-05 0.000214833 0.000251787 0.000147957 0.000181909 0.000190672 2.92075e-05 0.00076009 0.000221557 1.76623e-05 3.10405e-05 0.000107681 0.000396884 0.000104222 0.000137999 0.000346167 0.00112642 0.000297271 0.000767141 0.000269144 0.00189522 0.000169068 0.000220965 0.000147433 8.44578e-05 0.000190508 0.000173922 0.000405742 0.000132826 7.99577e-05 4.37088e-05 0.00164082 0.000123694 0.00137163 9.87275e-05 8.49897e-05 0.00049851 8.19333e-05 0.000140408 0.000224872 7.46203e-05 0.000240864 8.39286e-05 6.09905e-05 9.41364e-05 4.58637e-05 0.00111842 0.000111084 1.09676e-05 0.000371775 0.000123008 0.000389367 0.000200715 0.000385968 6.14363e-05 0.000101733 0.000230255 2.12557e-05 0.000306966 0.000732894 0.000110869 0.000105942 0.000433727 0.00034579 0.000105499 0.000119336 2.66513e-05 2.60617e-05 0.000655964 0.000112076 4.45424e-05 0.000148326 0.000136297 6.28596e-05 0.000326308 5.90824e-05 6.7919e-05 0.000101362 0.000175068 2.55782e-05 1.66024e-05 1.97058e-05 0.000610135 9.43398e-05 0.000197742 7.66208e-05 0.000404566 0.000517708 0.000111906 0.000176491 1.929e-05 2.35597e-05 0.000261811 5.1069e-05 6.30122e-05 6.40101e-05 0.000442848 5.28354e-05 0.000364381 0.000297086 0.000381922 0.00129312 8.28387e-05 1.98432e-05 0.00013801 3.95026e-05 0.000263774 0.000108753 0.000102844 0.000192019 0.000182547 0.000335212 0.000116871 0.00144669 0.00012702 7.20619e-05 7.67652e-05 0.000114198 0.000383503 0.000106211 2.58857e-05 0.000679048 3.68361e-05 0.000742516 0.000109162 0.0049509 0.000448022 0.000330023 0.000798275 0.000236088 6.99926e-05 0.00155851 0.000154786 0.000788829 0.000307504 0.000338787 5.98844e-05 0.000122455 0.000215837 0.000135154 0.000205767 0.00011951 0.000615118 0.000122984 0.000490816 0.000168542 8.72445e-05 0.00026772 0.000263432 0.000150699 0.000321271 3.33255e-05 0.000150198 0.000165261 2.28411e-05 0.000230156 8.9319e-05 0.000261599 3.17939e-05 2.20263e-05 2.72304e-05 0.000406985 0.000225819 0.000190571 3.88824e-05 0.000553588 0.000204999 8.04933e-05 3.98578e-05 0.000149462 3.63275e-05 7.15785e-05 2.71238e-05 4.39918e-05 0.000228383 4.91e-05 0.000101903 5.2975e-05 0.000109925 0.000111545 4.80259e-05 6.58793e-05 0.000222617 0.000316524 0.000255908 0.000218464 6.27936e-05 0.000158307 4.06009e-05 0.000404284 0.000105679 6.63757e-05 6.70745e-05 5.41715e-05 7.59387e-06 0.000117049 0.000100821 5.39381e-05 8.0357e-05 2.10748e-05 4.0366e-05 3.78365e-05 9.26752e-05 0.000155603 4.7998e-05 0.000227674 0.000281079 5.00908e-06 6.87904e-05 2.7824e-05 0.000159691 0.000119791 4.14894e-05 0.000164992 0.000238302 0.00063209 0.00163611 4.31679e-05 0.00015302 5.97571e-05 0.000213676 4.6753e-05 6.14316e-05 2.50057e-05 0.000144513 0.00057565 0.000126328 0.000106071 0.00488338 0.000297754 0.000101072 0.000828389 3.34663e-05 0.000205883 0.00100986 0.00288795 0.000181402 2.04158e-05 0.000174305 5.54531e-05 0.000187178 0.000868699 0.000216631 0.000102737 0.000147072 0.000238026 0.00126536 3.71565e-05 0.000501618 7.87454e-06 0.000646768 0.00132088 0.000575408 0.000460256 0.000903666 0.000121338 5.92173e-05 0.00359214 0.00141115 1.02874e-05 0.104049 4.01202e-05 3.41703e-05 0.00117984 0.000212795 0.000178738 8.12074e-05 2.35032e-05 7.4736e-05 0.000181081 0.000133322 2.2946e-05 0.000691187 2.41899e-05 0.000919799 1.74535e-05 5.16331e-05 0.000270688 6.85797e-05 0.000397507 0.000346152 0.0109303 0.000101258 3.94789e-05 8.25054e-05 0.000397577 0.00141315 0.000415194 5.62191e-05 0.000125894 7.98376e-05 0.00109488 4.42261e-05 0.000595957 6.00387e-05 0.000144867 0.00328741 0.000980227 0.000149009 2.47702e-05 0.000183238 0.000232027 2.42611e-05 5.64576e-05 9.76353e-05 0.00348264 0.000204935 0.00174102 2.68562e-05 0.000981555 0.000308216 0.000171169 0.000225844 0.00449217 2.18042e-05 2.99957e-05 0.00126724 7.96494e-05 0.000379011 0.00149981 0.00107863 0.000657837 0.000291459 0.000378378 0.000245264 0.00216528 0.000251777 0.000243054 0.00011358 0.000311709 0.000240351 0.000261711 4.11153e-05 0.00438426 0.0053106 0.00134479 0.000185187 0.0049297 9.4129e-05 0.000110915 1.92765e-05 0.000292813 3.78246e-05 4.58354e-05 5.675e-05 0.00101191 0.00502428 0.000724723 0.000253534 2.40567e-05 0.00267424 0.000313486 3.18543e-05 0.0015085 0.000113942 0.000101835 0.00308647 0.000429186 0.000498492 7.26755e-05 0.000623189 0.000119422 3.58501e-05 6.02285e-05 0.000107356 3.90417e-05 0.0378035 5.58931e-05 0.000209794 0.000807647 8.90382e-06 6.64493e-05 0.000112081 0.00264833 0.000117209 3.44267e-05 5.7816e-05 0.000231409 0.000266648 0.00123329 0.00015777 9.19994e-05 0.000200998 2.35803e-05 3.7011e-05 6.4098e-05 0.00021725 0.000328797 0.00036674 0.00253407 0.000133394 0.000686094 0.000325606 8.80993e-05 0.000271993 0.000279572 0.000103516 0.000178497 0.000446202 0.000117283 6.76374e-05 0.000308782 0.000613996 9.9802e-05 0.00166511 0.000834976 0.000295648 0.000135634 0.00677331 1.15138e-05 0.00144655 0.000147913 0.000150729 6.50311e-05 7.67468e-06 2.82171e-05 0.00630684 0.00144823 0.000513256 2.41748e-05 0.000346232 0.000480956 4.54604e-05 0.00358398 0.000323289 0.00266769 9.13546e-05 0.00441635 0.00040319 5.42837e-05 0.000174804 0.000168969 9.12878e-05 0.00439507 0.000924698 6.02705e-05 0.00147991 0.000817628 0.00016928 0.00110242 9.4569e-05 6.56283e-06 0.000190347 0.00185773 1.92555e-05 0.000150131 0.00303922 0.000486924 0.00192016 1.71693e-05 0.000285216 3.0201e-05 7.25038e-05 0.00933429 0.00037231 0.000287903 0.000196621 7.95043e-05 0.000968775 5.65726e-05 0.00017513 0.00113082 0.000133712 0.000100827 0.000388339 3.83133e-05 4.21704e-05 0.000419168 0.000130798 0.000136635 0.000162146 0.000162149 0.000352671 1.29564e-05 8.83311e-05 7.30114e-05 0.00087778 0.00015974 9.07318e-05 3.11599e-05 1.82253e-05 0.000651717 0.000176762 0.000130056 2.37206e-05 4.21226e-05 4.33198e-05 0.000833136 6.20261e-05 0.000122561 7.79408e-05 0.000138429 1.18692e-05 3.16894e-05 0.00138512 0.000373884 0.000444783 0.00233678 0.000346997 7.04967e-05 6.14377e-05 0.000104681 8.98685e-05 1.14142e-05 2.50274e-05 0.000163214 0.000215972 0.000101536 0.000196677 0.0019813 5.12819e-05 0.000146471 0.00105286 0.00346109 0.000656602 6.36975e-05 7.888e-05 0.00275706 0.000114332 3.13127e-05 6.35094e-05 0.000136422 3.32498e-05 1.3857e-05 0.000301684 1.19146e-05 0.00526281 0.000206102 0.0153176 2.1171e-05 0.000224362 0.000245597 0.000113244 0.000663717 0.000145508 0.000313425 0.00330811 0.000871446 0.0836333 0.000562232 0.000556891 0.000147339 0.000659589 2.81106e-05 2.8312e-05 0.00174608 0.0010836 0.000336994 2.33963e-05 0.000260233 1.99774e-05 8.7279e-05 0.000162282 0.000132347 0.0763238 6.41682e-05 4.47078e-05 0.000200405 0.000937673 0.000108783 5.73014e-06 0.000150553 9.64484e-06 0.00090761 0.00123104 0.00229338 0.000282609 0.00911527 9.28154e-05 1.1585e-05 0.00377937 5.58181e-05 7.78876e-05 8.0197e-05 0.000118786 3.38251e-05 0.000193756 0.0322713 0.000554056 8.89871e-05 0.000119861 8.20364e-05 4.32526e-05 4.62513e-05 0.00144595 5.67896e-05 0.000572553 0.000415233 1.36432e-05 0.00124169 0.00124057 8.21131e-06 0.000106638 6.40835e-05 1.40516e-05 0.0017629 0.000198166 0.000337182 5.36906e-05 0.000397763 0.00240482 0.000335884 8.54358e-05 0.000694838 2.00854e-05 0.000113639 0.000323214 0.000112597 0.00018594 0.00171899 0.000541965 0.122147 4.99244e-05 0.000164852 0.00122381 2.5241e-05 5.14679e-05 0.000490907 0.000158918 0.000346911 0.000541942 0.00141432 0.000337002 0.00931859 3.00939e-05 0.000827002 0.000310146 0.000116559 0.000406685 0.000538986 0.000229818 0.000126305 0.000299833 2.22011e-05 7.94955e-05 0.000167057 0.000423775 0.000125363 1.56699e-05 0.000308669 0.000255432 0.000541097 0.000982481 0.000283944 3.65389e-05 0.00218182 6.744e-05 1.00184e-05 0.000374298 0.000637766 1.36737e-05 0.000159273 1.09945e-05 0.000319258 0.00229681 0.00131607 2.81532e-05 0.000755754 0.00465906 3.69558e-05 2.56228e-05 0.00440497 0.000464171 0.000130313 5.6545e-05 1.03716e-05 4.99522e-05 0.00203385 0.000818268 0.000740868 4.48698e-05 0.000643815 0.00141414 9.09787e-05 5.40389e-05 0.000308148 0.000134447 0.000322471 0.000348822 0.000114854 8.39008e-05 0.000159038 0.000238735 0.000293484 0.000136169 0.000614223 0.000770911 0.000254953 8.2002e-05 0.000111212 6.33366e-05 2.21769e-05 2.66759e-05 0.000262146 1.22375e-05 0.000277353 0.0133974 8.95341e-05 0.000260171 0.00104994 0.000120616 2.48923e-05 0.00620314 0.000244922 3.34656e-05 4.73329e-05 3.56715e-05 3.06407e-05 0.000104922 0.000780934 0.000731891 0.000794088 0.000338229 0.000569576 2.98367e-05 0.00478971 0.000223768 0.000152017 1.21662e-05 0.000462357 0.000237147 0.00936429 0.00106418 0.000995856 0.00131719 0.000372383 0.000321245 0.000170528 0.00311058 2.24012e-05 0.00140862 0.000125663 0.000373427 0.0135387 0.000349864 0.000157181 0.000179543 0.000114147 3.72988e-05 0.000892379 0.000285923 0.000156429 3.53613e-05 0.000110156 3.31613e-05 3.77982e-05 0.00171744 6.6102e-05 0.000310769 0.000313495 0.000575077 0.000123637 0.000358506 0.000119495 0.000373714 1.69307e-05 0.000122709 2.8539e-05 0.00017089 0.00018187 0.000448902 0.000188497 0.000388597 0.00102005 0.000200722 0.00305688 0.00115292 0.000848695 0.00046208 0.00012145 4.50139e-05 0.000329028 0.000314198 8.07008e-05 7.35454e-05 0.000121244 5.00797e-05 1.52914e-05 0.000401795 5.33135e-05 1.78623e-05 8.38158e-05 0.000183432 0.00703089 0.000172285 0.021136 0.00145294 1.08781e-05 0.00460536 6.44961e-05 0.00010421 0.000221643 0.000399464 9.82541e-05 0.000219663 0.00109963 0.000191807 0.000112492 7.75312e-05 0.000295558 0.000210538 0.000283087 0.00683985 0.000181201 0.00330136 0.000242936 0.000297634 0.000217542 8.89365e-05 0.000393562 4.31555e-05 4.64737e-05 1.34031e-05 4.38985e-05 0.000138802 9.47135e-05 9.89782e-05 \\n',\n",
       " 'StandardOutputUrl': 'https://s3.us-east-2.amazonaws.com/sagemaker-us-east-2-057716757052/DEMO-Sandbox-Sagemaker-Edge/38cfcbfe-5697-4598-9aa8-98738af2c5e7/i-0aabb20c139dde1af/awsrunShellScript/0.awsrunShellScript/stdout',\n",
       " 'StandardErrorContent': '',\n",
       " 'StandardErrorUrl': 'https://s3.us-east-2.amazonaws.com/sagemaker-us-east-2-057716757052/DEMO-Sandbox-Sagemaker-Edge/38cfcbfe-5697-4598-9aa8-98738af2c5e7/i-0aabb20c139dde1af/awsrunShellScript/0.awsrunShellScript/stderr',\n",
       " 'CloudWatchOutputConfig': {'CloudWatchLogGroupName': '',\n",
       "  'CloudWatchOutputEnabled': False},\n",
       " 'ResponseMetadata': {'RequestId': '829a5267-4818-4ce4-9aad-651dac608197',\n",
       "  'HTTPStatusCode': 200,\n",
       "  'HTTPHeaders': {'server': 'Server',\n",
       "   'date': 'Sun, 21 Mar 2021 08:45:14 GMT',\n",
       "   'content-type': 'application/x-amz-json-1.1',\n",
       "   'content-length': '12816',\n",
       "   'connection': 'keep-alive',\n",
       "   'x-amzn-requestid': '829a5267-4818-4ce4-9aad-651dac608197'},\n",
       "  'RetryAttempts': 0}}"
      ]
     },
     "execution_count": 47,
     "metadata": {},
     "output_type": "execute_result"
    }
   ],
   "source": [
    "ssm_client.get_command_invocation(\n",
    "    CommandId=keras_predict_out['Command']['CommandId'],\n",
    "    InstanceId=instance_id,\n",
    ")"
   ]
  },
  {
   "cell_type": "markdown",
   "metadata": {},
   "source": [
    "### Capture Data\n",
    "\n",
    "Capture the inputs and outputs of an inference call to cloud or disk. The specific parameters were configured earlier in the config file. "
   ]
  },
  {
   "cell_type": "code",
   "execution_count": 48,
   "metadata": {},
   "outputs": [],
   "source": [
    "keras_capture_out = ssm_client.send_command(\n",
    "    InstanceIds=[instance_id],\n",
    "    DocumentName=\"AWS-RunShellScript\",\n",
    "    OutputS3BucketName=bucket,\n",
    "    OutputS3KeyPrefix=folder,\n",
    "    Parameters={\n",
    "        'commands':[\n",
    "            \"cd /demo\",\n",
    "            \"./bin/sagemaker_edge_agent_client_example PredictAndCapture demo-keras keras.bmp input_1 224 224 3\"\n",
    "        ]\n",
    "    }\n",
    ")"
   ]
  },
  {
   "cell_type": "code",
   "execution_count": 49,
   "metadata": {},
   "outputs": [
    {
     "name": "stdout",
     "output_type": "stream",
     "text": [
      "s3://sagemaker-us-east-2-057716757052/DEMO-Sandbox-Sagemaker-Edge\n"
     ]
    }
   ],
   "source": [
    "output_s3_path = f's3://{bucket}/{folder}'\n",
    "print(output_s3_path)\n",
    "# ! aws s3 ls {output_s3_path} --recursive\n"
   ]
  },
  {
   "cell_type": "code",
   "execution_count": 50,
   "metadata": {
    "collapsed": true,
    "jupyter": {
     "outputs_hidden": true
    }
   },
   "outputs": [
    {
     "data": {
      "text/plain": [
       "{'CommandId': '6229fc95-2b26-4905-8d9b-07af9976e19b',\n",
       " 'InstanceId': 'i-0aabb20c139dde1af',\n",
       " 'Comment': '',\n",
       " 'DocumentName': 'AWS-RunShellScript',\n",
       " 'DocumentVersion': '',\n",
       " 'PluginName': 'aws:runShellScript',\n",
       " 'ResponseCode': 0,\n",
       " 'ExecutionStartDateTime': '2021-03-21T08:45:39.828Z',\n",
       " 'ExecutionElapsedTime': 'PT0.272S',\n",
       " 'ExecutionEndDateTime': '2021-03-21T08:45:39.828Z',\n",
       " 'Status': 'Success',\n",
       " 'StatusDetails': 'Success',\n",
       " 'StandardOutputContent': 'Done reading the image\\nPredict succeeded\\nCapture Data succeeded\\nFlattened RAW Output Tensor:1\\n9.15062e-05 0.000100904 5.23973e-05 7.0895e-05 0.000303288 6.65647e-06 5.73232e-05 0.000241128 7.62334e-05 7.42452e-05 0.000110309 4.28148e-05 7.65651e-05 0.000134373 0.000126301 0.000141554 0.000173317 3.4594e-05 6.91597e-05 3.83557e-05 0.000239026 4.7591e-05 7.32565e-05 0.000167224 8.44282e-05 8.91072e-05 0.000395355 0.000366951 0.000141887 1.91341e-05 0.000868919 0.000156764 5.34357e-05 3.37808e-05 6.51875e-05 0.00017874 0.000960836 0.000114277 0.000148988 0.000183138 2.40969e-05 6.1486e-05 8.55311e-05 6.87333e-05 0.000419924 4.43623e-05 0.000818348 1.80066e-05 0.000135477 0.000234557 0.000637312 5.15255e-05 0.000614531 0.000226428 0.00026891 0.000204451 3.92872e-05 0.000911124 0.000211633 0.000232082 1.94421e-05 0.00021197 0.0001015 3.57752e-05 2.28566e-05 3.00774e-05 0.000170917 8.13421e-05 0.000121659 9.28217e-05 6.89592e-05 0.000586144 3.17547e-05 3.96703e-05 8.83662e-05 7.09474e-05 5.17533e-05 0.000108594 0.000532912 0.00096492 5.25332e-05 0.000337741 7.59342e-05 0.000112371 0.000381361 6.01501e-05 0.000126272 6.1823e-06 0.00010039 0.000338563 0.00112327 0.000126739 0.00033278 1.50094e-05 0.000186133 6.8603e-05 3.96905e-05 0.000198844 0.000492331 0.000197829 0.000257524 1.61624e-05 9.07867e-05 8.40365e-05 4.54462e-05 3.20762e-05 4.20597e-05 6.02338e-05 0.00221663 0.000643337 3.51501e-05 7.78481e-05 0.000260956 0.000722278 2.24778e-05 3.10974e-05 8.91345e-05 0.000309194 0.000127229 8.649e-05 3.58737e-05 0.000314205 8.06085e-05 1.55447e-05 0.000149729 0.000139049 7.40067e-05 0.000373407 0.000102807 0.00146438 0.000165786 3.01548e-05 5.38661e-05 3.16971e-05 0.000250498 0.000574561 0.000163332 8.42787e-05 1.99951e-05 0.000844072 0.000317336 0.000400925 7.61143e-05 0.000404159 0.000692955 5.20597e-05 5.41432e-05 8.4466e-05 0.000150862 0.000169627 0.000194924 0.000183027 5.52311e-05 0.000518809 3.2144e-05 0.000334902 0.000121204 6.89992e-05 0.000138918 3.36096e-05 8.15251e-05 0.000605934 0.000167917 8.72203e-05 0.000235941 8.51087e-05 0.000127863 8.58576e-05 6.48992e-05 0.00020056 7.6293e-05 4.65399e-05 0.000327454 2.4461e-05 0.000114652 0.000252538 8.00111e-06 0.000178289 0.000938321 0.000140493 0.000106695 9.29611e-05 0.00010762 8.57183e-05 0.000214833 0.000251787 0.000147957 0.000181909 0.000190672 2.92075e-05 0.00076009 0.000221557 1.76623e-05 3.10405e-05 0.000107681 0.000396884 0.000104222 0.000137999 0.000346167 0.00112642 0.000297271 0.000767141 0.000269144 0.00189522 0.000169068 0.000220965 0.000147433 8.44578e-05 0.000190508 0.000173922 0.000405742 0.000132826 7.99577e-05 4.37088e-05 0.00164082 0.000123694 0.00137163 9.87275e-05 8.49897e-05 0.00049851 8.19333e-05 0.000140408 0.000224872 7.46203e-05 0.000240864 8.39286e-05 6.09905e-05 9.41364e-05 4.58637e-05 0.00111842 0.000111084 1.09676e-05 0.000371775 0.000123008 0.000389367 0.000200715 0.000385968 6.14363e-05 0.000101733 0.000230255 2.12557e-05 0.000306966 0.000732894 0.000110869 0.000105942 0.000433727 0.00034579 0.000105499 0.000119336 2.66513e-05 2.60617e-05 0.000655964 0.000112076 4.45424e-05 0.000148326 0.000136297 6.28596e-05 0.000326308 5.90824e-05 6.7919e-05 0.000101362 0.000175068 2.55782e-05 1.66024e-05 1.97058e-05 0.000610135 9.43398e-05 0.000197742 7.66208e-05 0.000404566 0.000517708 0.000111906 0.000176491 1.929e-05 2.35597e-05 0.000261811 5.1069e-05 6.30122e-05 6.40101e-05 0.000442848 5.28354e-05 0.000364381 0.000297086 0.000381922 0.00129312 8.28387e-05 1.98432e-05 0.00013801 3.95026e-05 0.000263774 0.000108753 0.000102844 0.000192019 0.000182547 0.000335212 0.000116871 0.00144669 0.00012702 7.20619e-05 7.67652e-05 0.000114198 0.000383503 0.000106211 2.58857e-05 0.000679048 3.68361e-05 0.000742516 0.000109162 0.0049509 0.000448022 0.000330023 0.000798275 0.000236088 6.99926e-05 0.00155851 0.000154786 0.000788829 0.000307504 0.000338787 5.98844e-05 0.000122455 0.000215837 0.000135154 0.000205767 0.00011951 0.000615118 0.000122984 0.000490816 0.000168542 8.72445e-05 0.00026772 0.000263432 0.000150699 0.000321271 3.33255e-05 0.000150198 0.000165261 2.28411e-05 0.000230156 8.9319e-05 0.000261599 3.17939e-05 2.20263e-05 2.72304e-05 0.000406985 0.000225819 0.000190571 3.88824e-05 0.000553588 0.000204999 8.04933e-05 3.98578e-05 0.000149462 3.63275e-05 7.15785e-05 2.71238e-05 4.39918e-05 0.000228383 4.91e-05 0.000101903 5.2975e-05 0.000109925 0.000111545 4.80259e-05 6.58793e-05 0.000222617 0.000316524 0.000255908 0.000218464 6.27936e-05 0.000158307 4.06009e-05 0.000404284 0.000105679 6.63757e-05 6.70745e-05 5.41715e-05 7.59387e-06 0.000117049 0.000100821 5.39381e-05 8.0357e-05 2.10748e-05 4.0366e-05 3.78365e-05 9.26752e-05 0.000155603 4.7998e-05 0.000227674 0.000281079 5.00908e-06 6.87904e-05 2.7824e-05 0.000159691 0.000119791 4.14894e-05 0.000164992 0.000238302 0.00063209 0.00163611 4.31679e-05 0.00015302 5.97571e-05 0.000213676 4.6753e-05 6.14316e-05 2.50057e-05 0.000144513 0.00057565 0.000126328 0.000106071 0.00488338 0.000297754 0.000101072 0.000828389 3.34663e-05 0.000205883 0.00100986 0.00288795 0.000181402 2.04158e-05 0.000174305 5.54531e-05 0.000187178 0.000868699 0.000216631 0.000102737 0.000147072 0.000238026 0.00126536 3.71565e-05 0.000501618 7.87454e-06 0.000646768 0.00132088 0.000575408 0.000460256 0.000903666 0.000121338 5.92173e-05 0.00359214 0.00141115 1.02874e-05 0.104049 4.01202e-05 3.41703e-05 0.00117984 0.000212795 0.000178738 8.12074e-05 2.35032e-05 7.4736e-05 0.000181081 0.000133322 2.2946e-05 0.000691187 2.41899e-05 0.000919799 1.74535e-05 5.16331e-05 0.000270688 6.85797e-05 0.000397507 0.000346152 0.0109303 0.000101258 3.94789e-05 8.25054e-05 0.000397577 0.00141315 0.000415194 5.62191e-05 0.000125894 7.98376e-05 0.00109488 4.42261e-05 0.000595957 6.00387e-05 0.000144867 0.00328741 0.000980227 0.000149009 2.47702e-05 0.000183238 0.000232027 2.42611e-05 5.64576e-05 9.76353e-05 0.00348264 0.000204935 0.00174102 2.68562e-05 0.000981555 0.000308216 0.000171169 0.000225844 0.00449217 2.18042e-05 2.99957e-05 0.00126724 7.96494e-05 0.000379011 0.00149981 0.00107863 0.000657837 0.000291459 0.000378378 0.000245264 0.00216528 0.000251777 0.000243054 0.00011358 0.000311709 0.000240351 0.000261711 4.11153e-05 0.00438426 0.0053106 0.00134479 0.000185187 0.0049297 9.4129e-05 0.000110915 1.92765e-05 0.000292813 3.78246e-05 4.58354e-05 5.675e-05 0.00101191 0.00502428 0.000724723 0.000253534 2.40567e-05 0.00267424 0.000313486 3.18543e-05 0.0015085 0.000113942 0.000101835 0.00308647 0.000429186 0.000498492 7.26755e-05 0.000623189 0.000119422 3.58501e-05 6.02285e-05 0.000107356 3.90417e-05 0.0378035 5.58931e-05 0.000209794 0.000807647 8.90382e-06 6.64493e-05 0.000112081 0.00264833 0.000117209 3.44267e-05 5.7816e-05 0.000231409 0.000266648 0.00123329 0.00015777 9.19994e-05 0.000200998 2.35803e-05 3.7011e-05 6.4098e-05 0.00021725 0.000328797 0.00036674 0.00253407 0.000133394 0.000686094 0.000325606 8.80993e-05 0.000271993 0.000279572 0.000103516 0.000178497 0.000446202 0.000117283 6.76374e-05 0.000308782 0.000613996 9.9802e-05 0.00166511 0.000834976 0.000295648 0.000135634 0.00677331 1.15138e-05 0.00144655 0.000147913 0.000150729 6.50311e-05 7.67468e-06 2.82171e-05 0.00630684 0.00144823 0.000513256 2.41748e-05 0.000346232 0.000480956 4.54604e-05 0.00358398 0.000323289 0.00266769 9.13546e-05 0.00441635 0.00040319 5.42837e-05 0.000174804 0.000168969 9.12878e-05 0.00439507 0.000924698 6.02705e-05 0.00147991 0.000817628 0.00016928 0.00110242 9.4569e-05 6.56283e-06 0.000190347 0.00185773 1.92555e-05 0.000150131 0.00303922 0.000486924 0.00192016 1.71693e-05 0.000285216 3.0201e-05 7.25038e-05 0.00933429 0.00037231 0.000287903 0.000196621 7.95043e-05 0.000968775 5.65726e-05 0.00017513 0.00113082 0.000133712 0.000100827 0.000388339 3.83133e-05 4.21704e-05 0.000419168 0.000130798 0.000136635 0.000162146 0.000162149 0.000352671 1.29564e-05 8.83311e-05 7.30114e-05 0.00087778 0.00015974 9.07318e-05 3.11599e-05 1.82253e-05 0.000651717 0.000176762 0.000130056 2.37206e-05 4.21226e-05 4.33198e-05 0.000833136 6.20261e-05 0.000122561 7.79408e-05 0.000138429 1.18692e-05 3.16894e-05 0.00138512 0.000373884 0.000444783 0.00233678 0.000346997 7.04967e-05 6.14377e-05 0.000104681 8.98685e-05 1.14142e-05 2.50274e-05 0.000163214 0.000215972 0.000101536 0.000196677 0.0019813 5.12819e-05 0.000146471 0.00105286 0.00346109 0.000656602 6.36975e-05 7.888e-05 0.00275706 0.000114332 3.13127e-05 6.35094e-05 0.000136422 3.32498e-05 1.3857e-05 0.000301684 1.19146e-05 0.00526281 0.000206102 0.0153176 2.1171e-05 0.000224362 0.000245597 0.000113244 0.000663717 0.000145508 0.000313425 0.00330811 0.000871446 0.0836333 0.000562232 0.000556891 0.000147339 0.000659589 2.81106e-05 2.8312e-05 0.00174608 0.0010836 0.000336994 2.33963e-05 0.000260233 1.99774e-05 8.7279e-05 0.000162282 0.000132347 0.0763238 6.41682e-05 4.47078e-05 0.000200405 0.000937673 0.000108783 5.73014e-06 0.000150553 9.64484e-06 0.00090761 0.00123104 0.00229338 0.000282609 0.00911527 9.28154e-05 1.1585e-05 0.00377937 5.58181e-05 7.78876e-05 8.0197e-05 0.000118786 3.38251e-05 0.000193756 0.0322713 0.000554056 8.89871e-05 0.000119861 8.20364e-05 4.32526e-05 4.62513e-05 0.00144595 5.67896e-05 0.000572553 0.000415233 1.36432e-05 0.00124169 0.00124057 8.21131e-06 0.000106638 6.40835e-05 1.40516e-05 0.0017629 0.000198166 0.000337182 5.36906e-05 0.000397763 0.00240482 0.000335884 8.54358e-05 0.000694838 2.00854e-05 0.000113639 0.000323214 0.000112597 0.00018594 0.00171899 0.000541965 0.122147 4.99244e-05 0.000164852 0.00122381 2.5241e-05 5.14679e-05 0.000490907 0.000158918 0.000346911 0.000541942 0.00141432 0.000337002 0.00931859 3.00939e-05 0.000827002 0.000310146 0.000116559 0.000406685 0.000538986 0.000229818 0.000126305 0.000299833 2.22011e-05 7.94955e-05 0.000167057 0.000423775 0.000125363 1.56699e-05 0.000308669 0.000255432 0.000541097 0.000982481 0.000283944 3.65389e-05 0.00218182 6.744e-05 1.00184e-05 0.000374298 0.000637766 1.36737e-05 0.000159273 1.09945e-05 0.000319258 0.00229681 0.00131607 2.81532e-05 0.000755754 0.00465906 3.69558e-05 2.56228e-05 0.00440497 0.000464171 0.000130313 5.6545e-05 1.03716e-05 4.99522e-05 0.00203385 0.000818268 0.000740868 4.48698e-05 0.000643815 0.00141414 9.09787e-05 5.40389e-05 0.000308148 0.000134447 0.000322471 0.000348822 0.000114854 8.39008e-05 0.000159038 0.000238735 0.000293484 0.000136169 0.000614223 0.000770911 0.000254953 8.2002e-05 0.000111212 6.33366e-05 2.21769e-05 2.66759e-05 0.000262146 1.22375e-05 0.000277353 0.0133974 8.95341e-05 0.000260171 0.00104994 0.000120616 2.48923e-05 0.00620314 0.000244922 3.34656e-05 4.73329e-05 3.56715e-05 3.06407e-05 0.000104922 0.000780934 0.000731891 0.000794088 0.000338229 0.000569576 2.98367e-05 0.00478971 0.000223768 0.000152017 1.21662e-05 0.000462357 0.000237147 0.00936429 0.00106418 0.000995856 0.00131719 0.000372383 0.000321245 0.000170528 0.00311058 2.24012e-05 0.00140862 0.000125663 0.000373427 0.0135387 0.000349864 0.000157181 0.000179543 0.000114147 3.72988e-05 0.000892379 0.000285923 0.000156429 3.53613e-05 0.000110156 3.31613e-05 3.77982e-05 0.00171744 6.6102e-05 0.000310769 0.000313495 0.000575077 0.000123637 0.000358506 0.000119495 0.000373714 1.69307e-05 0.000122709 2.8539e-05 0.00017089 0.00018187 0.000448902 0.000188497 0.000388597 0.00102005 0.000200722 0.00305688 0.00115292 0.000848695 0.00046208 0.00012145 4.50139e-05 0.000329028 0.000314198 8.07008e-05 7.35454e-05 0.000121244 5.00797e-05 1.52914e-05 0.000401795 5.33135e-05 1.78623e-05 8.38158e-05 0.000183432 0.00703089 0.000172285 0.021136 0.00145294 1.08781e-05 0.00460536 6.44961e-05 0.00010421 0.000221643 0.000399464 9.82541e-05 0.000219663 0.00109963 0.000191807 0.000112492 7.75312e-05 0.000295558 0.000210538 0.000283087 0.00683985 0.000181201 0.00330136 0.000242936 0.000297634 0.000217542 8.89365e-05 0.000393562 4.31555e-05 4.64737e-05 1.34031e-05 4.38985e-05 0.000138802 9.47135e-05 9.89782e-05 \\n',\n",
       " 'StandardOutputUrl': 'https://s3.us-east-2.amazonaws.com/sagemaker-us-east-2-057716757052/DEMO-Sandbox-Sagemaker-Edge/6229fc95-2b26-4905-8d9b-07af9976e19b/i-0aabb20c139dde1af/awsrunShellScript/0.awsrunShellScript/stdout',\n",
       " 'StandardErrorContent': '',\n",
       " 'StandardErrorUrl': 'https://s3.us-east-2.amazonaws.com/sagemaker-us-east-2-057716757052/DEMO-Sandbox-Sagemaker-Edge/6229fc95-2b26-4905-8d9b-07af9976e19b/i-0aabb20c139dde1af/awsrunShellScript/0.awsrunShellScript/stderr',\n",
       " 'CloudWatchOutputConfig': {'CloudWatchLogGroupName': '',\n",
       "  'CloudWatchOutputEnabled': False},\n",
       " 'ResponseMetadata': {'RequestId': '4f7c93f4-71ca-4622-a985-f25bcb93794f',\n",
       "  'HTTPStatusCode': 200,\n",
       "  'HTTPHeaders': {'server': 'Server',\n",
       "   'date': 'Sun, 21 Mar 2021 08:45:55 GMT',\n",
       "   'content-type': 'application/x-amz-json-1.1',\n",
       "   'content-length': '12840',\n",
       "   'connection': 'keep-alive',\n",
       "   'x-amzn-requestid': '4f7c93f4-71ca-4622-a985-f25bcb93794f'},\n",
       "  'RetryAttempts': 0}}"
      ]
     },
     "execution_count": 50,
     "metadata": {},
     "output_type": "execute_result"
    }
   ],
   "source": [
    "ssm_client.get_command_invocation(\n",
    "    CommandId=keras_capture_out['Command']['CommandId'],\n",
    "    InstanceId=instance_id,\n",
    ")"
   ]
  },
  {
   "cell_type": "code",
   "execution_count": 51,
   "metadata": {},
   "outputs": [
    {
     "name": "stdout",
     "output_type": "stream",
     "text": [
      "download: s3://sagemaker-us-east-2-057716757052/DEMO-Sagemaker-Edge/87ed1414-5da6-40d5-acb5-b6f6ec6191c9/i-0de031526f9170fb6/awsrunShellScript/0.awsrunShellScript/stdout to ./stdout\n"
     ]
    }
   ],
   "source": [
    "s3_out='s3://sagemaker-us-east-2-057716757052/DEMO-Sagemaker-Edge/87ed1414-5da6-40d5-acb5-b6f6ec6191c9/i-0de031526f9170fb6/awsrunShellScript/0.awsrunShellScript/stdout'\n",
    "!aws s3 cp {s3_out} ."
   ]
  },
  {
   "cell_type": "markdown",
   "metadata": {},
   "source": [
    "### Unload Model\n",
    "\n",
    "After unloading a model, the same name can be reused for future `LoadModel` APIs calls."
   ]
  },
  {
   "cell_type": "code",
   "execution_count": 52,
   "metadata": {},
   "outputs": [],
   "source": [
    "unload_model_out = ssm_client.send_command(\n",
    "    InstanceIds=[instance_id],\n",
    "    DocumentName=\"AWS-RunShellScript\",\n",
    "    OutputS3BucketName=bucket,\n",
    "    OutputS3KeyPrefix=folder,\n",
    "    Parameters={\n",
    "        'commands':[\n",
    "            \"cd /demo\",\n",
    "            \"./bin/sagemaker_edge_agent_client_example UnloadModel demo-keras\"\n",
    "        ]\n",
    "    }\n",
    ")"
   ]
  },
  {
   "cell_type": "code",
   "execution_count": 53,
   "metadata": {},
   "outputs": [
    {
     "data": {
      "text/plain": [
       "{'CommandId': '07354c70-e32a-4d00-8153-b67acad4e886',\n",
       " 'InstanceId': 'i-0aabb20c139dde1af',\n",
       " 'Comment': '',\n",
       " 'DocumentName': 'AWS-RunShellScript',\n",
       " 'DocumentVersion': '',\n",
       " 'PluginName': 'aws:runShellScript',\n",
       " 'ResponseCode': 0,\n",
       " 'ExecutionStartDateTime': '2021-03-21T08:47:09.006Z',\n",
       " 'ExecutionElapsedTime': 'PT0.12S',\n",
       " 'ExecutionEndDateTime': '2021-03-21T08:47:09.006Z',\n",
       " 'Status': 'Success',\n",
       " 'StatusDetails': 'Success',\n",
       " 'StandardOutputContent': 'Model demo-keras has been unloaded\\nUnLoadModel succeeded\\n',\n",
       " 'StandardOutputUrl': 'https://s3.us-east-2.amazonaws.com/sagemaker-us-east-2-057716757052/DEMO-Sandbox-Sagemaker-Edge/07354c70-e32a-4d00-8153-b67acad4e886/i-0aabb20c139dde1af/awsrunShellScript/0.awsrunShellScript/stdout',\n",
       " 'StandardErrorContent': '',\n",
       " 'StandardErrorUrl': 'https://s3.us-east-2.amazonaws.com/sagemaker-us-east-2-057716757052/DEMO-Sandbox-Sagemaker-Edge/07354c70-e32a-4d00-8153-b67acad4e886/i-0aabb20c139dde1af/awsrunShellScript/0.awsrunShellScript/stderr',\n",
       " 'CloudWatchOutputConfig': {'CloudWatchLogGroupName': '',\n",
       "  'CloudWatchOutputEnabled': False},\n",
       " 'ResponseMetadata': {'RequestId': '39102d2b-c9a5-4453-87bd-efb5377ceaed',\n",
       "  'HTTPStatusCode': 200,\n",
       "  'HTTPHeaders': {'server': 'Server',\n",
       "   'date': 'Sun, 21 Mar 2021 08:47:11 GMT',\n",
       "   'content-type': 'application/x-amz-json-1.1',\n",
       "   'content-length': '1026',\n",
       "   'connection': 'keep-alive',\n",
       "   'x-amzn-requestid': '39102d2b-c9a5-4453-87bd-efb5377ceaed'},\n",
       "  'RetryAttempts': 0}}"
      ]
     },
     "execution_count": 53,
     "metadata": {},
     "output_type": "execute_result"
    }
   ],
   "source": [
    "ssm_client.get_command_invocation(\n",
    "    CommandId=unload_model_out['Command']['CommandId'],\n",
    "    InstanceId=instance_id,\n",
    ")"
   ]
  },
  {
   "cell_type": "markdown",
   "metadata": {},
   "source": [
    "## Clean Up"
   ]
  },
  {
   "cell_type": "markdown",
   "metadata": {},
   "source": [
    "Stop the Agent"
   ]
  },
  {
   "cell_type": "markdown",
   "metadata": {},
   "source": [
    "ssm_client.cancel_command(\n",
    "    CommandId=agent_out['Command']['CommandId'],\n",
    "    InstanceIds=[instance_id]\n",
    ")"
   ]
  },
  {
   "cell_type": "markdown",
   "metadata": {},
   "source": [
    "Stop the EC2 instance"
   ]
  },
  {
   "cell_type": "markdown",
   "metadata": {},
   "source": [
    "ec2_client.stop_instances(\n",
    "    InstanceIds=[instance_id]\n",
    ")"
   ]
  },
  {
   "cell_type": "markdown",
   "metadata": {},
   "source": [
    "Detach and delete policy"
   ]
  },
  {
   "cell_type": "markdown",
   "metadata": {},
   "source": [
    "iot_client.detach_policy(\n",
    "    policyName=policy_name,\n",
    "    target=iot_cert['certificateArn']\n",
    ")\n",
    "\n",
    "iot_client.delete_policy(\n",
    "    policyName=policy_name\n",
    ")"
   ]
  },
  {
   "cell_type": "markdown",
   "metadata": {},
   "source": [
    "Deregister device and delete device fleet"
   ]
  },
  {
   "cell_type": "markdown",
   "metadata": {},
   "source": [
    "sagemaker_client.deregister_devices(\n",
    "    DeviceFleetName=device_fleet_name,\n",
    "    DeviceNames=[device_name]\n",
    ")\n",
    "\n",
    "sagemaker_client.delete_device_fleet(\n",
    "    DeviceFleetName=device_fleet_name\n",
    ")"
   ]
  },
  {
   "cell_type": "markdown",
   "metadata": {},
   "source": [
    "## Appendix"
   ]
  },
  {
   "cell_type": "markdown",
   "metadata": {},
   "source": [
    "### (Optional)Install CloudWatch Agent "
   ]
  },
  {
   "cell_type": "code",
   "execution_count": 54,
   "metadata": {},
   "outputs": [],
   "source": [
    "CW_log_config = {\n",
    "      \"agent\": {\n",
    "        \"metrics_collection_interval\": 10,\n",
    "        \"logfile\": \"/opt/aws/amazon-cloudwatch-agent/logs/amazon-cloudwatch-agent.log\"\n",
    "      },\n",
    "      \"logs\": {\n",
    "        \"logs_collected\": {\n",
    "          \"files\": {\n",
    "            \"collect_list\": [\n",
    "              {\n",
    "                \"file_path\": \"/opt/aws/amazon-cloudwatch-agent/logs/amazon-cloudwatch-agent.log\",\n",
    "                \"log_group_name\": \"amazon-cloudwatch-agent.log\",\n",
    "                \"log_stream_name\": \"amazon-cloudwatch-agent.log\",\n",
    "                \"timezone\": \"UTC\"\n",
    "              },\n",
    "              {\n",
    "                \"file_path\": \"/opt/aws/amazon-cloudwatch-agent/logs/test.log\",\n",
    "                \"log_group_name\": \"test.log\",\n",
    "                \"log_stream_name\": \"test.log\",\n",
    "                \"timezone\": \"Local\"\n",
    "              }\n",
    "            ]\n",
    "          }\n",
    "        },\n",
    "        \"log_stream_name\": \"my_log_stream_name\",\n",
    "        \"force_flush_interval\" : 15\n",
    "      }\n",
    "}"
   ]
  },
  {
   "cell_type": "code",
   "execution_count": 55,
   "metadata": {},
   "outputs": [],
   "source": [
    "CW_file = open(\"cloudwatch.json\", \"w\") \n",
    "json.dump(CW_log_config, CW_file, indent = 6) \n",
    "CW_file.close() "
   ]
  },
  {
   "cell_type": "code",
   "execution_count": 56,
   "metadata": {},
   "outputs": [
    {
     "name": "stdout",
     "output_type": "stream",
     "text": [
      "CW_config_path:  s3://sagemaker-us-east-2-057716757052/DEMO-Sandbox-Sagemaker-Edge/iot/cloudwatch.json\n"
     ]
    }
   ],
   "source": [
    "CW_config_path = sess.upload_data('cloudwatch.json', bucket, iot_folder)\n",
    "print(\"CW_config_path: \", CW_config_path)"
   ]
  },
  {
   "cell_type": "code",
   "execution_count": 58,
   "metadata": {},
   "outputs": [],
   "source": [
    "cw_download_out = ssm_client.send_command(\n",
    "    InstanceIds=[instance_id],\n",
    "    DocumentName=\"AWS-RunShellScript\",\n",
    "    OutputS3BucketName=bucket,\n",
    "    OutputS3KeyPrefix=folder,\n",
    "    Parameters={\n",
    "        'commands':[\n",
    "            \"#!/bin/bash\",\n",
    "            \"aws s3 cp \" + CW_config_path + \" /opt/aws/amazon-cloudwatch-agent/etc/amazon-cloudwatch-agent.json\"\n",
    "        ]\n",
    "    }\n",
    ")"
   ]
  },
  {
   "cell_type": "code",
   "execution_count": 59,
   "metadata": {},
   "outputs": [
    {
     "data": {
      "text/plain": [
       "{'CommandId': '8478abf5-781d-4f8f-a3d2-e599f7a58e6f',\n",
       " 'InstanceId': 'i-0aabb20c139dde1af',\n",
       " 'Comment': '',\n",
       " 'DocumentName': 'AWS-RunShellScript',\n",
       " 'DocumentVersion': '',\n",
       " 'PluginName': 'aws:runShellScript',\n",
       " 'ResponseCode': 0,\n",
       " 'ExecutionStartDateTime': '2021-03-21T08:50:31.722Z',\n",
       " 'ExecutionElapsedTime': 'PT0.682S',\n",
       " 'ExecutionEndDateTime': '2021-03-21T08:50:31.722Z',\n",
       " 'Status': 'Success',\n",
       " 'StatusDetails': 'Success',\n",
       " 'StandardOutputContent': 'Completed 1.2 KiB/1.2 KiB (24.6 KiB/s) with 1 file(s) remaining\\rdownload: s3://sagemaker-us-east-2-057716757052/DEMO-Sandbox-Sagemaker-Edge/iot/cloudwatch.json to ../../../../opt/aws/amazon-cloudwatch-agent/etc/amazon-cloudwatch-agent.json\\n',\n",
       " 'StandardOutputUrl': 'https://s3.us-east-2.amazonaws.com/sagemaker-us-east-2-057716757052/DEMO-Sandbox-Sagemaker-Edge/8478abf5-781d-4f8f-a3d2-e599f7a58e6f/i-0aabb20c139dde1af/awsrunShellScript/0.awsrunShellScript/stdout',\n",
       " 'StandardErrorContent': '',\n",
       " 'StandardErrorUrl': 'https://s3.us-east-2.amazonaws.com/sagemaker-us-east-2-057716757052/DEMO-Sandbox-Sagemaker-Edge/8478abf5-781d-4f8f-a3d2-e599f7a58e6f/i-0aabb20c139dde1af/awsrunShellScript/0.awsrunShellScript/stderr',\n",
       " 'CloudWatchOutputConfig': {'CloudWatchLogGroupName': '',\n",
       "  'CloudWatchOutputEnabled': False},\n",
       " 'ResponseMetadata': {'RequestId': '5a43a195-87f6-4c10-8da6-906c185180f1',\n",
       "  'HTTPStatusCode': 200,\n",
       "  'HTTPHeaders': {'server': 'Server',\n",
       "   'date': 'Sun, 21 Mar 2021 08:50:33 GMT',\n",
       "   'content-type': 'application/x-amz-json-1.1',\n",
       "   'content-length': '1210',\n",
       "   'connection': 'keep-alive',\n",
       "   'x-amzn-requestid': '5a43a195-87f6-4c10-8da6-906c185180f1'},\n",
       "  'RetryAttempts': 0}}"
      ]
     },
     "execution_count": 59,
     "metadata": {},
     "output_type": "execute_result"
    }
   ],
   "source": [
    "ssm_client.get_command_invocation(\n",
    "    CommandId=cw_download_out['Command']['CommandId'],\n",
    "    InstanceId=instance_id,\n",
    ")"
   ]
  },
  {
   "cell_type": "code",
   "execution_count": 61,
   "metadata": {},
   "outputs": [],
   "source": [
    "cw_dpkg_out = ssm_client.send_command(\n",
    "    InstanceIds=[instance_id],\n",
    "    DocumentName=\"AWS-RunShellScript\",\n",
    "    OutputS3BucketName=bucket,\n",
    "    OutputS3KeyPrefix=folder,\n",
    "    Parameters={\n",
    "        'commands':[\n",
    "            \"#!/bin/bash\",\n",
    "            \"wget https://s3.amazonaws.com/amazoncloudwatch-agent/ubuntu/amd64/latest/amazon-cloudwatch-agent.deb\",\n",
    "            \"sudo dpkg -i -E ./amazon-cloudwatch-agent.deb\",\n",
    "        ]\n",
    "    }\n",
    ")"
   ]
  },
  {
   "cell_type": "markdown",
   "metadata": {},
   "source": [
    "Install Cloud Watch Agent to SSM agent."
   ]
  },
  {
   "cell_type": "code",
   "execution_count": 64,
   "metadata": {},
   "outputs": [
    {
     "data": {
      "text/plain": [
       "{'CommandId': '9cbabb4f-7117-403b-ba0c-5367cdc0c63d',\n",
       " 'InstanceId': 'i-0aabb20c139dde1af',\n",
       " 'Comment': '',\n",
       " 'DocumentName': 'AWS-RunShellScript',\n",
       " 'DocumentVersion': '',\n",
       " 'PluginName': 'aws:runShellScript',\n",
       " 'ResponseCode': 0,\n",
       " 'ExecutionStartDateTime': '2021-03-21T08:55:15.506Z',\n",
       " 'ExecutionElapsedTime': 'PT7.292S',\n",
       " 'ExecutionEndDateTime': '2021-03-21T08:55:22.506Z',\n",
       " 'Status': 'Success',\n",
       " 'StatusDetails': 'Success',\n",
       " 'StandardOutputContent': 'Selecting previously unselected package amazon-cloudwatch-agent.\\n(Reading database ... 167561 files and directories currently installed.)\\nPreparing to unpack ./amazon-cloudwatch-agent.deb ...\\ncreate group cwagent, result: 0\\ncreate user cwagent, result: 0\\nUnpacking amazon-cloudwatch-agent (1.247347.5b250583-1) ...\\nSetting up amazon-cloudwatch-agent (1.247347.5b250583-1) ...\\nProcessing triggers for ureadahead (0.100.0-21) ...\\n',\n",
       " 'StandardOutputUrl': 'https://s3.us-east-2.amazonaws.com/sagemaker-us-east-2-057716757052/DEMO-Sandbox-Sagemaker-Edge/9cbabb4f-7117-403b-ba0c-5367cdc0c63d/i-0aabb20c139dde1af/awsrunShellScript/0.awsrunShellScript/stdout',\n",
       " 'StandardErrorContent': '--2021-03-21 08:55:15--  https://s3.amazonaws.com/amazoncloudwatch-agent/ubuntu/amd64/latest/amazon-cloudwatch-agent.deb\\nResolving s3.amazonaws.com (s3.amazonaws.com)... 52.217.9.230\\nConnecting to s3.amazonaws.com (s3.amazonaws.com)|52.217.9.230|:443... connected.\\nHTTP request sent, awaiting response... 200 OK\\nLength: 54660462 (52M) [application/octet-stream]\\nSaving to: ‘amazon-cloudwatch-agent.deb’\\n\\n     0K .......... .......... .......... .......... ..........  0% 4.41M 12s\\n    50K .......... .......... .......... .......... ..........  0% 4.37M 12s\\n   100K .......... .......... .......... .......... ..........  0% 2.29M 15s\\n   150K .......... .......... .......... .......... ..........  0% 59.0M 12s\\n   200K .......... .......... .......... .......... ..........  0% 4.84M 12s\\n   250K .......... .......... .......... .......... ..........  0% 83.2M 10s\\n   300K .......... .......... .......... .......... ..........  0% 69.9M 8s\\n   350K .......... .......... .......... .......... ..........  0%  149M 7s\\n   400K .......... .......... .......... .......... ..........  0%  151M 7s\\n   450K .......... .......... .......... .......... ..........  0% 5.01M 7s\\n   500K .......... .......... .......... .......... ..........  1% 67.8M 6s\\n   550K .......... .......... .......... .......... ..........  1% 79.2M 6s\\n   600K .......... .......... .......... .......... ..........  1% 77.9M 6s\\n   650K .......... .......... .......... .......... ..........  1%  209M 5s\\n   700K .......... .......... .......... .......... ..........  1%  214M 5s\\n   750K .......... .......... .......... .......... ..........  1%  236M 5s\\n   800K .......... .......... .......... .......... ..........  1%  244M 4s\\n   850K .......... .......... .......... .......... ..........  1%  185M 4s\\n   900K .......... .......... .......... .......... ..........  1% 4.93M 4s\\n   950K .......... .......... .......... .......... ..........  1% 44.7M 4s\\n  1000K .......... .......... .......... .......... ..........  1%  122M 4s\\n  1050K .......... .......... .......... .......... ..........  2% 58.3M 4s\\n  1100K .......... .......... .......... .......... ..........  2% 63.4M 4s\\n  1150K .......... .......... .......... .......... ..........  2% 67.0M 4s\\n  1200K .......... .......... .......... .......... ..........  2% 88.9M 3s\\n  1250K .......... .......... .......... .......... ..........  2% 97.8M 3s\\n  1300K .......... .......... .......... .......... ..........  2%  295M 3s\\n  1350K .......... .......... .......... .......... ..........  2%  284M 3s\\n  1400K .......... .......... .......... .......... ..........  2% 47.6M 3s\\n  1450K .......... .......... .......... .......... ..........  2%  177M 3s\\n  1500K .......... .......... .......... .......... ..........  2%  190M 3s\\n  1550K .......... .......... .......... .......... ..........  2%  210M 3s\\n  1600K .......... .......... .......... .......... ..........  3%  231M 3s\\n  1650K .......... .......... .......... .......... ..........  3%  206M 3s\\n  1700K .......... .......... .......... .......... ..........  3%  205M 3s\\n  1750K .......... .......... .......... .......... ..........  3%  240M 2s\\n  1800K .......... .......... .......... .......... ..........  3% 16.7M 3s\\n  1850K .......... .......... .......... .......... ..........  3%  239M 2s\\n  1900K .......... .......... .......... .......... ..........  3% 76.8M 2s\\n  1950K .......... .......... .......... .......... ..........  3% 67.0M 2s\\n  2000K .......... .......... .......... .......... ..........  3%  230M 2s\\n  2050K .......... .......... .......... .......... ..........  3% 77.2M 2s\\n  2100K .......... .......... .......... .......... ..........  4% 99.7M 2s\\n  2150K .......... .......... .......... .......... ..........  4%  198M 2s\\n  2200K .......... .......... .......... .......... ..........  4%  101M 2s\\n  2250K .......... .......... .......... .......... ..........  4%  115M 2s\\n  2300K .......... .......... .......... .......... ..........  4%  120M 2s\\n  2350K .......... .......... .......... .......... ..........  4%  117M 2s\\n  2400K .......... .......... .......... .......... ..........  4%  211M 2s\\n  2450K .......... .......... .......... .......... ..........  4%  131M 2s\\n  2500K .......... .......... .......... .......... ..........  4%  228M 2s\\n  2550K .......... .......... .......... .......... ..........  4%  205M 2s\\n  2600K .......... .......... .......... .......... ..........  4%  224M 2s\\n  2650K .......... .......... .......... .......... ..........  5%  221M 2s\\n  2700K .......... .......... .......... .......... ..........  5%  186M 2s\\n  2750K .......... .......... .......... .......... ..........  5%  214M 2s\\n  2800K .......... .......... .......... .......... ..........  5%  207M 2s\\n  2850K .......... .......... .......... .......... ..........  5%  209M 2s\\n  2900K .......... .......... .......... .......... ..........  5%  196M 2s\\n  2950K .......... .......... .......... .......... ..........  5%  231M 2s\\n  3000K .......... .......... .......... .......... ..........  5%  211M 2s\\n  3050K .......... .......... .......... .......... ..........  5%  227M 2s\\n  3100K .......... .......... .......... .......... ..........  5%  188M 2s\\n  3150K .......... .......... .......... .......... ..........  5%  208M 2s\\n  3200K .......... .......... .......... .......... ..........  6%  250M 2s\\n  3250K .......... .......... .......... .......... ..........  6%  236M 2s\\n  3300K .......... .......... .......... .......... ..........  6% 14.4M 2s\\n  3350K .......... .......... .......... .......... ..........  6% 71.7M 2s\\n  3400K .......... .......... .......... .......... ..........  6% 77.7M 2s\\n  3450K .......... .......... .......... .......... ..........  6% 76.7M 1s\\n  3500K .......... .......... .......... .......... ..........  6% 65.8M 1s\\n  3550K .......... .......... .......... .......... ..........  6% 73.1M 1s\\n  3600K .......... .......... .......... .......... ..........  6% 77.6M 1s\\n  3650K .......... .......... .......... .......... ..........  6% 70.5M 1s\\n  3700K .......... .......... .......... .......... ..........  7% 63.9M 1s\\n  3750K .......... .......... .......... .......... ..........  7% 75.6M 1s\\n  3800K .......... .......... .......... .......... ..........  7% 73.3M 1s\\n  3850K .......... .......... .......... .......... ..........  7% 68.4M 1s\\n  3900K .......... .......... .......... .......... ..........  7% 67.0M 1s\\n  3950K .......... .......... .......... .......... ..........  7% 78.7M 1s\\n  4000K .......... .......... .......... .......... ..........  7% 66.8M 1s\\n  4050K .......... .......... .......... .......... ..........  7%  106M 1s\\n  4100K .......... .......... .......... .......... ..........  7%  119M 1s\\n  4150K .......... .......... .......... .......... ..........  7%  138M 1s\\n  4200K .......... .......... .......... .......... ..........  7%  142M 1s\\n  4250K .......... .......... .......... .......... ..........  8%  130M 1s\\n  4300K .......... .......... .......... .......... ..........  8% 94.8M 1s\\n  4350K .......... .......... .......... .......... ..........  8%  148M 1s\\n  4400K .......... .......... .......... .......... ..........  8% 30.3M 1s\\n  4450K .......... .......... .......... .......... ..........  8%  239M 1s\\n  4500K .......... .......... .......... .......... ..........  8%  197M 1s\\n  4550K .......... .......... .......... .......... ..........  8%  214M 1s\\n  4600K .......... .......... .......... .......... ..........  8%  217M 1s\\n  4650K .......... .......... .......... .......... ..........  8%  216M 1s\\n  4700K .......... .......... .......... .......... ..........  8%  181M 1s\\n  4750K .......... .......... .......... .......... ..........  8%  177M 1s\\n  4800K .......... .......... .......... .......... ..........  9%  246M 1s\\n  4850K .......... .......... .......... .......... ..........  9%  229M 1s\\n  4900K .......... .......... .......... .......... ..........  9%  192M 1s\\n  4950K .......... .......... .......... .......... ..........  9%  226M 1s\\n  5000K .......... .......... .......... .......... ..........  9%  238M 1s\\n  5050K .......... .......... .......... .......... ..........  9%  227M 1s\\n  5100K .......... .......... .......... .......... ..........  9%  204M 1s\\n  5150K .......... .......... .......... .......... ..........  9%  244M 1s\\n  5200K .......... .......... .......... .......... ..........  9%  214M 1s\\n  5250K .......... .......... .......... .......... ..........  9%  241M 1s\\n  5300K .......... .......... .......... .......... .......... 10%  204M 1s\\n  5350K .......... .......... .......... .......... .......... 10%  238M 1s\\n  5400K .......... .......... .......... .......... .......... 10%  238M 1s\\n  5450K .......... .......... .......... .......... .......... 10%  211M 1s\\n  5500K .......... .......... .......... .......... .......... 10%  171M 1s\\n  5550K .......... .......... .......... .......... .......... 10%  239M 1s\\n  5600K .......... .......... .......... .......... .......... 10%  226M 1s\\n  5650K .......... .......... .......... .......... .......... 10%  238M 1s\\n  5700K .......... .......... .......... .......... .......... 10%  222M 1s\\n  5750K .......... .......... .......... .......... .......... 10%  250M 1s\\n  5800K .......... .......... .......... .......... .......... 10%  241M 1s\\n  5850K .......... .......... .......... .......... .......... 11%  218M 1s\\n  5900K .......... .......... .......... .......... .......... 11%  198M 1s\\n  5950K .......... .......... .......... .......... .......... 11%  243M 1s\\n  6000K .......... .......... .......... .......... .......... 11%  243M 1s\\n  6050K .......... .......... .......... .......... .......... 11%  245M 1s\\n  6100K .......... .......... .......... .......... .......... 11%  209M 1s\\n  6150K .......... .......... .......... .......... .......... 11%  254M 1s\\n  6200K .......... .......... .......... .......... .......... 11%  265M 1s\\n  6250K .......... .......... .......... .......... .......... 11%  244M 1s\\n  6300K .......... .......... .......... .......... .......... 11%  190M 1s\\n  6350K .......... .......... .......... .......... .......... 11%  248M 1s\\n  6400K .......... .......... .......... .......... .......... 12% 11.6M 1s\\n  6450K .......... .......... .......... .......... .......... 12% 99.4M 1s\\n  6500K .......... .......... .......... .......... .......... 12% 85.3M 1s\\n  6550K .......... .......... .......... .......... .......... 12% 95.5M 1s\\n  6600K .......... .......... .......... .......... .......... 12% 99.7M 1s\\n  6650K .......... .......... .......... .......... .......... 12% 93.6M 1s\\n  6700K .......... .......... .......... .......... .......... 12% 85.0M 1s\\n  6750K .......... .......... .......... .......... .......... 12% 92.9M 1s\\n  6800K .......... .......... .......... .......... .......... 12%  100M 1s\\n  6850K .......... .......... .......... .......... .......... 12%  102M 1s\\n  6900K .......... .......... .......... .......... .......... 13% 88.8M 1s\\n  6950K .......... .......... .......... .......... .......... 13% 93.0M 1s\\n  7000K .......... .......... .......... .......... .......... 13%  106M 1s\\n  7050K .......... .......... .......... .......... .......... 13% 98.7M 1s\\n  7100K .......... .......... .......... .......... .......... 13% 83.7M 1s\\n  7150K .......... .......... .......... .......... .......... 13%  105M 1s\\n  7200K .......... .......... .......... .......... .......... 13% 94.8M 1s\\n  7250K .......... .......... .......... .......... .......... 13% 97.4M 1s\\n  7300K .......... .......... .......... .......... .......... 13% 85.6M 1s\\n  7350K .......... .......... .......... .......... .......... 13% 98.6M 1s\\n  7400K .......... .......... .......... .......... .......... 13% 96.2M 1s\\n  7450K .......... .......... .......... .......... .......... 14% 94.8M 1s\\n  7500K .......... .......... .......... .......... .......... 14% 78.4M 1s\\n  7550K .......... .......... .......... .......... .......... 14% 94.5M 1s\\n  7600K .......... .......... .......... .......... .......... 14% 91.0M 1s\\n  7650K .......... .......... .......... .......... .......... 14% 95.3M 1s\\n  7700K .......... .......... .......... .......... .......... 14% 86.3M 1s\\n  7750K .......... .......... .......... .......... .......... 14% 99.7M 1s\\n  7800K .......... .......... .......... .......... .......... 14%  102M 1s\\n  7850K .......... .......... .......... .......... .......... 14%  106M 1s\\n  7900K .......... .......... .......... .......... .......... 14% 85.2M 1s\\n  7950K .......... .......... .......... .......... .......... 14% 93.5M 1s\\n  8000K .......... .......... .......... .......... .......... 15%  101M 1s\\n  8050K .......... .......... .......... .......... .......... 15% 99.6M 1s\\n  8100K .......... .......... .......... .......... .......... 15% 87.3M 1s\\n  8150K .......... .......... .......... .......... .......... 15% 97.8M 1s\\n  8200K .......... .......... .......... .......... .......... 15% 94.2M 1s\\n  8250K .......... .......... .......... .......... .......... 15% 99.9M 1s\\n  8300K .......... .......... .......... .......... .......... 15% 85.0M 1s\\n  8350K .......... .......... .......... .......... .......... 15% 97.5M 1s\\n  8400K .......... .......... .......... .......... .......... 15% 96.6M 1s\\n  8450K .......... .......... .......... .......... .......... 15%  103M 1s\\n  8500K .......... .......... .......... .......... .......... 16% 90.6M 1s\\n  8550K .......... .......... .......... .......... .......... 16%  103M 1s\\n  8600K .......... .......... .......... .......... .......... 16%  101M 1s\\n  8650K .......... .......... .......... .......... .......... 16%  105M 1s\\n  8700K .......... .......... .......... .......... .......... 16% 88.4M 1s\\n  8750K .......... .......... .......... .......... .......... 16% 98.4M 1s\\n  8800K .......... .......... .......... .......... .......... 16% 98.4M 1s\\n  8850K .......... .......... .......... .......... .......... 16% 93.5M 1s\\n  8900K .......... .......... .......... .......... .......... 16% 90.2M 1s\\n  8950K .......... .......... .......... .......... .......... 16% 37.6M 1s\\n  9000K .......... .......... .......... .......... .......... 16% 98.4M 1s\\n  9050K .......... .......... .......... .......... .......... 17%  101M 1s\\n  9100K .......... .......... .......... .......... .......... 17% 79.9M 1s\\n  9150K .......... .......... .......... .......... .......... 17% 64.1M 1s\\n  9200K .......... .......... .......... .......... .......... 17%  106M 1s\\n  9250K .......... .......... .......... .......... .......... 17%  202M 1s\\n  9300K .......... .......... .......... .......... .......... 17%  233M 1s\\n  9350K .......... .......... .......... .......... .......... 17%  242M 1s\\n  9400K .......... .......... .......... .......... .......... 17%  219M 1s\\n  9450K .......... .......... .......... .......... .......... 17%  248M 1s\\n  9500K .......... .......... .......... .......... .......... 17%  190M 1s\\n  9550K .......... .......... .......... .......... .......... 17%  226M 1s\\n  9600K .......... .......... .......... .......... .......... 18%  218M 1s\\n  9650K .......... .......... .......... .......... .......... 18%  207M 1s\\n  9700K .......... .......... .......... .......... .......... 18%  216M 1s\\n  9750K .......... .......... .......... .......... .......... 18%  222M 1s\\n  9800K .......... .......... .......... .......... .......... 18%  217M 1s\\n  9850K .......... .......... .......... .......... .......... 18%  253M 1s\\n  9900K .......... .......... .......... .......... .......... 18%  191M 1s\\n  9950K .......... .......... .......... .......... .......... 18%  234M 1s\\n 10000K .......... .......... .......... .......... .......... 18%  216M 1s\\n 10050K .......... .......... .......... .......... .......... 18%  236M 1s\\n 10100K .......... .......... .......... .......... .......... 19%  235M 1s\\n 10150K .......... .......... .......... .......... .......... 19%  237M 1s\\n 10200K .......... .......... .......... .......... .......... 19%  233M 1s\\n 10250K .......... .......... .......... .......... .......... 19%  252M 1s\\n 10300K .......... .......... .......... .......... .......... 19%  214M 1s\\n 10350K .......... .......... .......... .......... .......... 19%  240M 1s\\n 10400K .......... .......... .......... .......... .......... 19%  258M 1s\\n 10450K .......... .......... .......... .......... .......... 19%  256M 1s\\n 10500K .......... .......... .......... .......... .......... 19%  190M 1s\\n 10550K .......... .......... .......... .......... .......... 19%  247M 1s\\n 10600K .......... .......... .......... .......... .......... 19%  236M 1s\\n 10650K .......... .......... .......... .......... .......... 20%  228M 1s\\n 10700K .......... .......... .......... .......... .......... 20%  179M 1s\\n 10750K .......... .......... .......... .......... .......... 20%  235M 1s\\n 10800K .......... .......... .......... .......... .......... 20%  238M 1s\\n 10850K .......... .......... .......... .......... .......... 20%  227M 1s\\n 10900K .......... .......... .......... .......... .......... 20%  225M 1s\\n 10950K .......... .......... .......... .......... .......... 20%  235M 1s\\n 11000K .......... .......... .......... .......... .......... 20%  245M 1s\\n 11050K .......... .......... .......... .......... .......... 20%  230M 1s\\n 11100K .......... .......... .......... .......... .......... 20%  202M 1s\\n 11150K .......... .......... .......... .......... .......... 20%  234M 1s\\n 11200K .......... .......... .......... .......... .......... 21%  246M 1s\\n 11250K .......... .......... .......... .......... .......... 21%  249M 1s\\n 11300K .......... .......... .......... .......... .......... 21%  135M 1s\\n 11350K .......... .......... .......... .......... .......... 21% 17.7M 1s\\n 11400K .......... .......... .......... .......... .......... 21%  174M 1s\\n 11450K .......... .......... .......... .......... .......... 21%  169M 1s\\n 11500K .......... .......... .......... .......... .......... 21%  162M 1s\\n 11550K .......... .......... .......... .......... .......... 21%  190M 1s\\n 11600K .......... .......... .......... .......... .......... 21%  196M 1s\\n 11650K .......... .......... .......... .......... .......... 21%  195M 1s\\n 11700K .......... .......... .......... .......... .......... 22%  150M 1s\\n 11750K .......... .......... .......... .......... .......... 22%  181M 1s\\n 11800K .......... .......... .......... .......... .......... 22%  204M 1s\\n 11850K .......... .......... .......... .......... .......... 22%  170M 1s\\n 11900K .......... .......... .......... .......... .......... 22% 23.3M 1s\\n 11950K .......... .......... .......... .......... .......... 22%  173M 1s\\n 12000K .......... .......... .......... .......... .......... 22%  197M 1s\\n 12050K .......... .......... .......... .......... .......... 22%  183M 1s\\n 12100K .......... .......... .......... .......... .......... 22%  151M 1s\\n 12150K .......... .......... .......... .......... .......... 22%  171M 1s\\n 12200K .......... .......... .......... .......... .......... 22%  159M 1s\\n 12250K .......... .......... .......... .......... .......... 23%  184M 1s\\n 12300K .......... .......... .......... .......... .......... 23%  171M 1s\\n 12350K .......... .......... .......... .......... .......... 23%  199M 1s\\n 12400K .......... .......... .......... .......... .......... 23% 25.3M 1s\\n 12450K .......... .......... .......... .......... .......... 23%  180M 1s\\n 12500K .......... .......... .......... .......... .......... 23%  174M 1s\\n 12550K .......... .......... .......... .......... .......... 23%  183M 1s\\n 12600K .......... .......... .......... .......... .......... 23%  190M 1s\\n 12650K .......... .......... .......... .......... .......... 23%  173M 1s\\n 12700K .......... .......... .......... .......... .......... 23%  166M 1s\\n 12750K .......... .......... .......... .......... .......... 23%  201M 1s\\n 12800K .......... .......... .......... .......... .......... 24%  199M 1s\\n 12850K .......... .......... .......... .......... .......... 24%  190M 1s\\n 12900K .......... .......... .......... .......... .......... 24%  178M 1s\\n 12950K .......... .......... .......... .......... .......... 24%  217M 1s\\n 13000K .......... .......... .......... .......... .......... 24%  217M 1s\\n 13050K .......... .......... .......... .......... .......... 24%  223M 1s\\n 13100K .......... .......... .......... .......... .......... 24%  201M 1s\\n 13150K .......... .......... .......... .......... .......... 24%  244M 1s\\n 13200K .......... .......... .......... .......... .......... 24%  254M 1s\\n 13250K .......... .......... .......... .......... .......... 24%  247M 1s\\n 13300K .......... .......... .......... .......... .......... 25%  198M 1s\\n 13350K .......... .......... .......... .......... .......... 25%  214M 1s\\n 13400K .......... .......... .......... .......... .......... 25%  203M 1s\\n 13450K .......... .......... .......... .......... .......... 25%  155M 1s\\n 13500K .......... .......... .......... .......... .......... 25%  145M 1s\\n 13550K .......... .......... .......... .......... .......... 25%  176M 1s\\n 13600K .......... .......... .......... .......... .......... 25%  193M 1s\\n 13650K .......... .......... .......... .......... .......... 25%  182M 1s\\n 13700K .......... .......... .......... .......... .......... 25%  179M 1s\\n 13750K .......... .......... .......... .......... .......... 25%  196M 1s\\n 13800K .......... .......... .......... .......... .......... 25%  179M 1s\\n 13850K .......... .......... .......... .......... .......... 26%  173M 1s\\n 13900K .......... .......... .......... .......... .......... 26%  152M 1s\\n 13950K .......... .......... .......... .......... .......... 26%  193M 1s\\n 14000K .......... .......... .......... .......... .......... 26%  200M 1s\\n 14050K .......... .......... .......... .......... .......... 26%  196M 1s\\n 14100K .......... .......... .......... .......... .......... 26%  166M 1s\\n 14150K .......... .......... .......... .......... .......... 26%  198M 1s\\n 14200K .......... .......... .......... .......... .......... 26%  213M 1s\\n 14250K .......... .......... .......... .......... .......... 26%  173M 1s\\n 14300K .......... .......... .......... .......... .......... 26%  150M 1s\\n 14350K .......... .......... .......... .......... .......... 26%  190M 1s\\n 14400K .......... .......... .......... .......... .......... 27%  175M 1s\\n 14450K .......... .......... .......... .......... .......... 27%  181M 1s\\n 14500K .......... .......... .......... .......... .......... 27%  169M 1s\\n 14550K .......... .......... .......... .......... .......... 27%  197M 1s\\n 14600K .......... .......... .......... .......... .......... 27%  174M 1s\\n 14650K .......... .......... .......... .......... .......... 27% 8.37M 1s\\n 14700K .......... .......... .......... .......... .......... 27%  141M 1s\\n 14750K .......... .......... .......... .......... .......... 27%  177M 1s\\n 14800K .......... .......... .......... .......... .......... 27%  204M 1s\\n 14850K .......... .......... .......... .......... .......... 27%  194M 1s\\n 14900K .......... .......... .......... .......... .......... 28%  164M 1s\\n 14950K .......... .......... .......... .......... .......... 28%  193M 1s\\n 15000K .......... .......... .......... .......... .......... 28%  194M 1s\\n 15050K .......... .......... .......... .......... .......... 28%  179M 1s\\n 15100K .......... .......... .......... .......... .......... 28%  160M 1s\\n 15150K .......... .......... .......... .......... .......... 28%  183M 1s\\n 15200K .......... .......... .......... .......... .......... 28%  206M 1s\\n 15250K .......... .......... .......... .......... .......... 28%  196M 1s\\n 15300K .......... .......... .......... .......... .......... 28%  158M 0s\\n 15350K .......... .......... .......... .......... .......... 28%  221M 0s\\n 15400K .......... .......... .......... .......... .......... 28%  245M 0s\\n 15450K .......... .......... .......... .......... .......... 29%  247M 0s\\n 15500--output truncated--',\n",
       " 'StandardErrorUrl': 'https://s3.us-east-2.amazonaws.com/sagemaker-us-east-2-057716757052/DEMO-Sandbox-Sagemaker-Edge/9cbabb4f-7117-403b-ba0c-5367cdc0c63d/i-0aabb20c139dde1af/awsrunShellScript/0.awsrunShellScript/stderr',\n",
       " 'CloudWatchOutputConfig': {'CloudWatchLogGroupName': '',\n",
       "  'CloudWatchOutputEnabled': False},\n",
       " 'ResponseMetadata': {'RequestId': '5e0e42a8-ede6-4c04-9e65-9fc8ddf74e2c',\n",
       "  'HTTPStatusCode': 200,\n",
       "  'HTTPHeaders': {'server': 'Server',\n",
       "   'date': 'Sun, 21 Mar 2021 08:55:43 GMT',\n",
       "   'content-type': 'application/x-amz-json-1.1',\n",
       "   'content-length': '25721',\n",
       "   'connection': 'keep-alive',\n",
       "   'x-amzn-requestid': '5e0e42a8-ede6-4c04-9e65-9fc8ddf74e2c'},\n",
       "  'RetryAttempts': 0}}"
      ]
     },
     "execution_count": 64,
     "metadata": {},
     "output_type": "execute_result"
    }
   ],
   "source": [
    "ssm_client.get_command_invocation(\n",
    "    CommandId=cw_dpkg_out['Command']['CommandId'],\n",
    "    InstanceId=instance_id,\n",
    ")"
   ]
  },
  {
   "cell_type": "code",
   "execution_count": 65,
   "metadata": {},
   "outputs": [],
   "source": [
    "install_cw_out = ssm_client.send_command(\n",
    "    DocumentName=\"AWS-ConfigureAWSPackage\",\n",
    "    DocumentVersion='1',\n",
    "    OutputS3BucketName=bucket,\n",
    "    OutputS3KeyPrefix=folder,\n",
    "    Targets=[\n",
    "        {\n",
    "            'Key': 'InstanceIds',\n",
    "            'Values': [instance_id]\n",
    "        },\n",
    "    ],\n",
    "    TimeoutSeconds=600,\n",
    "    Parameters={\n",
    "        'action': ['Install'],\n",
    "        \"name\": [\"AmazonCloudWatchAgent\"]\n",
    "    },\n",
    "    MaxConcurrency='50',\n",
    "    MaxErrors='0'\n",
    ")"
   ]
  },
  {
   "cell_type": "code",
   "execution_count": 67,
   "metadata": {},
   "outputs": [
    {
     "data": {
      "text/plain": [
       "{'CommandId': 'd9b87b78-5a09-4a03-8601-51e53b96bcc6',\n",
       " 'InstanceId': 'i-0aabb20c139dde1af',\n",
       " 'Comment': '',\n",
       " 'DocumentName': 'AWS-ConfigureAWSPackage',\n",
       " 'DocumentVersion': '1',\n",
       " 'PluginName': 'configurePackage',\n",
       " 'ResponseCode': 0,\n",
       " 'ExecutionStartDateTime': '2021-03-21T08:56:39.232Z',\n",
       " 'ExecutionElapsedTime': 'PT3.48S',\n",
       " 'ExecutionEndDateTime': '2021-03-21T08:56:42.232Z',\n",
       " 'Status': 'Success',\n",
       " 'StatusDetails': 'Success',\n",
       " 'StandardOutputContent': 'Initiating arn:aws:ssm:::package/AmazonCloudWatchAgent 1.247347.5b250583 install\\nPlugin aws:runShellScript ResultStatus Success\\ninstall output: Running sh install.sh\\n\\nSuccessfully installed arn:aws:ssm:::package/AmazonCloudWatchAgent 1.247347.5b250583\\n',\n",
       " 'StandardOutputUrl': 'https://s3.us-east-2.amazonaws.com/sagemaker-us-east-2-057716757052/DEMO-Sandbox-Sagemaker-Edge/d9b87b78-5a09-4a03-8601-51e53b96bcc6/i-0aabb20c139dde1af/awsconfigurePackage/configurePackage/stdout',\n",
       " 'StandardErrorContent': 'install errors: dpkg: version 1.247347.5b250583-1 of amazon-cloudwatch-agent already installed, skipping\\n\\n',\n",
       " 'StandardErrorUrl': 'https://s3.us-east-2.amazonaws.com/sagemaker-us-east-2-057716757052/DEMO-Sandbox-Sagemaker-Edge/d9b87b78-5a09-4a03-8601-51e53b96bcc6/i-0aabb20c139dde1af/awsconfigurePackage/configurePackage/stderr',\n",
       " 'CloudWatchOutputConfig': {'CloudWatchLogGroupName': '',\n",
       "  'CloudWatchOutputEnabled': False},\n",
       " 'ResponseMetadata': {'RequestId': '16ee6301-a254-4b6e-920b-be2881806d12',\n",
       "  'HTTPStatusCode': 200,\n",
       "  'HTTPHeaders': {'server': 'Server',\n",
       "   'date': 'Sun, 21 Mar 2021 08:57:16 GMT',\n",
       "   'content-type': 'application/x-amz-json-1.1',\n",
       "   'content-length': '1334',\n",
       "   'connection': 'keep-alive',\n",
       "   'x-amzn-requestid': '16ee6301-a254-4b6e-920b-be2881806d12'},\n",
       "  'RetryAttempts': 0}}"
      ]
     },
     "execution_count": 67,
     "metadata": {},
     "output_type": "execute_result"
    }
   ],
   "source": [
    "ssm_client.get_command_invocation(\n",
    "    CommandId=install_cw_out['Command']['CommandId'],\n",
    "    InstanceId=instance_id,\n",
    ")"
   ]
  },
  {
   "cell_type": "code",
   "execution_count": 68,
   "metadata": {},
   "outputs": [],
   "source": [
    "cloudwatch_response = ssm_client.send_command(\n",
    "    InstanceIds=[instance_id],\n",
    "    DocumentName=\"AWS-RunShellScript\",\n",
    "    OutputS3BucketName=bucket,\n",
    "    OutputS3KeyPrefix=folder,\n",
    "    CloudWatchOutputConfig={\n",
    "        'CloudWatchOutputEnabled': True\n",
    "    },\n",
    "    Parameters={\n",
    "        'commands':[\n",
    "            \"cd /demo\",\n",
    "            \"./bin/neo_agent_binary -a /tmp/sagemaker_edge_agent_example.sock -c neo_config.json\" \n",
    "        ]\n",
    "    }\n",
    ")"
   ]
  },
  {
   "cell_type": "markdown",
   "metadata": {},
   "source": [
    "To debug with CloudWatch, add a paramater `CloudWatchOutputConfig` to `send_command`\n",
    "```\n",
    "CloudWatchOutputConfig={\n",
    "    'CloudWatchOutputEnabled': True\n",
    "}\n",
    "```\n",
    "\n",
    "Example:\n",
    "```\n",
    "ssm_client.send_command(\n",
    "    InstanceIds=[instance_id],\n",
    "    DocumentName=\"AWS-RunShellScript\",\n",
    "    OutputS3BucketName=bucket,\n",
    "    OutputS3KeyPrefix=folder,\n",
    "    CloudWatchOutputConfig={\n",
    "        'CloudWatchOutputEnabled': True\n",
    "    },\n",
    "    Parameters={\n",
    "        'commands':[\n",
    "            \"cd /demo\",\n",
    "            \"./bin/neo_agent_binary -a /tmp/sagemaker_edge_agent_example.sock -c neo_config.json\" \n",
    "        ]\n",
    "    }\n",
    ")\n",
    "```\n",
    "\n",
    "Running log can be found in cloud watch log group `/aws/ssm/AWS-RunShellScript`"
   ]
  },
  {
   "cell_type": "code",
   "execution_count": 70,
   "metadata": {},
   "outputs": [
    {
     "data": {
      "text/plain": [
       "{'CommandId': '415570ea-194a-450f-bb0f-102e686015a3',\n",
       " 'InstanceId': 'i-0aabb20c139dde1af',\n",
       " 'Comment': '',\n",
       " 'DocumentName': 'AWS-RunShellScript',\n",
       " 'DocumentVersion': '',\n",
       " 'PluginName': 'aws:runShellScript',\n",
       " 'ResponseCode': 127,\n",
       " 'ExecutionStartDateTime': '2021-03-21T08:58:10.907Z',\n",
       " 'ExecutionElapsedTime': 'PT3.155S',\n",
       " 'ExecutionEndDateTime': '2021-03-21T08:58:13.907Z',\n",
       " 'Status': 'Failed',\n",
       " 'StatusDetails': 'Failed',\n",
       " 'StandardOutputContent': '',\n",
       " 'StandardOutputUrl': 'https://s3.us-east-2.amazonaws.com/sagemaker-us-east-2-057716757052/DEMO-Sandbox-Sagemaker-Edge/415570ea-194a-450f-bb0f-102e686015a3/i-0aabb20c139dde1af/awsrunShellScript/0.awsrunShellScript/stdout',\n",
       " 'StandardErrorContent': '/var/lib/amazon/ssm/i-0aabb20c139dde1af/document/orchestration/415570ea-194a-450f-bb0f-102e686015a3/awsrunShellScript/0.awsrunShellScript/_script.sh: 2: /var/lib/amazon/ssm/i-0aabb20c139dde1af/document/orchestration/415570ea-194a-450f-bb0f-102e686015a3/awsrunShellScript/0.awsrunShellScript/_script.sh: ./bin/neo_agent_binary: not found\\nfailed to run commands: exit status 127',\n",
       " 'StandardErrorUrl': 'https://s3.us-east-2.amazonaws.com/sagemaker-us-east-2-057716757052/DEMO-Sandbox-Sagemaker-Edge/415570ea-194a-450f-bb0f-102e686015a3/i-0aabb20c139dde1af/awsrunShellScript/0.awsrunShellScript/stderr',\n",
       " 'CloudWatchOutputConfig': {'CloudWatchLogGroupName': '',\n",
       "  'CloudWatchOutputEnabled': True},\n",
       " 'ResponseMetadata': {'RequestId': 'daef0133-d692-4366-bc91-7a4ba29d5bb2',\n",
       "  'HTTPStatusCode': 200,\n",
       "  'HTTPHeaders': {'server': 'Server',\n",
       "   'date': 'Sun, 21 Mar 2021 08:58:21 GMT',\n",
       "   'content-type': 'application/x-amz-json-1.1',\n",
       "   'content-length': '1344',\n",
       "   'connection': 'keep-alive',\n",
       "   'x-amzn-requestid': 'daef0133-d692-4366-bc91-7a4ba29d5bb2'},\n",
       "  'RetryAttempts': 0}}"
      ]
     },
     "execution_count": 70,
     "metadata": {},
     "output_type": "execute_result"
    }
   ],
   "source": [
    "ssm_client.get_command_invocation(\n",
    "    CommandId=cloudwatch_response['Command']['CommandId'],\n",
    "    InstanceId=instance_id,\n",
    ")"
   ]
  },
  {
   "cell_type": "markdown",
   "metadata": {},
   "source": [
    "![cw_error.png](img/cw_error.png)"
   ]
  },
  {
   "cell_type": "code",
   "execution_count": null,
   "metadata": {},
   "outputs": [],
   "source": []
  }
 ],
 "metadata": {
  "kernelspec": {
   "display_name": "conda_tensorflow_p36",
   "language": "python",
   "name": "conda_tensorflow_p36"
  },
  "language_info": {
   "codemirror_mode": {
    "name": "ipython",
    "version": 3
   },
   "file_extension": ".py",
   "mimetype": "text/x-python",
   "name": "python",
   "nbconvert_exporter": "python",
   "pygments_lexer": "ipython3",
   "version": "3.6.13"
  }
 },
 "nbformat": 4,
 "nbformat_minor": 4
}
