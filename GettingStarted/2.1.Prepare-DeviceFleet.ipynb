{
 "cells": [
  {
   "cell_type": "markdown",
   "metadata": {},
   "source": [
    "# [Module 2.1] 모델 준비, AWS IoT Thing, Device Fleet 생성 및 엣지 디바이스 등록\n",
    "\n",
    "이 노트북은 아래와 같은 주요 작업을 합니다.\n",
    "### 1. 모델 준비\n",
    "\n",
    "- mobile-net pre-trained model다운로드\n",
    "- Neo로  모델 컴파일\n",
    "- 컴파일된 모델을 패키징\n",
    "\n",
    "### 2. AWS IoT Thing 생성\n",
    "##### 엣지 디바이스 --> AWS IoT thing 인증 수행 --> SageMaker 엣지 매니저 엔드포인트 호출\n",
    "SageMaker 엣지 매니저는 AWS IoT 코어를 사용하여 디바이스를 인증하므로 AWS 클라우드의 SageMaker 엣지 매니저 엔드포인트를 호출할 수 있습니다. \n",
    "\n",
    "- IoT Thing Name, Iot Thing Type을 생성함\n",
    "\n",
    "### 3. Device Fleet 생성\n",
    "    - Fleet 이 사용할 Role 생성 및 정책 추가 (예: SageMaker2Fleet2gsmoon)\n",
    "    - Role 에 trust relationship 추가\n",
    "\n",
    "### 4. 엣지 디바이스 device fleet에 등록\n",
    "- device_name, IotThingName 인자로 전달\n",
    "\n",
    "### 5. AWS IoT Thing 에 Client Certificate을 생성 및 등록\n",
    "- private key, public key, X.509 certificateㅇ르 생성\n",
    "- AWS IoT 에 certificate을 등록 및 활성화\n",
    "    - role_alias_name을 가지고 role_alias를 가져오기\n",
    "        - role_alias_name: create_device_fleet() 호출시에 자동 생성\n",
    "    - certificate에 권한 할당할 policy 생성 및 추가\n",
    "    - credential provider 를 위한 엔드포인트 생성\n",
    "        -  보안 토큰에 대한 요청을 인증하기 위해 사용됨\n",
    "- Amazon Root CA file을 얻고, S3 에 업로드\n",
    "- 엔드포인트를 사용하여 보안 토큰을 반환하도록 자격 증명 공급자에게 HTTPS 요청을 보냅니다.\n",
    "- ```AmazonRootCA1.pem, iot.pem.crt, iot_key.pem.key``` s3에 업로드 (IoT Certificate 라 지칭)\n",
    "    * SageMaker Edge Manager Agent 를 설정시에 사용함\n",
    "\n"
   ]
  },
  {
   "cell_type": "code",
   "execution_count": 1,
   "metadata": {},
   "outputs": [],
   "source": [
    "import sagemaker\n",
    "from sagemaker import get_execution_role\n",
    "import boto3\n",
    "import botocore\n",
    "import json\n",
    "\n",
    "role = get_execution_role()\n",
    "sess = sagemaker.Session()\n",
    "region = boto3.Session().region_name"
   ]
  },
  {
   "cell_type": "code",
   "execution_count": 3,
   "metadata": {},
   "outputs": [],
   "source": [
    "%store -r"
   ]
  },
  {
   "cell_type": "code",
   "execution_count": 4,
   "metadata": {},
   "outputs": [],
   "source": [
    "folder = 'DEMO-Sandbox-Sagemaker-Edge'\n",
    "compilation_output_sub_folder = folder + '/compilation-output'\n",
    "iot_folder = folder + '/iot'\n",
    "\n",
    "# S3 Location to save the model artifact after compilation\n",
    "s3_compilation_output_location = 's3://{}/{}'.format(bucket, compilation_output_sub_folder)"
   ]
  },
  {
   "cell_type": "markdown",
   "metadata": {},
   "source": [
    "## SageMaker Neo를 사용하여 Model 컴파일\n",
    "\n",
    "Sagemaker client 생성"
   ]
  },
  {
   "cell_type": "code",
   "execution_count": 5,
   "metadata": {},
   "outputs": [],
   "source": [
    "sagemaker_client = boto3.client('sagemaker', region_name=region)"
   ]
  },
  {
   "cell_type": "markdown",
   "metadata": {},
   "source": [
    "### pretrained Keras model 다운로드"
   ]
  },
  {
   "cell_type": "code",
   "execution_count": 6,
   "metadata": {},
   "outputs": [
    {
     "name": "stdout",
     "output_type": "stream",
     "text": [
      "WARNING:tensorflow:From /home/ec2-user/anaconda3/envs/tensorflow_p36/cpu/lib/python3.6/site-packages/tensorflow_core/__init__.py:1473: The name tf.estimator.inputs is deprecated. Please use tf.compat.v1.estimator.inputs instead.\n",
      "\n",
      "WARNING:tensorflow:From /home/ec2-user/anaconda3/envs/tensorflow_p36/cpu/lib/python3.6/site-packages/tensorflow_core/python/ops/resource_variable_ops.py:1630: calling BaseResourceVariable.__init__ (from tensorflow.python.ops.resource_variable_ops) with constraint is deprecated and will be removed in a future version.\n",
      "Instructions for updating:\n",
      "If using Keras pass *_constraint arguments to layers.\n",
      "Downloading data from https://github.com/JonathanCMitchell/mobilenet_v2_keras/releases/download/v1.1/mobilenet_v2_weights_tf_dim_ordering_tf_kernels_1.0_224.h5\n",
      "14540800/14536120 [==============================] - 0s 0us/step\n",
      "WARNING:tensorflow:OMP_NUM_THREADS is no longer used by the default Keras config. To configure the number of threads, use tf.config.threading APIs.\n"
     ]
    }
   ],
   "source": [
    "import tensorflow as tf\n",
    "\n",
    "model = tf.keras.applications.MobileNetV2()\n",
    "model.save('mobilenet_v2.h5')"
   ]
  },
  {
   "cell_type": "markdown",
   "metadata": {},
   "source": [
    "### 모델 tar 파일 압축 및 S3 업로드"
   ]
  },
  {
   "cell_type": "code",
   "execution_count": 7,
   "metadata": {},
   "outputs": [],
   "source": [
    "import tarfile\n",
    "\n",
    "with tarfile.open('mobilenet_v2.tar.gz', mode='w:gz') as archive:\n",
    "    archive.add('mobilenet_v2.h5')"
   ]
  },
  {
   "cell_type": "code",
   "execution_count": 8,
   "metadata": {},
   "outputs": [
    {
     "name": "stdout",
     "output_type": "stream",
     "text": [
      "keras_model_path:  s3://sagemaker-us-east-2-638683464862/DEMO-Sandbox-Sagemaker-Edge/mobilenet_v2.tar.gz\n"
     ]
    }
   ],
   "source": [
    "keras_model_path = sess.upload_data('mobilenet_v2.tar.gz', bucket, folder)\n",
    "print(\"keras_model_path: \", keras_model_path)"
   ]
  },
  {
   "cell_type": "markdown",
   "metadata": {},
   "source": [
    "### 모델 Neo로 컴파일\n",
    "**[중요]**: \n",
    "- ```create_compilation_job ()```를 호출 할 때 사용자는 성공적인 컴파일을 위해 모델에 필요한 모든 올바른 입력 모양을 제공해야합니다.\n",
    "- 다른 모델을 사용하는 경우 **프레임 워크와 입력 데이터 형태(Shape)**을 올바르게 지정해야합니다."
   ]
  },
  {
   "cell_type": "code",
   "execution_count": 9,
   "metadata": {},
   "outputs": [],
   "source": [
    "keras_model_data_shape = '{\"input_1\":[1,3,224,224]}'\n",
    "keras_model_framework = 'keras'\n",
    "target_device = 'ml_c5'"
   ]
  },
  {
   "cell_type": "code",
   "execution_count": 10,
   "metadata": {},
   "outputs": [
    {
     "name": "stdout",
     "output_type": "stream",
     "text": [
      "Compilation job for Sagemaker-Edge-1616397109 started\n",
      "{'CompilationJobArn': 'arn:aws:sagemaker:us-east-2:638683464862:compilation-job/Sagemaker-Edge-1616397109', 'ResponseMetadata': {'RequestId': 'f66d3e3a-f493-456b-98ec-ba5bb388b4bd', 'HTTPStatusCode': 200, 'HTTPHeaders': {'x-amzn-requestid': 'f66d3e3a-f493-456b-98ec-ba5bb388b4bd', 'content-type': 'application/x-amz-json-1.1', 'content-length': '106', 'date': 'Mon, 22 Mar 2021 07:11:49 GMT'}, 'RetryAttempts': 0}}\n",
      "Compiling ...\n",
      "Compiling ...\n",
      "Compiling ...\n",
      "Done!\n"
     ]
    }
   ],
   "source": [
    "import time\n",
    "keras_compilation_job_name = 'Sagemaker-Edge-'+ str(time.time()).split('.')[0]\n",
    "print('Compilation job for %s started' % keras_compilation_job_name)\n",
    "\n",
    "response = sagemaker_client.create_compilation_job(\n",
    "        CompilationJobName=keras_compilation_job_name,\n",
    "        RoleArn=role,\n",
    "        InputConfig={\n",
    "            'S3Uri': keras_model_path,\n",
    "            'DataInputConfig': keras_model_data_shape,\n",
    "            'Framework': keras_model_framework.upper()\n",
    "        },\n",
    "        OutputConfig={\n",
    "            'S3OutputLocation': s3_compilation_output_location,\n",
    "            'TargetDevice': target_device \n",
    "        },\n",
    "        StoppingCondition={\n",
    "            'MaxRuntimeInSeconds': 900\n",
    "        }\n",
    "    )\n",
    "\n",
    "print(response)\n",
    "\n",
    "# Poll every 30 sec\n",
    "while True:\n",
    "    response = sagemaker_client.describe_compilation_job(CompilationJobName=keras_compilation_job_name)\n",
    "    if response['CompilationJobStatus'] == 'COMPLETED':\n",
    "        break\n",
    "    elif response['CompilationJobStatus'] == 'FAILED':\n",
    "        raise RuntimeError('Compilation failed')\n",
    "    print('Compiling ...')\n",
    "    time.sleep(30)\n",
    "print('Done!')"
   ]
  },
  {
   "cell_type": "markdown",
   "metadata": {},
   "source": [
    "## Keras Model 패키징"
   ]
  },
  {
   "cell_type": "code",
   "execution_count": 11,
   "metadata": {},
   "outputs": [],
   "source": [
    "keras_packaged_model_name = \"keras-model\"\n",
    "keras_model_version = \"1.0\"\n",
    "keras_model_package = '{}-{}.tar.gz'.format(keras_packaged_model_name, keras_model_version)"
   ]
  },
  {
   "cell_type": "code",
   "execution_count": 12,
   "metadata": {},
   "outputs": [
    {
     "name": "stdout",
     "output_type": "stream",
     "text": [
      "{'ResponseMetadata': {'RequestId': '4f208aa5-15d2-4aad-9cb7-06488d37b55a', 'HTTPStatusCode': 200, 'HTTPHeaders': {'x-amzn-requestid': '4f208aa5-15d2-4aad-9cb7-06488d37b55a', 'content-type': 'application/x-amz-json-1.1', 'content-length': '0', 'date': 'Mon, 22 Mar 2021 07:13:30 GMT'}, 'RetryAttempts': 0}}\n",
      "Packaging ...\n",
      "Done!\n"
     ]
    }
   ],
   "source": [
    "keras_packaging_job_name=keras_compilation_job_name+\"-packaging\"\n",
    "response = sagemaker_client.create_edge_packaging_job(\n",
    "    RoleArn=role,\n",
    "    OutputConfig={\n",
    "        'S3OutputLocation': s3_compilation_output_location,\n",
    "    },\n",
    "    ModelName=keras_packaged_model_name,\n",
    "    ModelVersion=keras_model_version,\n",
    "    EdgePackagingJobName=keras_packaging_job_name,\n",
    "    CompilationJobName=keras_compilation_job_name,\n",
    ")\n",
    "\n",
    "print(response)\n",
    "\n",
    "# Poll every 30 sec\n",
    "while True:\n",
    "    job_status = sagemaker_client.describe_edge_packaging_job(EdgePackagingJobName=keras_packaging_job_name)\n",
    "    if job_status['EdgePackagingJobStatus'] == 'COMPLETED':\n",
    "        break\n",
    "    elif job_status['EdgePackagingJobStatus'] == 'FAILED':\n",
    "        raise RuntimeError('Edge Packaging failed')\n",
    "    print('Packaging ...')\n",
    "    time.sleep(30)\n",
    "print('Done!')"
   ]
  },
  {
   "cell_type": "code",
   "execution_count": 13,
   "metadata": {},
   "outputs": [],
   "source": [
    "keras_model_data = job_status[\"ModelArtifact\"]"
   ]
  },
  {
   "cell_type": "code",
   "execution_count": 14,
   "metadata": {},
   "outputs": [
    {
     "name": "stdout",
     "output_type": "stream",
     "text": [
      "keras_packaged_model_data:  s3://sagemaker-us-east-2-638683464862/DEMO-Sandbox-Sagemaker-Edge/compilation-output/keras-model-1.0.tar.gz\n"
     ]
    }
   ],
   "source": [
    "print(\"keras_packaged_model_data: \", keras_model_data)"
   ]
  },
  {
   "cell_type": "markdown",
   "metadata": {},
   "source": [
    "## AWS IoT thing 생성\n",
    "\n",
    "##### 엣지 디바이스 --> AWS IoT thing 인증 수행 --> SageMaker 엣지 매니저 엔드포인트 호출\n",
    "\n",
    "SageMaker 엣지 매니저는 AWS IoT 코어를 사용하여 디바이스를 인증하므로 AWS 클라우드의 SageMaker 엣지 매니저 엔드포인트를 호출할 수 있습니다. \n",
    "\n",
    "엣지 디바이스에서 AWS 서비스를 사용하려면 먼저 인증해야 합니다.AWS IoT 기반 인증을 통해 이 작업을 수행하는 것이 좋습니다. 자세한 내용은 [여기](https://docs.aws.amazon.com/iot/latest/developerguide/authorizing-direct-aws.html) 및 [여기](https://aws.amazon.com/blogs/security/how-to-eliminate-the-need-for-hardcoded-aws-credentials-in-devices-by-using-the-aws-iot-credentials-provider/).\n",
    "\n",
    "\n"
   ]
  },
  {
   "cell_type": "code",
   "execution_count": 15,
   "metadata": {},
   "outputs": [],
   "source": [
    "iot_client = boto3.client('iot', region_name=region)"
   ]
  },
  {
   "cell_type": "code",
   "execution_count": 16,
   "metadata": {},
   "outputs": [],
   "source": [
    "iot_thing_name = 'sagemaker-edge-thing-demo-sandbox'\n",
    "iot_thing_type = 'SagemakerEdgeDemoSandBox'"
   ]
  },
  {
   "cell_type": "code",
   "execution_count": 17,
   "metadata": {},
   "outputs": [
    {
     "data": {
      "text/plain": [
       "{'ResponseMetadata': {'RequestId': 'e0e507e3-5f31-47c8-a983-fba5d9c200a1',\n",
       "  'HTTPStatusCode': 200,\n",
       "  'HTTPHeaders': {'date': 'Mon, 22 Mar 2021 07:14:22 GMT',\n",
       "   'content-type': 'application/json',\n",
       "   'content-length': '185',\n",
       "   'connection': 'keep-alive',\n",
       "   'x-amzn-requestid': 'e0e507e3-5f31-47c8-a983-fba5d9c200a1',\n",
       "   'access-control-allow-origin': '*',\n",
       "   'x-amz-apigw-id': 'ck-IOHmtiYcFWNg=',\n",
       "   'x-amzn-trace-id': 'Root=1-605843ce-582f59c104839e6559760b3f'},\n",
       "  'RetryAttempts': 0},\n",
       " 'thingTypeName': 'SagemakerEdgeDemoSandBox',\n",
       " 'thingTypeArn': 'arn:aws:iot:us-east-2:638683464862:thingtype/SagemakerEdgeDemoSandBox',\n",
       " 'thingTypeId': '48f9de3f-58ae-4400-95d5-f011e4b44c2f'}"
      ]
     },
     "execution_count": 17,
     "metadata": {},
     "output_type": "execute_result"
    }
   ],
   "source": [
    "iot_client.create_thing_type(\n",
    "    thingTypeName=iot_thing_type\n",
    ")"
   ]
  },
  {
   "cell_type": "code",
   "execution_count": 18,
   "metadata": {},
   "outputs": [
    {
     "data": {
      "text/plain": [
       "{'ResponseMetadata': {'RequestId': '04aae813-4256-46c5-9388-5d39b2688e99',\n",
       "  'HTTPStatusCode': 200,\n",
       "  'HTTPHeaders': {'date': 'Mon, 22 Mar 2021 07:14:25 GMT',\n",
       "   'content-type': 'application/json',\n",
       "   'content-length': '187',\n",
       "   'connection': 'keep-alive',\n",
       "   'x-amzn-requestid': '04aae813-4256-46c5-9388-5d39b2688e99',\n",
       "   'access-control-allow-origin': '*',\n",
       "   'x-amz-apigw-id': 'ck-IrGhRCYcFtxg=',\n",
       "   'x-amzn-trace-id': 'Root=1-605843d1-6a3b39046b2fb8b55cb2bcbe'},\n",
       "  'RetryAttempts': 0},\n",
       " 'thingName': 'sagemaker-edge-thing-demo-sandbox',\n",
       " 'thingArn': 'arn:aws:iot:us-east-2:638683464862:thing/sagemaker-edge-thing-demo-sandbox',\n",
       " 'thingId': '2f2500ef-51c6-4e9d-911c-a883fbce3390'}"
      ]
     },
     "execution_count": 18,
     "metadata": {},
     "output_type": "execute_result"
    }
   ],
   "source": [
    "iot_client.create_thing(\n",
    "    thingName=iot_thing_name,\n",
    "    thingTypeName=iot_thing_type\n",
    ")"
   ]
  },
  {
   "cell_type": "markdown",
   "metadata": {},
   "source": [
    "## Device Fleet 생성"
   ]
  },
  {
   "cell_type": "markdown",
   "metadata": {},
   "source": [
    "### (1) Fleet 이 사용할 Role 생성 및 정책 추가 (예: SageMaker2Fleet2gsmoon)"
   ]
  },
  {
   "cell_type": "markdown",
   "metadata": {},
   "source": [
    "**[중요]: 역할 이름은 'SageMaker'로 시작해야 합니다.**\n",
    "AWS 계정에서 디바이스 집합(Device Fleet)의 디바이스를 대신하여 자격 증명 공급자가 수임할 IAM 역할을 구성합니다. \n",
    "\n",
    "\n",
    "\n",
    "[IAM 콘솔](https://console.aws.amazon.com/iam) 로 이동하여 IoT에 대한 역할을 생성하고 다음 정책을 연결합니다.\n",
    "\n",
    "- AmazonSageMakerEdgeDeviceFleetPolicy\n",
    "\n",
    "### (2) 신뢰 관계에 대한 다음 문장을 추가합니다.\n",
    "\n",
    "Add the statement to trust relationship:\n",
    "```\n",
    "{\n",
    "  \"Version\": \"2012-10-17\",\n",
    "  \"Statement\": [\n",
    "      {\n",
    "        \"Effect\": \"Allow\",\n",
    "        \"Principal\": {\"Service\": \"credentials.iot.amazonaws.com\"},\n",
    "        \"Action\": \"sts:AssumeRole\"\n",
    "      },\n",
    "      {\n",
    "        \"Effect\": \"Allow\",\n",
    "        \"Principal\": {\"Service\": \"sagemaker.amazonaws.com\"},\n",
    "        \"Action\": \"sts:AssumeRole\"\n",
    "      }\n",
    "  ]\n",
    "}\n",
    "``\n",
    "위의 role ARN을 메모하세요. device fleet 생성시 사용 됩니다.\n"
   ]
  },
  {
   "cell_type": "markdown",
   "metadata": {},
   "source": [
    "### (3) Device Fleet 명령 실행\n",
    "#### [중요] 아래 Role을 꼭 바꾸어 주세요.\n",
    "`    RoleArn= <Role>, # arn:aws:iam::<account>:role/SageMaker* # 위에서 생성한 Role을 넣어주세요`"
   ]
  },
  {
   "cell_type": "code",
   "execution_count": 21,
   "metadata": {},
   "outputs": [
    {
     "data": {
      "text/plain": [
       "{'ResponseMetadata': {'RequestId': '5d830cb0-baed-4930-af72-dd240d3dcad7',\n",
       "  'HTTPStatusCode': 200,\n",
       "  'HTTPHeaders': {'x-amzn-requestid': '5d830cb0-baed-4930-af72-dd240d3dcad7',\n",
       "   'content-type': 'application/x-amz-json-1.1',\n",
       "   'content-length': '0',\n",
       "   'date': 'Mon, 22 Mar 2021 07:18:20 GMT'},\n",
       "  'RetryAttempts': 0}}"
      ]
     },
     "execution_count": 21,
     "metadata": {},
     "output_type": "execute_result"
    }
   ],
   "source": [
    "device_fleet_name =\"demo2device2fleet\" + str(time.time()).split('.')[0]\n",
    "\n",
    "sagemaker_client.create_device_fleet(\n",
    "    DeviceFleetName=device_fleet_name,\n",
    "    RoleArn= <Role>, # arn:aws:iam::<account>:role/SageMaker* # 위에서 생성한 Role을 넣어주세요\n",
    "    # Example: RoleArn = 'arn:aws:iam::638XXXXX2:role/SageMaker2Fleet2gsmoon',\n",
    "    OutputConfig={\n",
    "        'S3OutputLocation': s3_compilation_output_location\n",
    "    }\n",
    ")"
   ]
  },
  {
   "cell_type": "markdown",
   "metadata": {},
   "source": [
    "## Device fleet에 엣지 디바이스 추가"
   ]
  },
  {
   "cell_type": "code",
   "execution_count": 22,
   "metadata": {},
   "outputs": [
    {
     "data": {
      "text/plain": [
       "{'ResponseMetadata': {'RequestId': 'a326d104-da89-4075-aeac-f5b6c3799646',\n",
       "  'HTTPStatusCode': 200,\n",
       "  'HTTPHeaders': {'x-amzn-requestid': 'a326d104-da89-4075-aeac-f5b6c3799646',\n",
       "   'content-type': 'application/x-amz-json-1.1',\n",
       "   'content-length': '0',\n",
       "   'date': 'Mon, 22 Mar 2021 07:18:31 GMT'},\n",
       "  'RetryAttempts': 0}}"
      ]
     },
     "execution_count": 22,
     "metadata": {},
     "output_type": "execute_result"
    }
   ],
   "source": [
    "device_name = \"sagemaker-edge-demo-device\" + str(time.time()).split('.')[0] # device name should be 36 charactors\n",
    "\n",
    "sagemaker_client.register_devices(\n",
    "    DeviceFleetName=device_fleet_name,\n",
    "    Devices=[\n",
    "        {          \n",
    "            \"DeviceName\": device_name,\n",
    "            \"IotThingName\": iot_thing_name,\n",
    "            \"Description\": \"this is a sample virtual device\"\n",
    "        }\n",
    "    ]\n",
    ")"
   ]
  },
  {
   "cell_type": "markdown",
   "metadata": {},
   "source": [
    "아래는 엣지 디바이스를 위에서 추가하고, SageMaker Console의 Edge Manager의 메뉴에서 엣지 디바이스 메뉴 클릭 후에 화면 입니다. "
   ]
  },
  {
   "cell_type": "markdown",
   "metadata": {},
   "source": [
    "![DeviceRegistered.png](img/DeviceRegistered.png)"
   ]
  },
  {
   "cell_type": "markdown",
   "metadata": {},
   "source": [
    "## AWS IoT에 client certificate 생성 및 등록"
   ]
  },
  {
   "cell_type": "markdown",
   "metadata": {},
   "source": [
    "- 프라이빗 키, 퍼블릭 키 및 X.509 인증서 파일을 생성합니다. \n",
    "- AWS IoT에 인증서를 등록하고 활성화합니다. \n",
    "- 파일들(프라이빗 키, 퍼블릭 키 및 X.509 인증서 파일)을 저장하고 S3 버킷에 업로드 합니다.\n",
    "- **이 파일들은 aws service와 통신하기 위해서 엣지 디바이스의 자격 증명을 제공하는 데 사용됩니다.**"
   ]
  },
  {
   "cell_type": "code",
   "execution_count": 23,
   "metadata": {},
   "outputs": [],
   "source": [
    "iot_cert = iot_client.create_keys_and_certificate(\n",
    "    setAsActive=True\n",
    ")"
   ]
  },
  {
   "cell_type": "code",
   "execution_count": 24,
   "metadata": {},
   "outputs": [],
   "source": [
    "with open('./iot.pem.crt', 'w') as f:\n",
    "    for line in iot_cert['certificatePem'].split('\\n'):\n",
    "        f.write(line)\n",
    "        f.write('\\n')"
   ]
  },
  {
   "cell_type": "code",
   "execution_count": 25,
   "metadata": {},
   "outputs": [],
   "source": [
    "with open('./iot_key.pem.key', 'w') as f:\n",
    "    for line in iot_cert['keyPair']['PrivateKey'].split('\\n'):\n",
    "        f.write(line)\n",
    "        f.write('\\n')"
   ]
  },
  {
   "cell_type": "code",
   "execution_count": 26,
   "metadata": {},
   "outputs": [],
   "source": [
    "with open('./iot_key_pair.pem.key', 'w') as f:\n",
    "    for line in iot_cert['keyPair']['PublicKey'].split('\\n'):\n",
    "        f.write(line)\n",
    "        f.write('\\n')"
   ]
  },
  {
   "cell_type": "markdown",
   "metadata": {},
   "source": [
    "- `Create_device_fleet () '에서 생성된 역할 별칭을 AWS IoT와 연결합니다.\n",
    "    - 위에서 `create_device_fleet()` 실행하면 `role alias` 가 자동 생성 됩니다."
   ]
  },
  {
   "cell_type": "code",
   "execution_count": 27,
   "metadata": {},
   "outputs": [
    {
     "name": "stdout",
     "output_type": "stream",
     "text": [
      "role_alias_name:  SageMakerEdge-demo2device2fleet1616397500\n"
     ]
    }
   ],
   "source": [
    "role_alias_name = 'SageMakerEdge-' + device_fleet_name\n",
    "print(\"role_alias_name: \", role_alias_name)"
   ]
  },
  {
   "cell_type": "code",
   "execution_count": 28,
   "metadata": {},
   "outputs": [
    {
     "name": "stdout",
     "output_type": "stream",
     "text": [
      "role_alias:  {'ResponseMetadata': {'RequestId': '4a89f0ad-0577-4804-a663-562e2f515d10', 'HTTPStatusCode': 200, 'HTTPHeaders': {'date': 'Mon, 22 Mar 2021 07:19:42 GMT', 'content-type': 'application/json', 'content-length': '377', 'connection': 'keep-alive', 'x-amzn-requestid': '4a89f0ad-0577-4804-a663-562e2f515d10', 'access-control-allow-origin': '*', 'x-amz-apigw-id': 'ck-6QHJnCYcF2Aw=', 'x-amzn-trace-id': 'Root=1-6058450e-211dc776351304612a678bc8'}, 'RetryAttempts': 0}, 'roleAliasDescription': {'roleAlias': 'SageMakerEdge-demo2device2fleet1616397500', 'roleAliasArn': 'arn:aws:iot:us-east-2:638683464862:rolealias/SageMakerEdge-demo2device2fleet1616397500', 'roleArn': 'arn:aws:iam::638683464862:role/SageMaker2Fleet2gsmoon', 'owner': '638683464862', 'credentialDurationSeconds': 3600, 'creationDate': datetime.datetime(2021, 3, 22, 7, 18, 20, 938000, tzinfo=tzlocal()), 'lastModifiedDate': datetime.datetime(2021, 3, 22, 7, 18, 20, 938000, tzinfo=tzlocal())}}\n"
     ]
    }
   ],
   "source": [
    "role_alias = iot_client.describe_role_alias(\n",
    "    roleAlias=role_alias_name\n",
    ")\n",
    "print(\"role_alias: \", role_alias)"
   ]
  },
  {
   "cell_type": "markdown",
   "metadata": {},
   "source": [
    "디바이스를 성공적으로 인증하기 위해 이전에 AWS IoT에 인증서를 생성하고 등록했습니다.이제 보안 토큰에 대한 요청을 인증하기 위해 정책을 만들고 인증서에 첨부해야 합니다."
   ]
  },
  {
   "cell_type": "code",
   "execution_count": 29,
   "metadata": {},
   "outputs": [],
   "source": [
    "alias_policy = {\n",
    "  \"Version\": \"2012-10-17\",\n",
    "  \"Statement\": {\n",
    "    \"Effect\": \"Allow\",\n",
    "    \"Action\": \"iot:AssumeRoleWithCertificate\",\n",
    "    \"Resource\": role_alias['roleAliasDescription']['roleAliasArn']\n",
    "  }\n",
    "}"
   ]
  },
  {
   "cell_type": "code",
   "execution_count": 30,
   "metadata": {},
   "outputs": [],
   "source": [
    "policy_name = 'aliaspolicy-'+ str(time.time()).split('.')[0]\n",
    "aliaspolicy = iot_client.create_policy(\n",
    "    policyName=policy_name,\n",
    "    policyDocument=json.dumps(alias_policy),\n",
    ")"
   ]
  },
  {
   "cell_type": "code",
   "execution_count": 31,
   "metadata": {},
   "outputs": [
    {
     "data": {
      "text/plain": [
       "{'ResponseMetadata': {'RequestId': '4d173b39-c792-4173-ae0a-e09456900b8e',\n",
       "  'HTTPStatusCode': 200,\n",
       "  'HTTPHeaders': {'date': 'Mon, 22 Mar 2021 07:19:48 GMT',\n",
       "   'content-type': 'application/json',\n",
       "   'content-length': '0',\n",
       "   'connection': 'keep-alive',\n",
       "   'x-amzn-requestid': '4d173b39-c792-4173-ae0a-e09456900b8e',\n",
       "   'access-control-allow-origin': '*',\n",
       "   'x-amz-apigw-id': 'ck-7MHdDiYcFTMQ=',\n",
       "   'x-amzn-trace-id': 'Root=1-60584514-762cd25b3fdc781f400b01c8'},\n",
       "  'RetryAttempts': 0}}"
      ]
     },
     "execution_count": 31,
     "metadata": {},
     "output_type": "execute_result"
    }
   ],
   "source": [
    "iot_client.attach_policy(\n",
    "    policyName=policy_name,\n",
    "    target=iot_cert['certificateArn']\n",
    ")"
   ]
  },
  {
   "cell_type": "markdown",
   "metadata": {},
   "source": [
    "자격 증명 공급자에 대한 AWS 계정별 엔드포인트를 가져옵니다."
   ]
  },
  {
   "cell_type": "code",
   "execution_count": 32,
   "metadata": {},
   "outputs": [],
   "source": [
    "iot_endpoint = iot_client.describe_endpoint(\n",
    "    endpointType='iot:CredentialProvider'\n",
    ")"
   ]
  },
  {
   "cell_type": "code",
   "execution_count": 33,
   "metadata": {},
   "outputs": [
    {
     "name": "stdout",
     "output_type": "stream",
     "text": [
      "endpoint:  https://c1er7obc0yilbm.credentials.iot.us-east-2.amazonaws.com/role-aliases/SageMakerEdge-demo2device2fleet1616397500/credentials\n"
     ]
    }
   ],
   "source": [
    "endpoint = \"https://{}/role-aliases/{}/credentials\".format(iot_endpoint['endpointAddress'], role_alias_name)\n",
    "print(\"endpoint: \", endpoint)"
   ]
  },
  {
   "cell_type": "markdown",
   "metadata": {},
   "source": [
    "공식 Amazon 루트 CA 파일을 가져와 S3 버킷에 업로드합니다. "
   ]
  },
  {
   "cell_type": "code",
   "execution_count": 34,
   "metadata": {},
   "outputs": [
    {
     "name": "stdout",
     "output_type": "stream",
     "text": [
      "--2021-03-22 07:19:56--  https://www.amazontrust.com/repository/AmazonRootCA1.pem\n",
      "Resolving www.amazontrust.com (www.amazontrust.com)... 99.86.62.71, 99.86.62.81, 99.86.62.125, ...\n",
      "Connecting to www.amazontrust.com (www.amazontrust.com)|99.86.62.71|:443... connected.\n",
      "HTTP request sent, awaiting response... 200 OK\n",
      "Length: 1188 (1.2K) [text/plain]\n",
      "Saving to: ‘AmazonRootCA1.pem’\n",
      "\n",
      "AmazonRootCA1.pem   100%[===================>]   1.16K  --.-KB/s    in 0s      \n",
      "\n",
      "2021-03-22 07:19:56 (197 MB/s) - ‘AmazonRootCA1.pem’ saved [1188/1188]\n",
      "\n"
     ]
    }
   ],
   "source": [
    "!wget https://www.amazontrust.com/repository/AmazonRootCA1.pem"
   ]
  },
  {
   "cell_type": "markdown",
   "metadata": {},
   "source": [
    "엔드포인트를 사용하여 보안 토큰을 반환하도록 자격 증명 공급자에게 HTTPS 요청을 보냅니다.다음 예제 명령은 curl을 사용하지만 모든 HTTP 클라이언트를 사용할 수 있습니다.\n",
    "\n",
    "#### 자격 증명을 확인합니다.\n",
    "- **[중요] 아래 주석을 해제하고 실행 해보세요. 정상적으로 에러가 없이 수행이 되어야 합니다.**\n",
    "- 엔드포인트에서 오류 없이 인증서를 확인할 수 있는 경우 S3 버킷에 인증서 파일을 업로드합니다.\n",
    "- **이 파일들은 EC2/장치의 [세이지메이커 에지 관리자 에이전트 설정] 섹션에서 자격 증명 공급자로 사용됩니다.**\n",
    "\n"
   ]
  },
  {
   "cell_type": "code",
   "execution_count": 36,
   "metadata": {},
   "outputs": [],
   "source": [
    "# !curl --cert iot.pem.crt --key iot_key.pem.key --cacert AmazonRootCA1.pem $endpoint"
   ]
  },
  {
   "cell_type": "code",
   "execution_count": 37,
   "metadata": {},
   "outputs": [],
   "source": [
    "root_ca_path = sess.upload_data('AmazonRootCA1.pem', bucket, iot_folder)\n",
    "device_cert_path = sess.upload_data('iot.pem.crt', bucket, iot_folder)\n",
    "device_key_path = sess.upload_data('iot_key.pem.key', bucket, iot_folder)"
   ]
  },
  {
   "cell_type": "code",
   "execution_count": 38,
   "metadata": {},
   "outputs": [
    {
     "name": "stdout",
     "output_type": "stream",
     "text": [
      "Stored 'root_ca_path' (str)\n",
      "Stored 'device_cert_path' (str)\n",
      "Stored 'device_key_path' (str)\n",
      "Stored 'keras_model_data' (str)\n",
      "Stored 'keras_model_package' (str)\n",
      "Stored 'device_fleet_name' (str)\n",
      "Stored 'device_name' (str)\n",
      "Stored 'endpoint' (str)\n",
      "Stored 'bucket' (str)\n",
      "Stored 'iot_thing_name' (str)\n"
     ]
    }
   ],
   "source": [
    "%store root_ca_path\n",
    "%store device_cert_path\n",
    "%store device_key_path\n",
    "%store keras_model_data\n",
    "%store keras_model_package\n",
    "%store device_fleet_name\n",
    "%store device_name\n",
    "%store endpoint\n",
    "%store bucket\n",
    "%store iot_thing_name"
   ]
  },
  {
   "cell_type": "code",
   "execution_count": null,
   "metadata": {},
   "outputs": [],
   "source": []
  }
 ],
 "metadata": {
  "kernelspec": {
   "display_name": "conda_tensorflow_p36",
   "language": "python",
   "name": "conda_tensorflow_p36"
  },
  "language_info": {
   "codemirror_mode": {
    "name": "ipython",
    "version": 3
   },
   "file_extension": ".py",
   "mimetype": "text/x-python",
   "name": "python",
   "nbconvert_exporter": "python",
   "pygments_lexer": "ipython3",
   "version": "3.6.13"
  }
 },
 "nbformat": 4,
 "nbformat_minor": 4
}
