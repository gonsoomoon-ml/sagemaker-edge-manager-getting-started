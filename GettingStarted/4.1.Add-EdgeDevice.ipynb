{
 "cells": [
  {
   "cell_type": "markdown",
   "metadata": {},
   "source": [
    "# [Module 4.1] 엣지 디바이스(EC2) 추가\n",
    "\n",
    "이 노트북은 아래와 같은 주요 작업을 합니다.\n",
    "새로운 엣지 디바이스가 생성될시에 아래와 같은 작업이 필요 하다는 것을 의미 합니다.\n",
    "\n",
    "#### 1.EC2 인스턴스 생성\n",
    "#### 2.Device Fleet에 엣지 디바이스 등록\n",
    "#### 3.sagemaker edge manager agent를 EC2 인스턴스에 다운로드\n",
    "- Agent 소프트웨서 다운로드, 압출 해제 및 바이너리 파일의 퍼미션 조정 함\n",
    "\n",
    "#### 4.릴리스 버킷에서 모델 서명 루트 인증서를 다운로드\n",
    "- IoT Certificate 다운로드\n",
    "    - AmazonRootCA1.pem, iot.pem.crt, iot_key.pem.key s3에 업로드 \n",
    "    - 위 파일을 EC2에 다운로드\n",
    "\n",
    "#### 5.모델 패키징 파일 다운로드 및 추론할 샘플 이미지 다운로드\n",
    "\n",
    "#### 6.sagemaker edge agent configuration file 생성, S3 업로드 및 EC2에 다운로드\n",
    "\n",
    "#### 7.Launch Edge Agent 실행\n",
    "\n",
    "#### 8.모델 로딩\n",
    "\n",
    "#### 9.모델 추론\n",
    "\n"
   ]
  },
  {
   "cell_type": "code",
   "execution_count": 1,
   "metadata": {},
   "outputs": [],
   "source": [
    "import sagemaker\n",
    "from sagemaker import get_execution_role\n",
    "import boto3\n",
    "import botocore\n",
    "import json\n",
    "\n",
    "role = get_execution_role()\n",
    "sess = sagemaker.Session()\n",
    "region = boto3.Session().region_name"
   ]
  },
  {
   "cell_type": "markdown",
   "metadata": {},
   "source": [
    "이전 노트북에서 사용한 변수를 로딩 합니다."
   ]
  },
  {
   "cell_type": "code",
   "execution_count": 2,
   "metadata": {},
   "outputs": [],
   "source": [
    "%store -r"
   ]
  },
  {
   "cell_type": "code",
   "execution_count": 3,
   "metadata": {},
   "outputs": [],
   "source": [
    "folder = 'DEMO-Sandbox-Sagemaker-Edge'\n",
    "compilation_output_sub_folder = folder + '/compilation-output'\n",
    "iot_folder = folder + '/iot'\n",
    "\n",
    "# S3 Location to save the model artifact after compilation\n",
    "# s3_compilation_output_location = 's3://{}/{}'.format(bucket, compilation_output_sub_folder)"
   ]
  },
  {
   "cell_type": "markdown",
   "metadata": {},
   "source": [
    "### EC2 Instance 생성\n",
    "여기서는 추가적인 EC2 인스턴스를 생성 합니다.\n",
    "- 이전 노트북에서 생성한 key를 재 사용\n",
    "- 이전 노트북에서 생성한 ec2_profile_name를 재 사용"
   ]
  },
  {
   "cell_type": "code",
   "execution_count": 4,
   "metadata": {},
   "outputs": [
    {
     "name": "stdout",
     "output_type": "stream",
     "text": [
      "ec2_profile_name:  EdgeManager-Demo-EC2-gonsoo\n"
     ]
    }
   ],
   "source": [
    "ec2_client = boto3.client('ec2', region_name=region)\n",
    "print(\"ec2_profile_name: \", ec2_profile_name)"
   ]
  },
  {
   "cell_type": "code",
   "execution_count": 5,
   "metadata": {},
   "outputs": [],
   "source": [
    "ami_map = {\n",
    "    'us-east-1': 'ami-063585f0e06d22308',\n",
    "    'us-east-2': 'ami-01bd6a1621a6968d7',\n",
    "    'us-west-2': 'ami-0bc87a16c757a7f07',\n",
    "    'eu-central-1': 'ami-01227276a4e5a4a31',\n",
    "    'ap-northeast-1': 'ami-03b8cfea5460e4881',\n",
    "    'eu-west-1': 'ami-006ff58f5247c50eb'\n",
    "}"
   ]
  },
  {
   "cell_type": "code",
   "execution_count": 6,
   "metadata": {},
   "outputs": [],
   "source": [
    "ec2_instance = ec2_client.run_instances(\n",
    "     ImageId=ami_map[region],\n",
    "     MinCount=1,\n",
    "     MaxCount=1,\n",
    "     InstanceType='c5.large',\n",
    "     KeyName= key_name,\n",
    "     IamInstanceProfile={\n",
    "        'Name': ec2_profile_name}\n",
    ")"
   ]
  },
  {
   "cell_type": "code",
   "execution_count": 7,
   "metadata": {},
   "outputs": [
    {
     "name": "stdout",
     "output_type": "stream",
     "text": [
      "EC2 Instance ID:  i-00ed8289303d74580\n"
     ]
    }
   ],
   "source": [
    "instance_id = ec2_instance['Instances'][0]['InstanceId'] # will used for running inference later\n",
    "print(\"EC2 Instance ID: \", instance_id)"
   ]
  },
  {
   "cell_type": "markdown",
   "metadata": {},
   "source": [
    "### device fleet 에 엣지 디바이스 등록"
   ]
  },
  {
   "cell_type": "code",
   "execution_count": 8,
   "metadata": {},
   "outputs": [],
   "source": [
    "sagemaker_client = boto3.client('sagemaker', region_name=region)"
   ]
  },
  {
   "cell_type": "code",
   "execution_count": 9,
   "metadata": {},
   "outputs": [
    {
     "name": "stdout",
     "output_type": "stream",
     "text": [
      "device_fleet_name:  demo2device2fleet1616397500\n",
      "iot_thing_name:  sagemaker-edge-thing-demo-sandbox\n"
     ]
    }
   ],
   "source": [
    "print(\"device_fleet_name: \", device_fleet_name)\n",
    "print(\"iot_thing_name: \", iot_thing_name)"
   ]
  },
  {
   "cell_type": "code",
   "execution_count": 10,
   "metadata": {},
   "outputs": [
    {
     "data": {
      "text/plain": [
       "{'ResponseMetadata': {'RequestId': 'b54b55af-029f-4ba8-aa2e-e2cbede04a6a',\n",
       "  'HTTPStatusCode': 200,\n",
       "  'HTTPHeaders': {'x-amzn-requestid': 'b54b55af-029f-4ba8-aa2e-e2cbede04a6a',\n",
       "   'content-type': 'application/x-amz-json-1.1',\n",
       "   'content-length': '0',\n",
       "   'date': 'Mon, 22 Mar 2021 07:33:20 GMT'},\n",
       "  'RetryAttempts': 0}}"
      ]
     },
     "execution_count": 10,
     "metadata": {},
     "output_type": "execute_result"
    }
   ],
   "source": [
    "import time\n",
    "device_name = \"sagemaker-edge-demo-device\" + str(time.time()).split('.')[0] # device name should be 36 charactors\n",
    "\n",
    "sagemaker_client.register_devices(\n",
    "    DeviceFleetName=device_fleet_name,\n",
    "    Devices=[\n",
    "        {          \n",
    "            \"DeviceName\": device_name,\n",
    "            \"IotThingName\": iot_thing_name,\n",
    "            \"Description\": \"this is a sample virtual device\"\n",
    "        }\n",
    "    ]\n",
    ")"
   ]
  },
  {
   "cell_type": "markdown",
   "metadata": {},
   "source": [
    "## Edge 디바이스 세팅"
   ]
  },
  {
   "cell_type": "code",
   "execution_count": 11,
   "metadata": {},
   "outputs": [],
   "source": [
    "ssm_client = boto3.client('ssm', region_name=region)"
   ]
  },
  {
   "cell_type": "markdown",
   "metadata": {},
   "source": [
    "### 세이지메이커 에지 관리자 에이전트 바이너리 examples를 EC2 인스턴스로 다운로드합니다.\n",
    "\n",
    "sagemaker 에지 릴리스 버킷에서 바이너리의 최신 버전을 가져 오십시오.[추론 엔진 (에지 관리자 에이전트)](https://docs.aws.amazon.com/sagemaker/latest/dg/edge-device-fleet-about.html) 에 대한 자세한 내용을 참조하십시오.\n",
    "\n",
    "조금 더 자세한 내용은 이전 노트북을 참고 하세요."
   ]
  },
  {
   "cell_type": "code",
   "execution_count": 12,
   "metadata": {},
   "outputs": [],
   "source": [
    "release_bucket_map = {\n",
    "    'armv8' : 'sagemaker-edge-release-store-us-west-2-linux-armv8',\n",
    "    'linux' : 'sagemaker-edge-release-store-us-west-2-linux-x64',\n",
    "    'win64' : 'sagemaker-edge-release-store-us-west-2-windows-x64',\n",
    "    'win32' : 'sagemaker-edge-release-store-us-west-2-windows-x86',\n",
    "}"
   ]
  },
  {
   "cell_type": "code",
   "execution_count": 13,
   "metadata": {},
   "outputs": [],
   "source": [
    "# In this example, we will run inference on linux platform\n",
    "release_bucket = release_bucket_map['linux']"
   ]
  },
  {
   "cell_type": "code",
   "execution_count": 14,
   "metadata": {},
   "outputs": [
    {
     "name": "stdout",
     "output_type": "stream",
     "text": [
      "                           PRE 1.20210305.a4bc999/\n",
      "                           PRE 1.20201218.81f481f/\n",
      "                           PRE 1.20201207.02d0e97/\n",
      "2020-12-02 07:31:22          0 \n"
     ]
    }
   ],
   "source": [
    "!aws s3 ls s3://$release_bucket/Releases/ | sort -r"
   ]
  },
  {
   "cell_type": "code",
   "execution_count": 15,
   "metadata": {},
   "outputs": [],
   "source": [
    "version = \"1.20210305.a4bc999\""
   ]
  },
  {
   "cell_type": "code",
   "execution_count": 18,
   "metadata": {},
   "outputs": [],
   "source": [
    "response = ssm_client.send_command(\n",
    "    InstanceIds=[instance_id],\n",
    "    DocumentName=\"AWS-RunShellScript\",\n",
    "    OutputS3BucketName=bucket,\n",
    "    OutputS3KeyPrefix=folder,\n",
    "    Parameters={\n",
    "        'commands':[\n",
    "            \"#!/bin/bash\",\n",
    "            \"mkdir /demo\",\n",
    "            \"aws s3 cp s3://{}/Releases/{}/{}.tgz demo.tgz\".format(release_bucket, version, version),\n",
    "            \"tar -xf demo.tgz -C /demo\",\n",
    "            \"cd /demo/bin\",\n",
    "            \"chmod +x sagemaker_edge_agent_binary\",\n",
    "            \"chmod +x sagemaker_edge_agent_client_example\"\n",
    "        ]\n",
    "    }\n",
    ")"
   ]
  },
  {
   "cell_type": "markdown",
   "metadata": {},
   "source": [
    "위의 EC2 인스턴스가 생성될때가지 약 30초를 대기 합니다. EC2 컨솔에 가서 실행 상태인지 확인해보세요."
   ]
  },
  {
   "cell_type": "code",
   "execution_count": 21,
   "metadata": {},
   "outputs": [],
   "source": [
    "import time\n",
    "time.sleep(30)"
   ]
  },
  {
   "cell_type": "code",
   "execution_count": 19,
   "metadata": {},
   "outputs": [
    {
     "data": {
      "text/plain": [
       "{'CommandId': '5bdbf388-1469-4d36-9fcc-0e70b6c707e8',\n",
       " 'InstanceId': 'i-00ed8289303d74580',\n",
       " 'Comment': '',\n",
       " 'DocumentName': 'AWS-RunShellScript',\n",
       " 'DocumentVersion': '',\n",
       " 'PluginName': 'aws:runShellScript',\n",
       " 'ResponseCode': 0,\n",
       " 'ExecutionStartDateTime': '2021-03-22T07:34:45.644Z',\n",
       " 'ExecutionElapsedTime': 'PT6.516S',\n",
       " 'ExecutionEndDateTime': '2021-03-22T07:34:51.644Z',\n",
       " 'Status': 'Success',\n",
       " 'StatusDetails': 'Success',\n",
       " 'StandardOutputContent': 'Completed 256.0 KiB/9.1 MiB (334.2 KiB/s) with 1 file(s) remaining\\rCompleted 512.0 KiB/9.1 MiB (628.8 KiB/s) with 1 file(s) remaining\\rCompleted 768.0 KiB/9.1 MiB (922.3 KiB/s) with 1 file(s) remaining\\rCompleted 1.0 MiB/9.1 MiB (1.2 MiB/s) with 1 file(s) remaining    \\rCompleted 1.2 MiB/9.1 MiB (1.4 MiB/s) with 1 file(s) remaining    \\rCompleted 1.5 MiB/9.1 MiB (1.7 MiB/s) with 1 file(s) remaining    \\rCompleted 1.8 MiB/9.1 MiB (2.0 MiB/s) with 1 file(s) remaining    \\rCompleted 1.9 MiB/9.1 MiB (2.1 MiB/s) with 1 file(s) remaining    \\rCompleted 2.1 MiB/9.1 MiB (2.3 MiB/s) with 1 file(s) remaining    \\rCompleted 2.4 MiB/9.1 MiB (2.6 MiB/s) with 1 file(s) remaining    \\rCompleted 2.6 MiB/9.1 MiB (2.8 MiB/s) with 1 file(s) remaining    \\rCompleted 2.9 MiB/9.1 MiB (3.1 MiB/s) with 1 file(s) remaining    \\rCompleted 3.1 MiB/9.1 MiB (3.2 MiB/s) with 1 file(s) remaining    \\rCompleted 3.4 MiB/9.1 MiB (3.5 MiB/s) with 1 file(s) remaining    \\rCompleted 3.6 MiB/9.1 MiB (3.7 MiB/s) with 1 file(s) remaining    \\rCompleted 3.9 MiB/9.1 MiB (4.0 MiB/s) with 1 file(s) remaining    \\rCompleted 4.1 MiB/9.1 MiB (4.2 MiB/s) with 1 file(s) remaining    \\rCompleted 4.4 MiB/9.1 MiB (4.5 MiB/s) with 1 file(s) remaining    \\rCompleted 4.6 MiB/9.1 MiB (4.5 MiB/s) with 1 file(s) remaining    \\rCompleted 4.9 MiB/9.1 MiB (4.8 MiB/s) with 1 file(s) remaining    \\rCompleted 5.1 MiB/9.1 MiB (5.0 MiB/s) with 1 file(s) remaining    \\rCompleted 5.4 MiB/9.1 MiB (5.2 MiB/s) with 1 file(s) remaining    \\rCompleted 5.6 MiB/9.1 MiB (5.5 MiB/s) with 1 file(s) remaining    \\rCompleted 5.9 MiB/9.1 MiB (5.7 MiB/s) with 1 file(s) remaining    \\rCompleted 6.1 MiB/9.1 MiB (5.7 MiB/s) with 1 file(s) remaining    \\rCompleted 6.4 MiB/9.1 MiB (6.0 MiB/s) with 1 file(s) remaining    \\rCompleted 6.6 MiB/9.1 MiB (6.2 MiB/s) with 1 file(s) remaining    \\rCompleted 6.9 MiB/9.1 MiB (6.4 MiB/s) with 1 file(s) remaining    \\rCompleted 7.1 MiB/9.1 MiB (6.6 MiB/s) with 1 file(s) remaining    \\rCompleted 7.4 MiB/9.1 MiB (6.8 MiB/s) with 1 file(s) remaining    \\rCompleted 7.6 MiB/9.1 MiB (6.8 MiB/s) with 1 file(s) remaining    \\rCompleted 7.9 MiB/9.1 MiB (7.0 MiB/s) with 1 file(s) remaining    \\rCompleted 8.1 MiB/9.1 MiB (7.2 MiB/s) with 1 file(s) remaining    \\rCompleted 8.4 MiB/9.1 MiB (7.5 MiB/s) with 1 file(s) remaining    \\rCompleted 8.6 MiB/9.1 MiB (7.7 MiB/s) with 1 file(s) remaining    \\rCompleted 8.9 MiB/9.1 MiB (7.9 MiB/s) with 1 file(s) remaining    \\rCompleted 9.1 MiB/9.1 MiB (7.8 MiB/s) with 1 file(s) remaining    \\rdownload: s3://sagemaker-edge-release-store-us-west-2-linux-x64/Releases/1.20210305.a4bc999/1.20210305.a4bc999.tgz to ./demo.tgz\\n',\n",
       " 'StandardOutputUrl': 'https://s3.us-east-2.amazonaws.com/sagemaker-us-east-2-638683464862/DEMO-Sandbox-Sagemaker-Edge/5bdbf388-1469-4d36-9fcc-0e70b6c707e8/i-00ed8289303d74580/awsrunShellScript/0.awsrunShellScript/stdout',\n",
       " 'StandardErrorContent': '',\n",
       " 'StandardErrorUrl': 'https://s3.us-east-2.amazonaws.com/sagemaker-us-east-2-638683464862/DEMO-Sandbox-Sagemaker-Edge/5bdbf388-1469-4d36-9fcc-0e70b6c707e8/i-00ed8289303d74580/awsrunShellScript/0.awsrunShellScript/stderr',\n",
       " 'CloudWatchOutputConfig': {'CloudWatchLogGroupName': '',\n",
       "  'CloudWatchOutputEnabled': False},\n",
       " 'ResponseMetadata': {'RequestId': '1ff8f3d5-3ebd-4613-b704-03176297a98b',\n",
       "  'HTTPStatusCode': 200,\n",
       "  'HTTPHeaders': {'server': 'Server',\n",
       "   'date': 'Mon, 22 Mar 2021 07:34:53 GMT',\n",
       "   'content-type': 'application/x-amz-json-1.1',\n",
       "   'content-length': '3614',\n",
       "   'connection': 'keep-alive',\n",
       "   'x-amzn-requestid': '1ff8f3d5-3ebd-4613-b704-03176297a98b'},\n",
       "  'RetryAttempts': 0}}"
      ]
     },
     "execution_count": 19,
     "metadata": {},
     "output_type": "execute_result"
    }
   ],
   "source": [
    "ssm_client.get_command_invocation(\n",
    "    CommandId=response['Command']['CommandId'],\n",
    "    InstanceId=instance_id,\n",
    ")"
   ]
  },
  {
   "cell_type": "markdown",
   "metadata": {},
   "source": [
    "## 릴리스 버킷에서 모델 서명 루트 인증서 및 모델을 EC2로 다운로드"
   ]
  },
  {
   "cell_type": "code",
   "execution_count": 22,
   "metadata": {},
   "outputs": [],
   "source": [
    "response = ssm_client.send_command(\n",
    "    InstanceIds=[instance_id],\n",
    "    DocumentName=\"AWS-RunShellScript\",\n",
    "    OutputS3BucketName=bucket,\n",
    "    OutputS3KeyPrefix=folder,\n",
    "    Parameters={\n",
    "        'commands':[\n",
    "            \"#!/bin/bash\",\n",
    "            \"cd /demo\",\n",
    "            \"mkdir certificates\",\n",
    "            \"aws s3 cp s3://{}/Certificates/{}/{}.pem certificates\".format(release_bucket, region, region)\n",
    "        ]\n",
    "    }\n",
    ")"
   ]
  },
  {
   "cell_type": "code",
   "execution_count": 24,
   "metadata": {},
   "outputs": [
    {
     "data": {
      "text/plain": [
       "{'CommandId': '151fbb29-49dc-451d-985b-c4ad515dd67c',\n",
       " 'InstanceId': 'i-00ed8289303d74580',\n",
       " 'Comment': '',\n",
       " 'DocumentName': 'AWS-RunShellScript',\n",
       " 'DocumentVersion': '',\n",
       " 'PluginName': 'aws:runShellScript',\n",
       " 'ResponseCode': 0,\n",
       " 'ExecutionStartDateTime': '2021-03-22T07:37:07.793Z',\n",
       " 'ExecutionElapsedTime': 'PT2.07S',\n",
       " 'ExecutionEndDateTime': '2021-03-22T07:37:09.793Z',\n",
       " 'Status': 'Success',\n",
       " 'StatusDetails': 'Success',\n",
       " 'StandardOutputContent': 'Completed 1.3 KiB/1.3 KiB (2.6 KiB/s) with 1 file(s) remaining\\rdownload: s3://sagemaker-edge-release-store-us-west-2-linux-x64/Certificates/us-east-2/us-east-2.pem to certificates/us-east-2.pem\\n',\n",
       " 'StandardOutputUrl': 'https://s3.us-east-2.amazonaws.com/sagemaker-us-east-2-638683464862/DEMO-Sandbox-Sagemaker-Edge/151fbb29-49dc-451d-985b-c4ad515dd67c/i-00ed8289303d74580/awsrunShellScript/0.awsrunShellScript/stdout',\n",
       " 'StandardErrorContent': 'mkdir: cannot create directory ‘certificates’: File exists\\n',\n",
       " 'StandardErrorUrl': 'https://s3.us-east-2.amazonaws.com/sagemaker-us-east-2-638683464862/DEMO-Sandbox-Sagemaker-Edge/151fbb29-49dc-451d-985b-c4ad515dd67c/i-00ed8289303d74580/awsrunShellScript/0.awsrunShellScript/stderr',\n",
       " 'CloudWatchOutputConfig': {'CloudWatchLogGroupName': '',\n",
       "  'CloudWatchOutputEnabled': False},\n",
       " 'ResponseMetadata': {'RequestId': '4ffe17c0-8768-4680-a72a-106142cc12d2',\n",
       "  'HTTPStatusCode': 200,\n",
       "  'HTTPHeaders': {'server': 'Server',\n",
       "   'date': 'Mon, 22 Mar 2021 07:37:15 GMT',\n",
       "   'content-type': 'application/x-amz-json-1.1',\n",
       "   'content-length': '1227',\n",
       "   'connection': 'keep-alive',\n",
       "   'x-amzn-requestid': '4ffe17c0-8768-4680-a72a-106142cc12d2'},\n",
       "  'RetryAttempts': 0}}"
      ]
     },
     "execution_count": 24,
     "metadata": {},
     "output_type": "execute_result"
    }
   ],
   "source": [
    "ssm_client.get_command_invocation(\n",
    "    CommandId=response['Command']['CommandId'],\n",
    "    InstanceId=instance_id,\n",
    ")"
   ]
  },
  {
   "cell_type": "markdown",
   "metadata": {},
   "source": [
    "IoT certificates, private key 및 모델 패키징 아티펙트 다운로드"
   ]
  },
  {
   "cell_type": "code",
   "execution_count": 25,
   "metadata": {},
   "outputs": [
    {
     "name": "stdout",
     "output_type": "stream",
     "text": [
      "s3://sagemaker-us-east-2-638683464862/DEMO-Sandbox-Sagemaker-Edge/iot/AmazonRootCA1.pem\n",
      "s3://sagemaker-us-east-2-638683464862/DEMO-Sandbox-Sagemaker-Edge/iot/iot.pem.crt\n",
      "s3://sagemaker-us-east-2-638683464862/DEMO-Sandbox-Sagemaker-Edge/iot/iot_key.pem.key\n",
      "s3://sagemaker-us-east-2-638683464862/DEMO-Sandbox-Sagemaker-Edge/iot/keras.bmp\n",
      "s3://sagemaker-us-east-2-638683464862/DEMO-Sandbox-Sagemaker-Edge/compilation-output/keras-model-1.0.tar.gz\n",
      "keras-model-1.0.tar.gz\n"
     ]
    }
   ],
   "source": [
    "print(root_ca_path)\n",
    "print(device_cert_path)\n",
    "print(device_key_path)\n",
    "print(keras_img_path)\n",
    "print(keras_model_data)\n",
    "print(keras_model_package)"
   ]
  },
  {
   "cell_type": "code",
   "execution_count": 27,
   "metadata": {},
   "outputs": [],
   "source": [
    "response = ssm_client.send_command(\n",
    "    InstanceIds=[instance_id],\n",
    "    DocumentName=\"AWS-RunShellScript\",\n",
    "    OutputS3BucketName=bucket,\n",
    "    OutputS3KeyPrefix=folder,\n",
    "    Parameters={\n",
    "        'commands':[\n",
    "            \"#!/bin/bash\",\n",
    "            \"cd /demo\",\n",
    "            \"mkdir iot-credentials\",\n",
    "            \"cd iot-credentials\",\n",
    "            \"aws s3 cp \" + root_ca_path + \" .\",  \n",
    "            \"aws s3 cp \" + device_cert_path + \" .\",\n",
    "            \"aws s3 cp \" + device_key_path + \" .\",\n",
    "            \"cd /demo\",\n",
    "            \"aws s3 cp \" + keras_img_path + \" .\",\n",
    "            \"aws s3 cp \" + keras_model_data + \" .\",\n",
    "            \"mkdir keras_model\",\n",
    "            \"tar -xf \" + keras_model_package + \" -C keras_model\"\n",
    "        ]\n",
    "    }\n",
    ")"
   ]
  },
  {
   "cell_type": "code",
   "execution_count": 29,
   "metadata": {},
   "outputs": [
    {
     "data": {
      "text/plain": [
       "{'CommandId': 'cf541fde-c8fb-4e0e-a252-6a9c98e9f875',\n",
       " 'InstanceId': 'i-00ed8289303d74580',\n",
       " 'Comment': '',\n",
       " 'DocumentName': 'AWS-RunShellScript',\n",
       " 'DocumentVersion': '',\n",
       " 'PluginName': 'aws:runShellScript',\n",
       " 'ResponseCode': 0,\n",
       " 'ExecutionStartDateTime': '2021-03-22T07:38:41.906Z',\n",
       " 'ExecutionElapsedTime': 'PT4.256S',\n",
       " 'ExecutionEndDateTime': '2021-03-22T07:38:45.906Z',\n",
       " 'Status': 'Success',\n",
       " 'StatusDetails': 'Success',\n",
       " 'StandardOutputContent': 'Completed 1.2 KiB/1.2 KiB (17.4 KiB/s) with 1 file(s) remaining\\rdownload: s3://sagemaker-us-east-2-638683464862/DEMO-Sandbox-Sagemaker-Edge/iot/AmazonRootCA1.pem to ./AmazonRootCA1.pem\\nCompleted 1.2 KiB/1.2 KiB (20.5 KiB/s) with 1 file(s) remaining\\rdownload: s3://sagemaker-us-east-2-638683464862/DEMO-Sandbox-Sagemaker-Edge/iot/iot.pem.crt to ./iot.pem.crt\\nCompleted 1.6 KiB/1.6 KiB (27.4 KiB/s) with 1 file(s) remaining\\rdownload: s3://sagemaker-us-east-2-638683464862/DEMO-Sandbox-Sagemaker-Edge/iot/iot_key.pem.key to ./iot_key.pem.key\\nCompleted 147.1 KiB/147.1 KiB (1.3 MiB/s) with 1 file(s) remaining\\rdownload: s3://sagemaker-us-east-2-638683464862/DEMO-Sandbox-Sagemaker-Edge/iot/keras.bmp to ./keras.bmp\\nCompleted 256.0 KiB/13.3 MiB (1.4 MiB/s) with 1 file(s) remaining\\rCompleted 512.0 KiB/13.3 MiB (2.8 MiB/s) with 1 file(s) remaining\\rCompleted 768.0 KiB/13.3 MiB (4.1 MiB/s) with 1 file(s) remaining\\rCompleted 1.0 MiB/13.3 MiB (5.5 MiB/s) with 1 file(s) remaining  \\rCompleted 1.2 MiB/13.3 MiB (6.8 MiB/s) with 1 file(s) remaining  \\rCompleted 1.5 MiB/13.3 MiB (8.0 MiB/s) with 1 file(s) remaining  \\rCompleted 1.8 MiB/13.3 MiB (9.3 MiB/s) with 1 file(s) remaining  \\rCompleted 2.0 MiB/13.3 MiB (10.5 MiB/s) with 1 file(s) remaining \\rCompleted 2.2 MiB/13.3 MiB (11.6 MiB/s) with 1 file(s) remaining \\rCompleted 2.5 MiB/13.3 MiB (12.8 MiB/s) with 1 file(s) remaining \\rCompleted 2.8 MiB/13.3 MiB (13.9 MiB/s) with 1 file(s) remaining \\rCompleted 3.0 MiB/13.3 MiB (15.0 MiB/s) with 1 file(s) remaining \\rCompleted 3.2 MiB/13.3 MiB (16.1 MiB/s) with 1 file(s) remaining \\rCompleted 3.5 MiB/13.3 MiB (17.1 MiB/s) with 1 file(s) remaining \\rCompleted 3.8 MiB/13.3 MiB (18.2 MiB/s) with 1 file(s) remaining \\rCompleted 4.0 MiB/13.3 MiB (15.2 MiB/s) with 1 file(s) remaining \\rCompleted 4.2 MiB/13.3 MiB (16.0 MiB/s) with 1 file(s) remaining \\rCompleted 4.5 MiB/13.3 MiB (16.9 MiB/s) with 1 file(s) remaining \\rCompleted 4.8 MiB/13.3 MiB (17.6 MiB/s) with 1 file(s) remaining \\rCompleted 5.0 MiB/13.3 MiB (18.3 MiB/s) with 1 file(s) remaining \\rCompleted 5.2 MiB/13.3 MiB (19.2 MiB/s) with 1 file(s) remaining \\rCompleted 5.5 MiB/13.3 MiB (20.0 MiB/s) with 1 file(s) remaining \\rCompleted 5.8 MiB/13.3 MiB (20.7 MiB/s) with 1 file(s) remaining \\rCompleted 6.0 MiB/13.3 MiB (21.4 MiB/s) with 1 file(s) remaining \\rCompleted 6.2 MiB/13.3 MiB (22.1 MiB/s) with 1 file(s) remaining \\rCompleted 6.5 MiB/13.3 MiB (22.9 MiB/s) with 1 file(s) remaining \\rCompleted 6.8 MiB/13.3 MiB (23.5 MiB/s) with 1 file(s) remaining \\rCompleted 7.0 MiB/13.3 MiB (24.2 MiB/s) with 1 file(s) remaining \\rCompleted 7.2 MiB/13.3 MiB (24.9 MiB/s) with 1 file(s) remaining \\rCompleted 7.5 MiB/13.3 MiB (25.5 MiB/s) with 1 file(s) remaining \\rCompleted 7.8 MiB/13.3 MiB (26.2 MiB/s) with 1 file(s) remaining \\rCompleted 8.0 MiB/13.3 MiB (26.9 MiB/s) with 1 file(s) remaining \\rCompleted 8.2 MiB/13.3 MiB (27.5 MiB/s) with 1 file(s) remaining \\rCompleted 8.5 MiB/13.3 MiB (28.2 MiB/s) with 1 file(s) remaining \\rCompleted 8.8 MiB/13.3 MiB (28.8 MiB/s) with 1 file(s) remaining \\rCompleted 9.0 MiB/13.3 MiB (29.5 MiB/s) with 1 file(s) remaining \\rCompleted 9.2 MiB/13.3 MiB (30.1 MiB/s) with 1 file(s) remaining \\rCompleted 9.5 MiB/13.3 MiB (30.7 MiB/s) with 1 file(s) remaining \\rCompleted 9.8 MiB/13.3 MiB (31.3 MiB/s) with 1 file(s) remaining \\rCompleted 10.0 MiB/13.3 MiB (31.9 MiB/s) with 1 file(s) remaining\\rCompleted 10.2 MiB/13.3 MiB (32.5 MiB/s) with 1 file(s) remaining\\rCompleted 10.5 MiB/13.3 MiB (33.1 MiB/s) with 1 file(s) remaining\\rCompleted 10.8 MiB/13.3 MiB (33.7 MiB/s) with 1 file(s) remaining\\rCompleted 11.0 MiB/13.3 MiB (34.3 MiB/s) with 1 file(s) remaining\\rCompleted 11.2 MiB/13.3 MiB (34.9 MiB/s) with 1 file(s) remaining\\rCompleted 11.5 MiB/13.3 MiB (35.6 MiB/s) with 1 file(s) remaining\\rCompleted 11.8 MiB/13.3 MiB (36.2 MiB/s) with 1 file(s) remaining\\rCompleted 12.0 MiB/13.3 MiB (36.9 MiB/s) with 1 file(s) remaining\\rCompleted 12.2 MiB/13.3 MiB (37.5 MiB/s) with 1 file(s) remaining\\rCompleted 12.5 MiB/13.3 MiB (38.1 MiB/s) with 1 file(s) remaining\\rCompleted 12.8 MiB/13.3 MiB (35.8 MiB/s) with 1 file(s) remaining\\rCompleted 13.0 MiB/13.3 MiB (36.3 MiB/s) with 1 file(s) remaining\\rCompleted 13.2 MiB/13.3 MiB (36.9 MiB/s) with 1 file(s) remaining\\rCompleted 13.3 MiB/13.3 MiB (36.8 MiB/s) with 1 file(s) remaining\\rdownload: s3://sagemaker-us-east-2-638683464862/DEMO-Sandbox-Sagemaker-Edge/compilation-output/keras-model-1.0.tar.gz to ./keras-model-1.0.tar.gz\\n',\n",
       " 'StandardOutputUrl': 'https://s3.us-east-2.amazonaws.com/sagemaker-us-east-2-638683464862/DEMO-Sandbox-Sagemaker-Edge/cf541fde-c8fb-4e0e-a252-6a9c98e9f875/i-00ed8289303d74580/awsrunShellScript/0.awsrunShellScript/stdout',\n",
       " 'StandardErrorContent': '',\n",
       " 'StandardErrorUrl': 'https://s3.us-east-2.amazonaws.com/sagemaker-us-east-2-638683464862/DEMO-Sandbox-Sagemaker-Edge/cf541fde-c8fb-4e0e-a252-6a9c98e9f875/i-00ed8289303d74580/awsrunShellScript/0.awsrunShellScript/stderr',\n",
       " 'CloudWatchOutputConfig': {'CloudWatchLogGroupName': '',\n",
       "  'CloudWatchOutputEnabled': False},\n",
       " 'ResponseMetadata': {'RequestId': '679c781b-3756-40b5-8ab2-e7abe6351341',\n",
       "  'HTTPStatusCode': 200,\n",
       "  'HTTPHeaders': {'server': 'Server',\n",
       "   'date': 'Mon, 22 Mar 2021 07:38:50 GMT',\n",
       "   'content-type': 'application/x-amz-json-1.1',\n",
       "   'content-length': '5452',\n",
       "   'connection': 'keep-alive',\n",
       "   'x-amzn-requestid': '679c781b-3756-40b5-8ab2-e7abe6351341'},\n",
       "  'RetryAttempts': 0}}"
      ]
     },
     "execution_count": 29,
     "metadata": {},
     "output_type": "execute_result"
    }
   ],
   "source": [
    "ssm_client.get_command_invocation(\n",
    "    CommandId=response['Command']['CommandId'],\n",
    "    InstanceId=instance_id,\n",
    ")"
   ]
  },
  {
   "cell_type": "markdown",
   "metadata": {},
   "source": [
    "## sagemaker edge manager agent 설정\n",
    "\n",
    "sagemaker edge agent configuration file 생성"
   ]
  },
  {
   "cell_type": "code",
   "execution_count": 30,
   "metadata": {},
   "outputs": [
    {
     "name": "stdout",
     "output_type": "stream",
     "text": [
      "device_name:  sagemaker-edge-demo-device1616398400\n",
      "device_fleet_name:  demo2device2fleet1616397500\n",
      "region:  us-east-2\n",
      "endpoint:  https://c1er7obc0yilbm.credentials.iot.us-east-2.amazonaws.com/role-aliases/SageMakerEdge-demo2device2fleet1616397500/credentials\n",
      "bucket:  sagemaker-us-east-2-638683464862\n"
     ]
    }
   ],
   "source": [
    "print(\"device_name: \", device_name)\n",
    "print(\"device_fleet_name: \", device_fleet_name)\n",
    "print(\"region: \", region)\n",
    "print(\"endpoint: \", endpoint)\n",
    "print(\"bucket: \", bucket)"
   ]
  },
  {
   "cell_type": "code",
   "execution_count": 31,
   "metadata": {},
   "outputs": [],
   "source": [
    "sagemaker_edge_config = {\n",
    "    \"sagemaker_edge_core_device_uuid\": device_name,\n",
    "    \"sagemaker_edge_core_device_fleet_name\": device_fleet_name,\n",
    "    \"sagemaker_edge_core_capture_data_buffer_size\": 30,\n",
    "    \"sagemaker_edge_core_capture_data_batch_size\": 10,\n",
    "    \"sagemaker_edge_core_capture_data_push_period_seconds\": 4,\n",
    "    \"sagemaker_edge_core_folder_prefix\": \"demo_capture\",\n",
    "    \"sagemaker_edge_core_region\": region,\n",
    "    \"sagemaker_edge_core_root_certs_path\": \"/demo/certificates\",\n",
    "    \"sagemaker_edge_provider_aws_ca_cert_file\": \"/demo/iot-credentials/AmazonRootCA1.pem\",\n",
    "    \"sagemaker_edge_provider_aws_cert_file\": \"/demo/iot-credentials/iot.pem.crt\",\n",
    "    \"sagemaker_edge_provider_aws_cert_pk_file\": \"/demo/iot-credentials/iot_key.pem.key\",\n",
    "    \"sagemaker_edge_provider_aws_iot_cred_endpoint\": endpoint,\n",
    "    \"sagemaker_edge_provider_provider\": \"Aws\",\n",
    "    \"sagemaker_edge_provider_s3_bucket_name\": bucket,\n",
    "    \"sagemaker_edge_core_capture_data_destination\": \"Cloud\"\n",
    "}"
   ]
  },
  {
   "cell_type": "code",
   "execution_count": 32,
   "metadata": {},
   "outputs": [],
   "source": [
    "edge_config_file = open(\"sagemaker_edge_config.json\", \"w\")\n",
    "json.dump(sagemaker_edge_config, edge_config_file, indent = 6)\n",
    "edge_config_file.close()"
   ]
  },
  {
   "cell_type": "code",
   "execution_count": 33,
   "metadata": {},
   "outputs": [
    {
     "name": "stdout",
     "output_type": "stream",
     "text": [
      "{\n",
      "      \"sagemaker_edge_core_device_uuid\": \"sagemaker-edge-demo-device1616398400\",\n",
      "      \"sagemaker_edge_core_device_fleet_name\": \"demo2device2fleet1616397500\",\n",
      "      \"sagemaker_edge_core_capture_data_buffer_size\": 30,\n",
      "      \"sagemaker_edge_core_capture_data_batch_size\": 10,\n",
      "      \"sagemaker_edge_core_capture_data_push_period_seconds\": 4,\n",
      "      \"sagemaker_edge_core_folder_prefix\": \"demo_capture\",\n",
      "      \"sagemaker_edge_core_region\": \"us-east-2\",\n",
      "      \"sagemaker_edge_core_root_certs_path\": \"/demo/certificates\",\n",
      "      \"sagemaker_edge_provider_aws_ca_cert_file\": \"/demo/iot-credentials/AmazonRootCA1.pem\",\n",
      "      \"sagemaker_edge_provider_aws_cert_file\": \"/demo/iot-credentials/iot.pem.crt\",\n",
      "      \"sagemaker_edge_provider_aws_cert_pk_file\": \"/demo/iot-credentials/iot_key.pem.key\",\n",
      "      \"sagemaker_edge_provider_aws_iot_cred_endpoint\": \"https://c1er7obc0yilbm.credentials.iot.us-east-2.amazonaws.com/role-aliases/SageMakerEdge-demo2device2fleet1616397500/credentials\",\n",
      "      \"sagemaker_edge_provider_provider\": \"Aws\",\n",
      "      \"sagemaker_edge_provider_s3_bucket_name\": \"sagemaker-us-east-2-638683464862\",\n",
      "      \"sagemaker_edge_core_capture_data_destination\": \"Cloud\"\n",
      "}"
     ]
    }
   ],
   "source": [
    "! head -n100 sagemaker_edge_config.json"
   ]
  },
  {
   "cell_type": "code",
   "execution_count": 34,
   "metadata": {},
   "outputs": [
    {
     "name": "stdout",
     "output_type": "stream",
     "text": [
      "s3://sagemaker-us-east-2-638683464862/DEMO-Sandbox-Sagemaker-Edge/iot/sagemaker_edge_config.json\n"
     ]
    }
   ],
   "source": [
    "config_path = sess.upload_data('sagemaker_edge_config.json', bucket, iot_folder)\n",
    "print(config_path)"
   ]
  },
  {
   "cell_type": "code",
   "execution_count": 35,
   "metadata": {},
   "outputs": [],
   "source": [
    "response = ssm_client.send_command(\n",
    "    InstanceIds=[instance_id],\n",
    "    DocumentName=\"AWS-RunShellScript\",\n",
    "    OutputS3BucketName=bucket,\n",
    "    OutputS3KeyPrefix=folder,\n",
    "    Parameters={\n",
    "        'commands':[\n",
    "            \"#!/bin/bash\",\n",
    "            \"aws s3 cp \" + config_path + ' /demo'\n",
    "        ]\n",
    "    }\n",
    ")"
   ]
  },
  {
   "cell_type": "code",
   "execution_count": 37,
   "metadata": {},
   "outputs": [
    {
     "data": {
      "text/plain": [
       "{'CommandId': '5b1e0886-5d5b-4fe1-b480-211e80313f99',\n",
       " 'InstanceId': 'i-00ed8289303d74580',\n",
       " 'Comment': '',\n",
       " 'DocumentName': 'AWS-RunShellScript',\n",
       " 'DocumentVersion': '',\n",
       " 'PluginName': 'aws:runShellScript',\n",
       " 'ResponseCode': 0,\n",
       " 'ExecutionStartDateTime': '2021-03-22T07:39:10.395Z',\n",
       " 'ExecutionElapsedTime': 'PT0.9S',\n",
       " 'ExecutionEndDateTime': '2021-03-22T07:39:10.395Z',\n",
       " 'Status': 'Success',\n",
       " 'StatusDetails': 'Success',\n",
       " 'StandardOutputContent': 'Completed 1.1 KiB/1.1 KiB (15.0 KiB/s) with 1 file(s) remaining\\rdownload: s3://sagemaker-us-east-2-638683464862/DEMO-Sandbox-Sagemaker-Edge/iot/sagemaker_edge_config.json to ../../../../demo/sagemaker_edge_config.json\\n',\n",
       " 'StandardOutputUrl': 'https://s3.us-east-2.amazonaws.com/sagemaker-us-east-2-638683464862/DEMO-Sandbox-Sagemaker-Edge/5b1e0886-5d5b-4fe1-b480-211e80313f99/i-00ed8289303d74580/awsrunShellScript/0.awsrunShellScript/stdout',\n",
       " 'StandardErrorContent': '',\n",
       " 'StandardErrorUrl': 'https://s3.us-east-2.amazonaws.com/sagemaker-us-east-2-638683464862/DEMO-Sandbox-Sagemaker-Edge/5b1e0886-5d5b-4fe1-b480-211e80313f99/i-00ed8289303d74580/awsrunShellScript/0.awsrunShellScript/stderr',\n",
       " 'CloudWatchOutputConfig': {'CloudWatchLogGroupName': '',\n",
       "  'CloudWatchOutputEnabled': False},\n",
       " 'ResponseMetadata': {'RequestId': '7a45a899-dbfa-4acf-bb37-033b16244426',\n",
       "  'HTTPStatusCode': 200,\n",
       "  'HTTPHeaders': {'server': 'Server',\n",
       "   'date': 'Mon, 22 Mar 2021 07:39:28 GMT',\n",
       "   'content-type': 'application/x-amz-json-1.1',\n",
       "   'content-length': '1186',\n",
       "   'connection': 'keep-alive',\n",
       "   'x-amzn-requestid': '7a45a899-dbfa-4acf-bb37-033b16244426'},\n",
       "  'RetryAttempts': 0}}"
      ]
     },
     "execution_count": 37,
     "metadata": {},
     "output_type": "execute_result"
    }
   ],
   "source": [
    "ssm_client.get_command_invocation(\n",
    "    CommandId=response['Command']['CommandId'],\n",
    "    InstanceId=instance_id,\n",
    ")"
   ]
  },
  {
   "cell_type": "markdown",
   "metadata": {},
   "source": [
    "### 모델 서명 루트 인증서의 권한 변경\n",
    "/demo/certificates/us-east-2.pem 를 Read Only 로 변경해야 합니다. 아래 작업을 안할 시에는 Agent 를 런칭시에 에러가 발생합니다.\n",
    "<br>\n",
    "\n",
    "#### **[중요] 현재 리젼이 us-east-2 가 아니면 아래 코드에서 <region>.pem을 변경해야 합니다.**"
   ]
  },
  {
   "cell_type": "code",
   "execution_count": 40,
   "metadata": {},
   "outputs": [],
   "source": [
    "cert_permission_out = ssm_client.send_command(\n",
    "    InstanceIds=[instance_id],\n",
    "    DocumentName=\"AWS-RunShellScript\",\n",
    "    TimeoutSeconds=24*60*60,\n",
    "    OutputS3BucketName=bucket,\n",
    "    OutputS3KeyPrefix=folder,\n",
    "    Parameters={\n",
    "        'commands':[\n",
    "            \"cd /demo/certificates\",\n",
    "            \"sudo chmod 444 us-east-2.pem\", # 리젼이 다르면 변경 필요\n",
    "        ]\n",
    "    }\n",
    ")"
   ]
  },
  {
   "cell_type": "code",
   "execution_count": 42,
   "metadata": {},
   "outputs": [
    {
     "data": {
      "text/plain": [
       "{'CommandId': 'fae273ec-e96f-4b1f-81ca-5e115ea9c173',\n",
       " 'InstanceId': 'i-00ed8289303d74580',\n",
       " 'Comment': '',\n",
       " 'DocumentName': 'AWS-RunShellScript',\n",
       " 'DocumentVersion': '',\n",
       " 'PluginName': 'aws:runShellScript',\n",
       " 'ResponseCode': 0,\n",
       " 'ExecutionStartDateTime': '2021-03-22T07:42:29.923Z',\n",
       " 'ExecutionElapsedTime': 'PT0.199S',\n",
       " 'ExecutionEndDateTime': '2021-03-22T07:42:29.923Z',\n",
       " 'Status': 'Success',\n",
       " 'StatusDetails': 'Success',\n",
       " 'StandardOutputContent': '',\n",
       " 'StandardOutputUrl': 'https://s3.us-east-2.amazonaws.com/sagemaker-us-east-2-638683464862/DEMO-Sandbox-Sagemaker-Edge/fae273ec-e96f-4b1f-81ca-5e115ea9c173/i-00ed8289303d74580/awsrunShellScript/0.awsrunShellScript/stdout',\n",
       " 'StandardErrorContent': '',\n",
       " 'StandardErrorUrl': 'https://s3.us-east-2.amazonaws.com/sagemaker-us-east-2-638683464862/DEMO-Sandbox-Sagemaker-Edge/fae273ec-e96f-4b1f-81ca-5e115ea9c173/i-00ed8289303d74580/awsrunShellScript/0.awsrunShellScript/stderr',\n",
       " 'CloudWatchOutputConfig': {'CloudWatchLogGroupName': '',\n",
       "  'CloudWatchOutputEnabled': False},\n",
       " 'ResponseMetadata': {'RequestId': 'e2ba0395-5841-42f6-8066-f2ca1be55f2e',\n",
       "  'HTTPStatusCode': 200,\n",
       "  'HTTPHeaders': {'server': 'Server',\n",
       "   'date': 'Mon, 22 Mar 2021 07:42:39 GMT',\n",
       "   'content-type': 'application/x-amz-json-1.1',\n",
       "   'content-length': '968',\n",
       "   'connection': 'keep-alive',\n",
       "   'x-amzn-requestid': 'e2ba0395-5841-42f6-8066-f2ca1be55f2e'},\n",
       "  'RetryAttempts': 0}}"
      ]
     },
     "execution_count": 42,
     "metadata": {},
     "output_type": "execute_result"
    }
   ],
   "source": [
    "ssm_client.get_command_invocation(\n",
    "    CommandId=cert_permission_out['Command']['CommandId'],\n",
    "    InstanceId=instance_id,\n",
    ")"
   ]
  },
  {
   "cell_type": "markdown",
   "metadata": {},
   "source": [
    "## Sagemaker Edge Agent 런칭"
   ]
  },
  {
   "cell_type": "markdown",
   "metadata": {},
   "source": [
    "#### SSM 으로 실행"
   ]
  },
  {
   "cell_type": "code",
   "execution_count": 43,
   "metadata": {},
   "outputs": [],
   "source": [
    "agent_out = ssm_client.send_command(\n",
    "    InstanceIds=[instance_id],\n",
    "    DocumentName=\"AWS-RunShellScript\",\n",
    "    TimeoutSeconds=24*60*60,\n",
    "    OutputS3BucketName=bucket,\n",
    "    OutputS3KeyPrefix=folder,\n",
    "    Parameters={\n",
    "        'commands':[\n",
    "            \"cd /demo\",\n",
    "            \"rm -f /tmp/sagemaker_edge_agent_example.sock\",\n",
    "            \"./bin/sagemaker_edge_agent_binary -a /tmp/sagemaker_edge_agent_example.sock -c sagemaker_edge_config.json\" \n",
    "        ]\n",
    "    }\n",
    ")"
   ]
  },
  {
   "cell_type": "markdown",
   "metadata": {},
   "source": [
    "**아래를 실행하면 `Status`가 `InProgress` 입니다. 이는 현재 agent 데몬형태로 실행되고 있음을 의미 합니다.**"
   ]
  },
  {
   "cell_type": "code",
   "execution_count": 44,
   "metadata": {},
   "outputs": [
    {
     "data": {
      "text/plain": [
       "{'CommandId': '7a48b8a5-b0ec-4de4-b1dc-bce8430cb922',\n",
       " 'InstanceId': 'i-00ed8289303d74580',\n",
       " 'Comment': '',\n",
       " 'DocumentName': 'AWS-RunShellScript',\n",
       " 'DocumentVersion': '',\n",
       " 'PluginName': 'aws:runShellScript',\n",
       " 'ResponseCode': -1,\n",
       " 'ExecutionEndDateTime': '',\n",
       " 'Status': 'InProgress',\n",
       " 'StatusDetails': 'InProgress',\n",
       " 'StandardOutputContent': '',\n",
       " 'StandardOutputUrl': '',\n",
       " 'StandardErrorContent': '',\n",
       " 'StandardErrorUrl': '',\n",
       " 'CloudWatchOutputConfig': {'CloudWatchLogGroupName': '',\n",
       "  'CloudWatchOutputEnabled': False},\n",
       " 'ResponseMetadata': {'RequestId': '431dfbb9-cded-42cf-b9b0-8a86795e343a',\n",
       "  'HTTPStatusCode': 200,\n",
       "  'HTTPHeaders': {'server': 'Server',\n",
       "   'date': 'Mon, 22 Mar 2021 07:42:49 GMT',\n",
       "   'content-type': 'application/x-amz-json-1.1',\n",
       "   'content-length': '471',\n",
       "   'connection': 'keep-alive',\n",
       "   'x-amzn-requestid': '431dfbb9-cded-42cf-b9b0-8a86795e343a'},\n",
       "  'RetryAttempts': 0}}"
      ]
     },
     "execution_count": 44,
     "metadata": {},
     "output_type": "execute_result"
    }
   ],
   "source": [
    "ssm_client.get_command_invocation(\n",
    "    CommandId=agent_out['Command']['CommandId'],\n",
    "    InstanceId=instance_id,\n",
    ")"
   ]
  },
  {
   "cell_type": "markdown",
   "metadata": {},
   "source": [
    "EC2에 접근하여 실행되고 있는 프로세스를 보면, 아래 그림과 같이 프로세스가 올라와 있습니다."
   ]
  },
  {
   "cell_type": "markdown",
   "metadata": {},
   "source": [
    "![MonitorAgent.png](img/MonitorAgent.png)"
   ]
  },
  {
   "cell_type": "markdown",
   "metadata": {},
   "source": [
    "## 모델 로딩\n",
    "이 섹션에서는 SageMaker 에지 관리자에서 제공하는 모델 관리 기능을 보여 줍니다.SageMaker 에지 에이전트를 사용하여 컴파일되고 패키지된 모델을 로드합니다.이렇게하면 모델 추론을 실행할 준비가됩니다.보시다시피 모델이 로드되면 모델이 언로드될 때까지 필요한만큼 여러 번 추론을 실행할 수 있습니다.이를 통해 클라이언트 애플리케이션을 별도로 관리해야 하는 로직 및 운영 부담에서 벗어납니다.이 모델은 추론이 가능하다는 단순한 API 예 입니다.\n",
    "\n",
    "SageMaker Edge 에이전트를 사용하여 모델을 로드할 때 API에 대한 인수는 에이전트를 패키지된 모델을 포함하는 디렉터리 (디렉터리 내에 관계없는 파일이 없게함.) 로 가리킵니다. "
   ]
  },
  {
   "cell_type": "code",
   "execution_count": 45,
   "metadata": {},
   "outputs": [],
   "source": [
    "load_keras_model_out = ssm_client.send_command(\n",
    "    InstanceIds=[instance_id],\n",
    "    DocumentName=\"AWS-RunShellScript\",\n",
    "    OutputS3BucketName=bucket,\n",
    "    OutputS3KeyPrefix=folder,\n",
    "    Parameters={\n",
    "        'commands':[\n",
    "            \"cd /demo\",\n",
    "            \"./bin/sagemaker_edge_agent_client_example LoadModel keras_model demo-keras\"\n",
    "        ]\n",
    "    }\n",
    ")"
   ]
  },
  {
   "cell_type": "code",
   "execution_count": 47,
   "metadata": {},
   "outputs": [
    {
     "data": {
      "text/plain": [
       "{'CommandId': 'd8a2c43e-7b69-431f-a528-db0475cdbc85',\n",
       " 'InstanceId': 'i-00ed8289303d74580',\n",
       " 'Comment': '',\n",
       " 'DocumentName': 'AWS-RunShellScript',\n",
       " 'DocumentVersion': '',\n",
       " 'PluginName': 'aws:runShellScript',\n",
       " 'ResponseCode': 0,\n",
       " 'ExecutionStartDateTime': '2021-03-22T07:44:42.665Z',\n",
       " 'ExecutionElapsedTime': 'PT0.438S',\n",
       " 'ExecutionEndDateTime': '2021-03-22T07:44:42.665Z',\n",
       " 'Status': 'Success',\n",
       " 'StatusDetails': 'Success',\n",
       " 'StandardOutputContent': 'Model demo-keras located at /demo/keras_model loaded\\nLoadModel succeeded\\n',\n",
       " 'StandardOutputUrl': 'https://s3.us-east-2.amazonaws.com/sagemaker-us-east-2-638683464862/DEMO-Sandbox-Sagemaker-Edge/d8a2c43e-7b69-431f-a528-db0475cdbc85/i-00ed8289303d74580/awsrunShellScript/0.awsrunShellScript/stdout',\n",
       " 'StandardErrorContent': '',\n",
       " 'StandardErrorUrl': 'https://s3.us-east-2.amazonaws.com/sagemaker-us-east-2-638683464862/DEMO-Sandbox-Sagemaker-Edge/d8a2c43e-7b69-431f-a528-db0475cdbc85/i-00ed8289303d74580/awsrunShellScript/0.awsrunShellScript/stderr',\n",
       " 'CloudWatchOutputConfig': {'CloudWatchLogGroupName': '',\n",
       "  'CloudWatchOutputEnabled': False},\n",
       " 'ResponseMetadata': {'RequestId': 'eb56fb3b-950b-438c-9f96-d64cc8c11695',\n",
       "  'HTTPStatusCode': 200,\n",
       "  'HTTPHeaders': {'server': 'Server',\n",
       "   'date': 'Mon, 22 Mar 2021 07:44:51 GMT',\n",
       "   'content-type': 'application/x-amz-json-1.1',\n",
       "   'content-length': '1043',\n",
       "   'connection': 'keep-alive',\n",
       "   'x-amzn-requestid': 'eb56fb3b-950b-438c-9f96-d64cc8c11695'},\n",
       "  'RetryAttempts': 0}}"
      ]
     },
     "execution_count": 47,
     "metadata": {},
     "output_type": "execute_result"
    }
   ],
   "source": [
    "ssm_client.get_command_invocation(\n",
    "    CommandId=load_keras_model_out['Command']['CommandId'],\n",
    "    InstanceId=instance_id,\n",
    ")"
   ]
  },
  {
   "cell_type": "markdown",
   "metadata": {},
   "source": [
    "## Predict 실행\n",
    "\n",
    "이 API에서는 모델 이름, 신경망에 직접 공급되는 입력 데이터 파일, 컴파일 단계에서 이전에 전달 된 입력 텐서 이름, 크기 및 모양을 전달합니다."
   ]
  },
  {
   "cell_type": "markdown",
   "metadata": {},
   "source": [
    "#### Run prediction on keras model"
   ]
  },
  {
   "cell_type": "code",
   "execution_count": 48,
   "metadata": {},
   "outputs": [],
   "source": [
    "keras_predict_out = ssm_client.send_command(\n",
    "    InstanceIds=[instance_id],\n",
    "    DocumentName=\"AWS-RunShellScript\",\n",
    "    OutputS3BucketName=bucket,\n",
    "    OutputS3KeyPrefix=folder,\n",
    "    Parameters={\n",
    "        'commands':[\n",
    "            \"cd /demo\",\n",
    "            \"./bin/sagemaker_edge_agent_client_example Predict demo-keras keras.bmp input_1 224 224 3\"\n",
    "        ]\n",
    "    }\n",
    ")"
   ]
  },
  {
   "cell_type": "code",
   "execution_count": 50,
   "metadata": {},
   "outputs": [
    {
     "data": {
      "text/plain": [
       "{'CommandId': '2920a409-46ef-4418-b7fc-b7f6b72659ac',\n",
       " 'InstanceId': 'i-00ed8289303d74580',\n",
       " 'Comment': '',\n",
       " 'DocumentName': 'AWS-RunShellScript',\n",
       " 'DocumentVersion': '',\n",
       " 'PluginName': 'aws:runShellScript',\n",
       " 'ResponseCode': 0,\n",
       " 'ExecutionStartDateTime': '2021-03-22T07:45:01.691Z',\n",
       " 'ExecutionElapsedTime': 'PT0.18S',\n",
       " 'ExecutionEndDateTime': '2021-03-22T07:45:01.691Z',\n",
       " 'Status': 'Success',\n",
       " 'StatusDetails': 'Success',\n",
       " 'StandardOutputContent': 'Done reading the image\\nPredict succeeded\\nFlattened RAW Output Tensor:1\\n9.15062e-05 0.000100904 5.23973e-05 7.0895e-05 0.000303288 6.65647e-06 5.73232e-05 0.000241128 7.62334e-05 7.42452e-05 0.000110309 4.28148e-05 7.65651e-05 0.000134373 0.000126301 0.000141554 0.000173317 3.4594e-05 6.91597e-05 3.83557e-05 0.000239026 4.7591e-05 7.32565e-05 0.000167224 8.44282e-05 8.91072e-05 0.000395355 0.000366951 0.000141887 1.91341e-05 0.000868919 0.000156764 5.34357e-05 3.37808e-05 6.51875e-05 0.00017874 0.000960836 0.000114277 0.000148988 0.000183138 2.40969e-05 6.1486e-05 8.55311e-05 6.87333e-05 0.000419924 4.43623e-05 0.000818348 1.80066e-05 0.000135477 0.000234557 0.000637312 5.15255e-05 0.000614531 0.000226428 0.00026891 0.000204451 3.92872e-05 0.000911124 0.000211633 0.000232082 1.94421e-05 0.00021197 0.0001015 3.57752e-05 2.28566e-05 3.00774e-05 0.000170917 8.13421e-05 0.000121659 9.28217e-05 6.89592e-05 0.000586144 3.17547e-05 3.96703e-05 8.83662e-05 7.09474e-05 5.17533e-05 0.000108594 0.000532912 0.00096492 5.25332e-05 0.000337741 7.59342e-05 0.000112371 0.000381361 6.01501e-05 0.000126272 6.1823e-06 0.00010039 0.000338563 0.00112327 0.000126739 0.00033278 1.50094e-05 0.000186133 6.8603e-05 3.96905e-05 0.000198844 0.000492331 0.000197829 0.000257524 1.61624e-05 9.07867e-05 8.40365e-05 4.54462e-05 3.20762e-05 4.20597e-05 6.02338e-05 0.00221663 0.000643337 3.51501e-05 7.78481e-05 0.000260956 0.000722278 2.24778e-05 3.10974e-05 8.91345e-05 0.000309194 0.000127229 8.649e-05 3.58737e-05 0.000314205 8.06085e-05 1.55447e-05 0.000149729 0.000139049 7.40067e-05 0.000373407 0.000102807 0.00146438 0.000165786 3.01548e-05 5.38661e-05 3.16971e-05 0.000250498 0.000574561 0.000163332 8.42787e-05 1.99951e-05 0.000844072 0.000317336 0.000400925 7.61143e-05 0.000404159 0.000692955 5.20597e-05 5.41432e-05 8.4466e-05 0.000150862 0.000169627 0.000194924 0.000183027 5.52311e-05 0.000518809 3.2144e-05 0.000334902 0.000121204 6.89992e-05 0.000138918 3.36096e-05 8.15251e-05 0.000605934 0.000167917 8.72203e-05 0.000235941 8.51087e-05 0.000127863 8.58576e-05 6.48992e-05 0.00020056 7.6293e-05 4.65399e-05 0.000327454 2.4461e-05 0.000114652 0.000252538 8.00111e-06 0.000178289 0.000938321 0.000140493 0.000106695 9.29611e-05 0.00010762 8.57183e-05 0.000214833 0.000251787 0.000147957 0.000181909 0.000190672 2.92075e-05 0.00076009 0.000221557 1.76623e-05 3.10405e-05 0.000107681 0.000396884 0.000104222 0.000137999 0.000346167 0.00112642 0.000297271 0.000767141 0.000269144 0.00189522 0.000169068 0.000220965 0.000147433 8.44578e-05 0.000190508 0.000173922 0.000405742 0.000132826 7.99577e-05 4.37088e-05 0.00164082 0.000123694 0.00137163 9.87275e-05 8.49897e-05 0.00049851 8.19333e-05 0.000140408 0.000224872 7.46203e-05 0.000240864 8.39286e-05 6.09905e-05 9.41364e-05 4.58637e-05 0.00111842 0.000111084 1.09676e-05 0.000371775 0.000123008 0.000389367 0.000200715 0.000385968 6.14363e-05 0.000101733 0.000230255 2.12557e-05 0.000306966 0.000732894 0.000110869 0.000105942 0.000433727 0.00034579 0.000105499 0.000119336 2.66513e-05 2.60617e-05 0.000655964 0.000112076 4.45424e-05 0.000148326 0.000136297 6.28596e-05 0.000326308 5.90824e-05 6.7919e-05 0.000101362 0.000175068 2.55782e-05 1.66024e-05 1.97058e-05 0.000610135 9.43398e-05 0.000197742 7.66208e-05 0.000404566 0.000517708 0.000111906 0.000176491 1.929e-05 2.35597e-05 0.000261811 5.1069e-05 6.30122e-05 6.40101e-05 0.000442848 5.28354e-05 0.000364381 0.000297086 0.000381922 0.00129312 8.28387e-05 1.98432e-05 0.00013801 3.95026e-05 0.000263774 0.000108753 0.000102844 0.000192019 0.000182547 0.000335212 0.000116871 0.00144669 0.00012702 7.20619e-05 7.67652e-05 0.000114198 0.000383503 0.000106211 2.58857e-05 0.000679048 3.68361e-05 0.000742516 0.000109162 0.0049509 0.000448022 0.000330023 0.000798275 0.000236088 6.99926e-05 0.00155851 0.000154786 0.000788829 0.000307504 0.000338787 5.98844e-05 0.000122455 0.000215837 0.000135154 0.000205767 0.00011951 0.000615118 0.000122984 0.000490816 0.000168542 8.72445e-05 0.00026772 0.000263432 0.000150699 0.000321271 3.33255e-05 0.000150198 0.000165261 2.28411e-05 0.000230156 8.9319e-05 0.000261599 3.17939e-05 2.20263e-05 2.72304e-05 0.000406985 0.000225819 0.000190571 3.88824e-05 0.000553588 0.000204999 8.04933e-05 3.98578e-05 0.000149462 3.63275e-05 7.15785e-05 2.71238e-05 4.39918e-05 0.000228383 4.91e-05 0.000101903 5.2975e-05 0.000109925 0.000111545 4.80259e-05 6.58793e-05 0.000222617 0.000316524 0.000255908 0.000218464 6.27936e-05 0.000158307 4.06009e-05 0.000404284 0.000105679 6.63757e-05 6.70745e-05 5.41715e-05 7.59387e-06 0.000117049 0.000100821 5.39381e-05 8.0357e-05 2.10748e-05 4.0366e-05 3.78365e-05 9.26752e-05 0.000155603 4.7998e-05 0.000227674 0.000281079 5.00908e-06 6.87904e-05 2.7824e-05 0.000159691 0.000119791 4.14894e-05 0.000164992 0.000238302 0.00063209 0.00163611 4.31679e-05 0.00015302 5.97571e-05 0.000213676 4.6753e-05 6.14316e-05 2.50057e-05 0.000144513 0.00057565 0.000126328 0.000106071 0.00488338 0.000297754 0.000101072 0.000828389 3.34663e-05 0.000205883 0.00100986 0.00288795 0.000181402 2.04158e-05 0.000174305 5.54531e-05 0.000187178 0.000868699 0.000216631 0.000102737 0.000147072 0.000238026 0.00126536 3.71565e-05 0.000501618 7.87454e-06 0.000646768 0.00132088 0.000575408 0.000460256 0.000903666 0.000121338 5.92173e-05 0.00359214 0.00141115 1.02874e-05 0.104049 4.01202e-05 3.41703e-05 0.00117984 0.000212795 0.000178738 8.12074e-05 2.35032e-05 7.4736e-05 0.000181081 0.000133322 2.2946e-05 0.000691187 2.41899e-05 0.000919799 1.74535e-05 5.16331e-05 0.000270688 6.85797e-05 0.000397507 0.000346152 0.0109303 0.000101258 3.94789e-05 8.25054e-05 0.000397577 0.00141315 0.000415194 5.62191e-05 0.000125894 7.98376e-05 0.00109488 4.42261e-05 0.000595957 6.00387e-05 0.000144867 0.00328741 0.000980227 0.000149009 2.47702e-05 0.000183238 0.000232027 2.42611e-05 5.64576e-05 9.76353e-05 0.00348264 0.000204935 0.00174102 2.68562e-05 0.000981555 0.000308216 0.000171169 0.000225844 0.00449217 2.18042e-05 2.99957e-05 0.00126724 7.96494e-05 0.000379011 0.00149981 0.00107863 0.000657837 0.000291459 0.000378378 0.000245264 0.00216528 0.000251777 0.000243054 0.00011358 0.000311709 0.000240351 0.000261711 4.11153e-05 0.00438426 0.0053106 0.00134479 0.000185187 0.0049297 9.4129e-05 0.000110915 1.92765e-05 0.000292813 3.78246e-05 4.58354e-05 5.675e-05 0.00101191 0.00502428 0.000724723 0.000253534 2.40567e-05 0.00267424 0.000313486 3.18543e-05 0.0015085 0.000113942 0.000101835 0.00308647 0.000429186 0.000498492 7.26755e-05 0.000623189 0.000119422 3.58501e-05 6.02285e-05 0.000107356 3.90417e-05 0.0378035 5.58931e-05 0.000209794 0.000807647 8.90382e-06 6.64493e-05 0.000112081 0.00264833 0.000117209 3.44267e-05 5.7816e-05 0.000231409 0.000266648 0.00123329 0.00015777 9.19994e-05 0.000200998 2.35803e-05 3.7011e-05 6.4098e-05 0.00021725 0.000328797 0.00036674 0.00253407 0.000133394 0.000686094 0.000325606 8.80993e-05 0.000271993 0.000279572 0.000103516 0.000178497 0.000446202 0.000117283 6.76374e-05 0.000308782 0.000613996 9.9802e-05 0.00166511 0.000834976 0.000295648 0.000135634 0.00677331 1.15138e-05 0.00144655 0.000147913 0.000150729 6.50311e-05 7.67468e-06 2.82171e-05 0.00630684 0.00144823 0.000513256 2.41748e-05 0.000346232 0.000480956 4.54604e-05 0.00358398 0.000323289 0.00266769 9.13546e-05 0.00441635 0.00040319 5.42837e-05 0.000174804 0.000168969 9.12878e-05 0.00439507 0.000924698 6.02705e-05 0.00147991 0.000817628 0.00016928 0.00110242 9.4569e-05 6.56283e-06 0.000190347 0.00185773 1.92555e-05 0.000150131 0.00303922 0.000486924 0.00192016 1.71693e-05 0.000285216 3.0201e-05 7.25038e-05 0.00933429 0.00037231 0.000287903 0.000196621 7.95043e-05 0.000968775 5.65726e-05 0.00017513 0.00113082 0.000133712 0.000100827 0.000388339 3.83133e-05 4.21704e-05 0.000419168 0.000130798 0.000136635 0.000162146 0.000162149 0.000352671 1.29564e-05 8.83311e-05 7.30114e-05 0.00087778 0.00015974 9.07318e-05 3.11599e-05 1.82253e-05 0.000651717 0.000176762 0.000130056 2.37206e-05 4.21226e-05 4.33198e-05 0.000833136 6.20261e-05 0.000122561 7.79408e-05 0.000138429 1.18692e-05 3.16894e-05 0.00138512 0.000373884 0.000444783 0.00233678 0.000346997 7.04967e-05 6.14377e-05 0.000104681 8.98685e-05 1.14142e-05 2.50274e-05 0.000163214 0.000215972 0.000101536 0.000196677 0.0019813 5.12819e-05 0.000146471 0.00105286 0.00346109 0.000656602 6.36975e-05 7.888e-05 0.00275706 0.000114332 3.13127e-05 6.35094e-05 0.000136422 3.32498e-05 1.3857e-05 0.000301684 1.19146e-05 0.00526281 0.000206102 0.0153176 2.1171e-05 0.000224362 0.000245597 0.000113244 0.000663717 0.000145508 0.000313425 0.00330811 0.000871446 0.0836333 0.000562232 0.000556891 0.000147339 0.000659589 2.81106e-05 2.8312e-05 0.00174608 0.0010836 0.000336994 2.33963e-05 0.000260233 1.99774e-05 8.7279e-05 0.000162282 0.000132347 0.0763238 6.41682e-05 4.47078e-05 0.000200405 0.000937673 0.000108783 5.73014e-06 0.000150553 9.64484e-06 0.00090761 0.00123104 0.00229338 0.000282609 0.00911527 9.28154e-05 1.1585e-05 0.00377937 5.58181e-05 7.78876e-05 8.0197e-05 0.000118786 3.38251e-05 0.000193756 0.0322713 0.000554056 8.89871e-05 0.000119861 8.20364e-05 4.32526e-05 4.62513e-05 0.00144595 5.67896e-05 0.000572553 0.000415233 1.36432e-05 0.00124169 0.00124057 8.21131e-06 0.000106638 6.40835e-05 1.40516e-05 0.0017629 0.000198166 0.000337182 5.36906e-05 0.000397763 0.00240482 0.000335884 8.54358e-05 0.000694838 2.00854e-05 0.000113639 0.000323214 0.000112597 0.00018594 0.00171899 0.000541965 0.122147 4.99244e-05 0.000164852 0.00122381 2.5241e-05 5.14679e-05 0.000490907 0.000158918 0.000346911 0.000541942 0.00141432 0.000337002 0.00931859 3.00939e-05 0.000827002 0.000310146 0.000116559 0.000406685 0.000538986 0.000229818 0.000126305 0.000299833 2.22011e-05 7.94955e-05 0.000167057 0.000423775 0.000125363 1.56699e-05 0.000308669 0.000255432 0.000541097 0.000982481 0.000283944 3.65389e-05 0.00218182 6.744e-05 1.00184e-05 0.000374298 0.000637766 1.36737e-05 0.000159273 1.09945e-05 0.000319258 0.00229681 0.00131607 2.81532e-05 0.000755754 0.00465906 3.69558e-05 2.56228e-05 0.00440497 0.000464171 0.000130313 5.6545e-05 1.03716e-05 4.99522e-05 0.00203385 0.000818268 0.000740868 4.48698e-05 0.000643815 0.00141414 9.09787e-05 5.40389e-05 0.000308148 0.000134447 0.000322471 0.000348822 0.000114854 8.39008e-05 0.000159038 0.000238735 0.000293484 0.000136169 0.000614223 0.000770911 0.000254953 8.2002e-05 0.000111212 6.33366e-05 2.21769e-05 2.66759e-05 0.000262146 1.22375e-05 0.000277353 0.0133974 8.95341e-05 0.000260171 0.00104994 0.000120616 2.48923e-05 0.00620314 0.000244922 3.34656e-05 4.73329e-05 3.56715e-05 3.06407e-05 0.000104922 0.000780934 0.000731891 0.000794088 0.000338229 0.000569576 2.98367e-05 0.00478971 0.000223768 0.000152017 1.21662e-05 0.000462357 0.000237147 0.00936429 0.00106418 0.000995856 0.00131719 0.000372383 0.000321245 0.000170528 0.00311058 2.24012e-05 0.00140862 0.000125663 0.000373427 0.0135387 0.000349864 0.000157181 0.000179543 0.000114147 3.72988e-05 0.000892379 0.000285923 0.000156429 3.53613e-05 0.000110156 3.31613e-05 3.77982e-05 0.00171744 6.6102e-05 0.000310769 0.000313495 0.000575077 0.000123637 0.000358506 0.000119495 0.000373714 1.69307e-05 0.000122709 2.8539e-05 0.00017089 0.00018187 0.000448902 0.000188497 0.000388597 0.00102005 0.000200722 0.00305688 0.00115292 0.000848695 0.00046208 0.00012145 4.50139e-05 0.000329028 0.000314198 8.07008e-05 7.35454e-05 0.000121244 5.00797e-05 1.52914e-05 0.000401795 5.33135e-05 1.78623e-05 8.38158e-05 0.000183432 0.00703089 0.000172285 0.021136 0.00145294 1.08781e-05 0.00460536 6.44961e-05 0.00010421 0.000221643 0.000399464 9.82541e-05 0.000219663 0.00109963 0.000191807 0.000112492 7.75312e-05 0.000295558 0.000210538 0.000283087 0.00683985 0.000181201 0.00330136 0.000242936 0.000297634 0.000217542 8.89365e-05 0.000393562 4.31555e-05 4.64737e-05 1.34031e-05 4.38985e-05 0.000138802 9.47135e-05 9.89782e-05 \\n',\n",
       " 'StandardOutputUrl': 'https://s3.us-east-2.amazonaws.com/sagemaker-us-east-2-638683464862/DEMO-Sandbox-Sagemaker-Edge/2920a409-46ef-4418-b7fc-b7f6b72659ac/i-00ed8289303d74580/awsrunShellScript/0.awsrunShellScript/stdout',\n",
       " 'StandardErrorContent': '',\n",
       " 'StandardErrorUrl': 'https://s3.us-east-2.amazonaws.com/sagemaker-us-east-2-638683464862/DEMO-Sandbox-Sagemaker-Edge/2920a409-46ef-4418-b7fc-b7f6b72659ac/i-00ed8289303d74580/awsrunShellScript/0.awsrunShellScript/stderr',\n",
       " 'CloudWatchOutputConfig': {'CloudWatchLogGroupName': '',\n",
       "  'CloudWatchOutputEnabled': False},\n",
       " 'ResponseMetadata': {'RequestId': 'b3cc3675-b1ee-48b8-9a55-42645852215c',\n",
       "  'HTTPStatusCode': 200,\n",
       "  'HTTPHeaders': {'server': 'Server',\n",
       "   'date': 'Mon, 22 Mar 2021 07:45:12 GMT',\n",
       "   'content-type': 'application/x-amz-json-1.1',\n",
       "   'content-length': '12815',\n",
       "   'connection': 'keep-alive',\n",
       "   'x-amzn-requestid': 'b3cc3675-b1ee-48b8-9a55-42645852215c'},\n",
       "  'RetryAttempts': 0}}"
      ]
     },
     "execution_count": 50,
     "metadata": {},
     "output_type": "execute_result"
    }
   ],
   "source": [
    "ssm_client.get_command_invocation(\n",
    "    CommandId=keras_predict_out['Command']['CommandId'],\n",
    "    InstanceId=instance_id,\n",
    ")"
   ]
  },
  {
   "cell_type": "markdown",
   "metadata": {},
   "source": [
    "### Model 언로딩\n",
    "\n",
    "모델을 언로드 한 후 향후 'loadModel` API 호출에 동일한 이름을 다시 사용할 수 있습니다."
   ]
  },
  {
   "cell_type": "code",
   "execution_count": 51,
   "metadata": {},
   "outputs": [],
   "source": [
    "# unload_model_out = ssm_client.send_command(\n",
    "#     InstanceIds=[instance_id],\n",
    "#     DocumentName=\"AWS-RunShellScript\",\n",
    "#     OutputS3BucketName=bucket,\n",
    "#     OutputS3KeyPrefix=folder,\n",
    "#     Parameters={\n",
    "#         'commands':[\n",
    "#             \"cd /demo\",\n",
    "#             \"./bin/sagemaker_edge_agent_client_example UnloadModel demo-keras\"\n",
    "#         ]\n",
    "#     }\n",
    "# )"
   ]
  },
  {
   "cell_type": "code",
   "execution_count": 52,
   "metadata": {},
   "outputs": [],
   "source": [
    "# ssm_client.get_command_invocation(\n",
    "#     CommandId=unload_model_out['Command']['CommandId'],\n",
    "#     InstanceId=instance_id,\n",
    "# )"
   ]
  },
  {
   "cell_type": "code",
   "execution_count": null,
   "metadata": {},
   "outputs": [],
   "source": []
  }
 ],
 "metadata": {
  "kernelspec": {
   "display_name": "conda_tensorflow_p36",
   "language": "python",
   "name": "conda_tensorflow_p36"
  },
  "language_info": {
   "codemirror_mode": {
    "name": "ipython",
    "version": 3
   },
   "file_extension": ".py",
   "mimetype": "text/x-python",
   "name": "python",
   "nbconvert_exporter": "python",
   "pygments_lexer": "ipython3",
   "version": "3.6.13"
  }
 },
 "nbformat": 4,
 "nbformat_minor": 4
}
